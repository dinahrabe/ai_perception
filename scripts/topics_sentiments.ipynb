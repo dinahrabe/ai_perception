{
 "cells": [
  {
   "cell_type": "markdown",
   "metadata": {},
   "source": [
    "## Sentiments and topics"
   ]
  },
  {
   "cell_type": "code",
   "execution_count": 1,
   "metadata": {},
   "outputs": [],
   "source": [
    "import pandas as pd\n",
    "topics_df=pd.read_csv('../data/df_with_topics.csv')\n",
    "sentiments_df=pd.read_csv('../data/final_df_sentiments.csv')"
   ]
  },
  {
   "cell_type": "code",
   "execution_count": 2,
   "metadata": {},
   "outputs": [],
   "source": [
    "import datetime\n",
    "topics_df.web_publication_date=pd.to_datetime(topics_df.web_publication_date)"
   ]
  },
  {
   "cell_type": "code",
   "execution_count": 3,
   "metadata": {},
   "outputs": [],
   "source": [
    "sent_topics=pd.merge(topics_df, sentiments_df, how='left', on=[\"Unnamed: 0\",'article_nr', 'sentence', 'wordcount', 'section_name',\n",
    "        'headline', 'web_title', 'production_office', \n",
    "       'publication'])"
   ]
  },
  {
   "cell_type": "code",
   "execution_count": 4,
   "metadata": {},
   "outputs": [],
   "source": [
    "sent_topics=sent_topics.drop(columns=['web_publication_date_y'])"
   ]
  },
  {
   "cell_type": "code",
   "execution_count": 5,
   "metadata": {},
   "outputs": [],
   "source": [
    "#Getting a dataframe with only the relevant topics and years\n",
    "relevant_topics=[3, 13, 18, 22, 24, 25, 27, 29, 32, 33, 40, 42]\n",
    "relevant_topics_df=sent_topics[sent_topics.topic.isin(relevant_topics)]\n",
    "relevant_topics_df=relevant_topics_df[relevant_topics_df.web_publication_date_x > '2013']\n",
    "relevant_topics_df=relevant_topics_df.rename(columns={'web_publication_date_x':'web_publication_date', 'label':'sentiment', 'score':'sentiment_score', 'Unnamed: 0':'sentence_nr'})\n",
    "\n",
    "#Getting a column with the negative of the sentiment score for negative sentiments\n",
    "relevant_topics_df[\"sentiment_score_1\"]=relevant_topics_df.apply(lambda x: x.sentiment_score*(-1) if x.sentiment==\"NEGATIVE\" else x.sentiment_score, axis=1)\n",
    "\n",
    "#Getting a year column\n",
    "import datetime\n",
    "relevant_topics_df[\"year\"]=pd.to_datetime(topics_df.web_publication_date).dt.year"
   ]
  },
  {
   "cell_type": "code",
   "execution_count": 6,
   "metadata": {},
   "outputs": [],
   "source": [
    "#Saving the dataframe\n",
    "relevant_topics_df.to_csv('relevant_topics_df.csv')"
   ]
  },
  {
   "cell_type": "code",
   "execution_count": 7,
   "metadata": {},
   "outputs": [],
   "source": [
    "# grouping by topic and publication office and getting percentages\n",
    "temp=relevant_topics_df.groupby([\"production_office\",\"topic\", \"Name\"]).count().groupby(level=0).apply(lambda x: 100 * x / x.sum()).reset_index()\n",
    "temp=temp.sort_values(by='topic', ascending=False)"
   ]
  },
  {
   "cell_type": "code",
   "execution_count": 8,
   "metadata": {},
   "outputs": [
    {
     "data": {
      "application/vnd.plotly.v1+json": {
       "config": {
        "plotlyServerURL": "https://plot.ly"
       },
       "data": [
        {
         "alignmentgroup": "True",
         "hovertemplate": "production_office=US<br>Percentage of Topics=%{x}<br>Topics=%{y}<extra></extra>",
         "legendgroup": "",
         "marker": {
          "color": "#636efa",
          "pattern": {
           "shape": ""
          }
         },
         "name": "",
         "offsetgroup": "",
         "orientation": "h",
         "showlegend": false,
         "textposition": "auto",
         "type": "bar",
         "x": [
          4.598445595854923,
          2.9792746113989637,
          4.598445595854923,
          14.507772020725389,
          4.7927461139896375,
          10.233160621761659,
          7.772020725388601,
          5.310880829015544,
          2.5906735751295336,
          13.27720207253886,
          8.937823834196891,
          20.401554404145077
         ],
         "xaxis": "x",
         "y": [
          "42_machines_machine_humans_human",
          "40_language_word_words_translation",
          "33_brain_brains_memory_human",
          "32_facial_facial recognition_recognition_faces",
          "29_voice_speech_voices_recognition",
          "27_drones_drone_unmanned_strikes",
          "25_automation_jobs_davos_revolution",
          "24_women_female_engineering_gender",
          "22_turing_alan_alan turing_test",
          "18_algorithms_learning_algorithm_machine learning",
          "13_data_privacy_big data_protection",
          "3_ai_intelligence_artificial_artificial intelligence"
         ],
         "yaxis": "y"
        },
        {
         "alignmentgroup": "True",
         "hovertemplate": "production_office=AUS<br>Percentage of Topics=%{x}<br>Topics=%{y}<extra></extra>",
         "legendgroup": "",
         "marker": {
          "color": "#636efa",
          "pattern": {
           "shape": ""
          }
         },
         "name": "",
         "offsetgroup": "",
         "orientation": "h",
         "showlegend": false,
         "textposition": "auto",
         "type": "bar",
         "x": [
          4.489337822671156,
          6.172839506172839,
          5.836139169472503,
          12.345679012345679,
          3.0303030303030303,
          6.846240179573513,
          15.600448933782268,
          13.019079685746352,
          1.2345679012345678,
          6.621773288439955,
          7.744107744107744,
          17.059483726150393
         ],
         "xaxis": "x2",
         "y": [
          "42_machines_machine_humans_human",
          "40_language_word_words_translation",
          "33_brain_brains_memory_human",
          "32_facial_facial recognition_recognition_faces",
          "29_voice_speech_voices_recognition",
          "27_drones_drone_unmanned_strikes",
          "25_automation_jobs_davos_revolution",
          "24_women_female_engineering_gender",
          "22_turing_alan_alan turing_test",
          "18_algorithms_learning_algorithm_machine learning",
          "13_data_privacy_big data_protection",
          "3_ai_intelligence_artificial_artificial intelligence"
         ],
         "yaxis": "y2"
        },
        {
         "alignmentgroup": "True",
         "hovertemplate": "production_office=UK<br>Percentage of Topics=%{x}<br>Topics=%{y}<extra></extra>",
         "legendgroup": "",
         "marker": {
          "color": "#636efa",
          "pattern": {
           "shape": ""
          }
         },
         "name": "",
         "offsetgroup": "",
         "orientation": "h",
         "showlegend": false,
         "textposition": "auto",
         "type": "bar",
         "x": [
          5.116279069767442,
          5.06572295247725,
          5.6319514661274015,
          5.753286147623863,
          6.248736097067745,
          5.6723963599595555,
          7.421638018200202,
          7.11830131445905,
          5.7027300303336705,
          9.787664307381194,
          12.022244691607684,
          24.459049544994944
         ],
         "xaxis": "x3",
         "y": [
          "42_machines_machine_humans_human",
          "40_language_word_words_translation",
          "33_brain_brains_memory_human",
          "32_facial_facial recognition_recognition_faces",
          "29_voice_speech_voices_recognition",
          "27_drones_drone_unmanned_strikes",
          "25_automation_jobs_davos_revolution",
          "24_women_female_engineering_gender",
          "22_turing_alan_alan turing_test",
          "18_algorithms_learning_algorithm_machine learning",
          "13_data_privacy_big data_protection",
          "3_ai_intelligence_artificial_artificial intelligence"
         ],
         "yaxis": "y3"
        }
       ],
       "layout": {
        "annotations": [
         {
          "font": {},
          "showarrow": false,
          "text": "production_office=US",
          "x": 0.15999999999999998,
          "xanchor": "center",
          "xref": "paper",
          "y": 1,
          "yanchor": "bottom",
          "yref": "paper"
         },
         {
          "font": {},
          "showarrow": false,
          "text": "production_office=AUS",
          "x": 0.49999999999999994,
          "xanchor": "center",
          "xref": "paper",
          "y": 1,
          "yanchor": "bottom",
          "yref": "paper"
         },
         {
          "font": {},
          "showarrow": false,
          "text": "production_office=UK",
          "x": 0.8399999999999999,
          "xanchor": "center",
          "xref": "paper",
          "y": 1,
          "yanchor": "bottom",
          "yref": "paper"
         }
        ],
        "barmode": "relative",
        "height": 500,
        "legend": {
         "tracegroupgap": 0
        },
        "template": {
         "data": {
          "bar": [
           {
            "error_x": {
             "color": "#2a3f5f"
            },
            "error_y": {
             "color": "#2a3f5f"
            },
            "marker": {
             "line": {
              "color": "#E5ECF6",
              "width": 0.5
             },
             "pattern": {
              "fillmode": "overlay",
              "size": 10,
              "solidity": 0.2
             }
            },
            "type": "bar"
           }
          ],
          "barpolar": [
           {
            "marker": {
             "line": {
              "color": "#E5ECF6",
              "width": 0.5
             },
             "pattern": {
              "fillmode": "overlay",
              "size": 10,
              "solidity": 0.2
             }
            },
            "type": "barpolar"
           }
          ],
          "carpet": [
           {
            "aaxis": {
             "endlinecolor": "#2a3f5f",
             "gridcolor": "white",
             "linecolor": "white",
             "minorgridcolor": "white",
             "startlinecolor": "#2a3f5f"
            },
            "baxis": {
             "endlinecolor": "#2a3f5f",
             "gridcolor": "white",
             "linecolor": "white",
             "minorgridcolor": "white",
             "startlinecolor": "#2a3f5f"
            },
            "type": "carpet"
           }
          ],
          "choropleth": [
           {
            "colorbar": {
             "outlinewidth": 0,
             "ticks": ""
            },
            "type": "choropleth"
           }
          ],
          "contour": [
           {
            "colorbar": {
             "outlinewidth": 0,
             "ticks": ""
            },
            "colorscale": [
             [
              0,
              "#0d0887"
             ],
             [
              0.1111111111111111,
              "#46039f"
             ],
             [
              0.2222222222222222,
              "#7201a8"
             ],
             [
              0.3333333333333333,
              "#9c179e"
             ],
             [
              0.4444444444444444,
              "#bd3786"
             ],
             [
              0.5555555555555556,
              "#d8576b"
             ],
             [
              0.6666666666666666,
              "#ed7953"
             ],
             [
              0.7777777777777778,
              "#fb9f3a"
             ],
             [
              0.8888888888888888,
              "#fdca26"
             ],
             [
              1,
              "#f0f921"
             ]
            ],
            "type": "contour"
           }
          ],
          "contourcarpet": [
           {
            "colorbar": {
             "outlinewidth": 0,
             "ticks": ""
            },
            "type": "contourcarpet"
           }
          ],
          "heatmap": [
           {
            "colorbar": {
             "outlinewidth": 0,
             "ticks": ""
            },
            "colorscale": [
             [
              0,
              "#0d0887"
             ],
             [
              0.1111111111111111,
              "#46039f"
             ],
             [
              0.2222222222222222,
              "#7201a8"
             ],
             [
              0.3333333333333333,
              "#9c179e"
             ],
             [
              0.4444444444444444,
              "#bd3786"
             ],
             [
              0.5555555555555556,
              "#d8576b"
             ],
             [
              0.6666666666666666,
              "#ed7953"
             ],
             [
              0.7777777777777778,
              "#fb9f3a"
             ],
             [
              0.8888888888888888,
              "#fdca26"
             ],
             [
              1,
              "#f0f921"
             ]
            ],
            "type": "heatmap"
           }
          ],
          "heatmapgl": [
           {
            "colorbar": {
             "outlinewidth": 0,
             "ticks": ""
            },
            "colorscale": [
             [
              0,
              "#0d0887"
             ],
             [
              0.1111111111111111,
              "#46039f"
             ],
             [
              0.2222222222222222,
              "#7201a8"
             ],
             [
              0.3333333333333333,
              "#9c179e"
             ],
             [
              0.4444444444444444,
              "#bd3786"
             ],
             [
              0.5555555555555556,
              "#d8576b"
             ],
             [
              0.6666666666666666,
              "#ed7953"
             ],
             [
              0.7777777777777778,
              "#fb9f3a"
             ],
             [
              0.8888888888888888,
              "#fdca26"
             ],
             [
              1,
              "#f0f921"
             ]
            ],
            "type": "heatmapgl"
           }
          ],
          "histogram": [
           {
            "marker": {
             "pattern": {
              "fillmode": "overlay",
              "size": 10,
              "solidity": 0.2
             }
            },
            "type": "histogram"
           }
          ],
          "histogram2d": [
           {
            "colorbar": {
             "outlinewidth": 0,
             "ticks": ""
            },
            "colorscale": [
             [
              0,
              "#0d0887"
             ],
             [
              0.1111111111111111,
              "#46039f"
             ],
             [
              0.2222222222222222,
              "#7201a8"
             ],
             [
              0.3333333333333333,
              "#9c179e"
             ],
             [
              0.4444444444444444,
              "#bd3786"
             ],
             [
              0.5555555555555556,
              "#d8576b"
             ],
             [
              0.6666666666666666,
              "#ed7953"
             ],
             [
              0.7777777777777778,
              "#fb9f3a"
             ],
             [
              0.8888888888888888,
              "#fdca26"
             ],
             [
              1,
              "#f0f921"
             ]
            ],
            "type": "histogram2d"
           }
          ],
          "histogram2dcontour": [
           {
            "colorbar": {
             "outlinewidth": 0,
             "ticks": ""
            },
            "colorscale": [
             [
              0,
              "#0d0887"
             ],
             [
              0.1111111111111111,
              "#46039f"
             ],
             [
              0.2222222222222222,
              "#7201a8"
             ],
             [
              0.3333333333333333,
              "#9c179e"
             ],
             [
              0.4444444444444444,
              "#bd3786"
             ],
             [
              0.5555555555555556,
              "#d8576b"
             ],
             [
              0.6666666666666666,
              "#ed7953"
             ],
             [
              0.7777777777777778,
              "#fb9f3a"
             ],
             [
              0.8888888888888888,
              "#fdca26"
             ],
             [
              1,
              "#f0f921"
             ]
            ],
            "type": "histogram2dcontour"
           }
          ],
          "mesh3d": [
           {
            "colorbar": {
             "outlinewidth": 0,
             "ticks": ""
            },
            "type": "mesh3d"
           }
          ],
          "parcoords": [
           {
            "line": {
             "colorbar": {
              "outlinewidth": 0,
              "ticks": ""
             }
            },
            "type": "parcoords"
           }
          ],
          "pie": [
           {
            "automargin": true,
            "type": "pie"
           }
          ],
          "scatter": [
           {
            "fillpattern": {
             "fillmode": "overlay",
             "size": 10,
             "solidity": 0.2
            },
            "type": "scatter"
           }
          ],
          "scatter3d": [
           {
            "line": {
             "colorbar": {
              "outlinewidth": 0,
              "ticks": ""
             }
            },
            "marker": {
             "colorbar": {
              "outlinewidth": 0,
              "ticks": ""
             }
            },
            "type": "scatter3d"
           }
          ],
          "scattercarpet": [
           {
            "marker": {
             "colorbar": {
              "outlinewidth": 0,
              "ticks": ""
             }
            },
            "type": "scattercarpet"
           }
          ],
          "scattergeo": [
           {
            "marker": {
             "colorbar": {
              "outlinewidth": 0,
              "ticks": ""
             }
            },
            "type": "scattergeo"
           }
          ],
          "scattergl": [
           {
            "marker": {
             "colorbar": {
              "outlinewidth": 0,
              "ticks": ""
             }
            },
            "type": "scattergl"
           }
          ],
          "scattermapbox": [
           {
            "marker": {
             "colorbar": {
              "outlinewidth": 0,
              "ticks": ""
             }
            },
            "type": "scattermapbox"
           }
          ],
          "scatterpolar": [
           {
            "marker": {
             "colorbar": {
              "outlinewidth": 0,
              "ticks": ""
             }
            },
            "type": "scatterpolar"
           }
          ],
          "scatterpolargl": [
           {
            "marker": {
             "colorbar": {
              "outlinewidth": 0,
              "ticks": ""
             }
            },
            "type": "scatterpolargl"
           }
          ],
          "scatterternary": [
           {
            "marker": {
             "colorbar": {
              "outlinewidth": 0,
              "ticks": ""
             }
            },
            "type": "scatterternary"
           }
          ],
          "surface": [
           {
            "colorbar": {
             "outlinewidth": 0,
             "ticks": ""
            },
            "colorscale": [
             [
              0,
              "#0d0887"
             ],
             [
              0.1111111111111111,
              "#46039f"
             ],
             [
              0.2222222222222222,
              "#7201a8"
             ],
             [
              0.3333333333333333,
              "#9c179e"
             ],
             [
              0.4444444444444444,
              "#bd3786"
             ],
             [
              0.5555555555555556,
              "#d8576b"
             ],
             [
              0.6666666666666666,
              "#ed7953"
             ],
             [
              0.7777777777777778,
              "#fb9f3a"
             ],
             [
              0.8888888888888888,
              "#fdca26"
             ],
             [
              1,
              "#f0f921"
             ]
            ],
            "type": "surface"
           }
          ],
          "table": [
           {
            "cells": {
             "fill": {
              "color": "#EBF0F8"
             },
             "line": {
              "color": "white"
             }
            },
            "header": {
             "fill": {
              "color": "#C8D4E3"
             },
             "line": {
              "color": "white"
             }
            },
            "type": "table"
           }
          ]
         },
         "layout": {
          "annotationdefaults": {
           "arrowcolor": "#2a3f5f",
           "arrowhead": 0,
           "arrowwidth": 1
          },
          "autotypenumbers": "strict",
          "coloraxis": {
           "colorbar": {
            "outlinewidth": 0,
            "ticks": ""
           }
          },
          "colorscale": {
           "diverging": [
            [
             0,
             "#8e0152"
            ],
            [
             0.1,
             "#c51b7d"
            ],
            [
             0.2,
             "#de77ae"
            ],
            [
             0.3,
             "#f1b6da"
            ],
            [
             0.4,
             "#fde0ef"
            ],
            [
             0.5,
             "#f7f7f7"
            ],
            [
             0.6,
             "#e6f5d0"
            ],
            [
             0.7,
             "#b8e186"
            ],
            [
             0.8,
             "#7fbc41"
            ],
            [
             0.9,
             "#4d9221"
            ],
            [
             1,
             "#276419"
            ]
           ],
           "sequential": [
            [
             0,
             "#0d0887"
            ],
            [
             0.1111111111111111,
             "#46039f"
            ],
            [
             0.2222222222222222,
             "#7201a8"
            ],
            [
             0.3333333333333333,
             "#9c179e"
            ],
            [
             0.4444444444444444,
             "#bd3786"
            ],
            [
             0.5555555555555556,
             "#d8576b"
            ],
            [
             0.6666666666666666,
             "#ed7953"
            ],
            [
             0.7777777777777778,
             "#fb9f3a"
            ],
            [
             0.8888888888888888,
             "#fdca26"
            ],
            [
             1,
             "#f0f921"
            ]
           ],
           "sequentialminus": [
            [
             0,
             "#0d0887"
            ],
            [
             0.1111111111111111,
             "#46039f"
            ],
            [
             0.2222222222222222,
             "#7201a8"
            ],
            [
             0.3333333333333333,
             "#9c179e"
            ],
            [
             0.4444444444444444,
             "#bd3786"
            ],
            [
             0.5555555555555556,
             "#d8576b"
            ],
            [
             0.6666666666666666,
             "#ed7953"
            ],
            [
             0.7777777777777778,
             "#fb9f3a"
            ],
            [
             0.8888888888888888,
             "#fdca26"
            ],
            [
             1,
             "#f0f921"
            ]
           ]
          },
          "colorway": [
           "#636efa",
           "#EF553B",
           "#00cc96",
           "#ab63fa",
           "#FFA15A",
           "#19d3f3",
           "#FF6692",
           "#B6E880",
           "#FF97FF",
           "#FECB52"
          ],
          "font": {
           "color": "#2a3f5f"
          },
          "geo": {
           "bgcolor": "white",
           "lakecolor": "white",
           "landcolor": "#E5ECF6",
           "showlakes": true,
           "showland": true,
           "subunitcolor": "white"
          },
          "hoverlabel": {
           "align": "left"
          },
          "hovermode": "closest",
          "mapbox": {
           "style": "light"
          },
          "paper_bgcolor": "white",
          "plot_bgcolor": "#E5ECF6",
          "polar": {
           "angularaxis": {
            "gridcolor": "white",
            "linecolor": "white",
            "ticks": ""
           },
           "bgcolor": "#E5ECF6",
           "radialaxis": {
            "gridcolor": "white",
            "linecolor": "white",
            "ticks": ""
           }
          },
          "scene": {
           "xaxis": {
            "backgroundcolor": "#E5ECF6",
            "gridcolor": "white",
            "gridwidth": 2,
            "linecolor": "white",
            "showbackground": true,
            "ticks": "",
            "zerolinecolor": "white"
           },
           "yaxis": {
            "backgroundcolor": "#E5ECF6",
            "gridcolor": "white",
            "gridwidth": 2,
            "linecolor": "white",
            "showbackground": true,
            "ticks": "",
            "zerolinecolor": "white"
           },
           "zaxis": {
            "backgroundcolor": "#E5ECF6",
            "gridcolor": "white",
            "gridwidth": 2,
            "linecolor": "white",
            "showbackground": true,
            "ticks": "",
            "zerolinecolor": "white"
           }
          },
          "shapedefaults": {
           "line": {
            "color": "#2a3f5f"
           }
          },
          "ternary": {
           "aaxis": {
            "gridcolor": "white",
            "linecolor": "white",
            "ticks": ""
           },
           "baxis": {
            "gridcolor": "white",
            "linecolor": "white",
            "ticks": ""
           },
           "bgcolor": "#E5ECF6",
           "caxis": {
            "gridcolor": "white",
            "linecolor": "white",
            "ticks": ""
           }
          },
          "title": {
           "x": 0.05
          },
          "xaxis": {
           "automargin": true,
           "gridcolor": "white",
           "linecolor": "white",
           "ticks": "",
           "title": {
            "standoff": 15
           },
           "zerolinecolor": "white",
           "zerolinewidth": 2
          },
          "yaxis": {
           "automargin": true,
           "gridcolor": "white",
           "linecolor": "white",
           "ticks": "",
           "title": {
            "standoff": 15
           },
           "zerolinecolor": "white",
           "zerolinewidth": 2
          }
         }
        },
        "title": {
         "text": "Percentage of Topics per Country.<br><sup> </sup><br><br>"
        },
        "width": 1000,
        "xaxis": {
         "anchor": "y",
         "domain": [
          0,
          0.31999999999999995
         ],
         "title": {
          "text": "Percentage of Topics"
         }
        },
        "xaxis2": {
         "anchor": "y2",
         "domain": [
          0.33999999999999997,
          0.6599999999999999
         ],
         "matches": "x",
         "title": {
          "text": "Percentage of Topics"
         }
        },
        "xaxis3": {
         "anchor": "y3",
         "domain": [
          0.6799999999999999,
          0.9999999999999999
         ],
         "matches": "x",
         "title": {
          "text": "Percentage of Topics"
         }
        },
        "yaxis": {
         "anchor": "x",
         "domain": [
          0,
          1
         ],
         "title": {
          "text": "Topics"
         }
        },
        "yaxis2": {
         "anchor": "x2",
         "domain": [
          0,
          1
         ],
         "matches": "y",
         "showticklabels": false
        },
        "yaxis3": {
         "anchor": "x3",
         "domain": [
          0,
          1
         ],
         "matches": "y",
         "showticklabels": false
        }
       }
      }
     },
     "metadata": {},
     "output_type": "display_data"
    }
   ],
   "source": [
    "import plotly.express as px\n",
    "#Horizontal bar chart\n",
    "fig = px.bar(temp, y=\"Name\", x=\"sentence_nr\", facet_col=\"production_office\", facet_col_wrap=3,orientation='h', \n",
    "        labels=dict(Name=\"Topics\", sentence_nr=\"Percentage of Topics\"),\n",
    "                title=\"Percentage of Topics per Country.<br><sup> </sup><br><br>\",\n",
    "                height= 500, width=1000)\n",
    "                #x=['0','10', '20', '30', '40', '50', '60','70'],\n",
    "                #y=['0','10', '20', '30', '40', '50', '60','70'])\n",
    "\n",
    "fig.write_image(\"outputs/percentage_topics_country.png\")\n",
    "fig.show()"
   ]
  },
  {
   "cell_type": "code",
   "execution_count": 9,
   "metadata": {},
   "outputs": [
    {
     "data": {
      "text/html": [
       "<div>\n",
       "<style scoped>\n",
       "    .dataframe tbody tr th:only-of-type {\n",
       "        vertical-align: middle;\n",
       "    }\n",
       "\n",
       "    .dataframe tbody tr th {\n",
       "        vertical-align: top;\n",
       "    }\n",
       "\n",
       "    .dataframe thead th {\n",
       "        text-align: right;\n",
       "    }\n",
       "</style>\n",
       "<table border=\"1\" class=\"dataframe\">\n",
       "  <thead>\n",
       "    <tr style=\"text-align: right;\">\n",
       "      <th></th>\n",
       "      <th>production_office</th>\n",
       "      <th>topic</th>\n",
       "      <th>Name</th>\n",
       "      <th>weighted_count_topics</th>\n",
       "    </tr>\n",
       "  </thead>\n",
       "  <tbody>\n",
       "    <tr>\n",
       "      <th>35</th>\n",
       "      <td>US</td>\n",
       "      <td>42</td>\n",
       "      <td>42_machines_machine_humans_human</td>\n",
       "      <td>71.0</td>\n",
       "    </tr>\n",
       "    <tr>\n",
       "      <th>11</th>\n",
       "      <td>AUS</td>\n",
       "      <td>42</td>\n",
       "      <td>42_machines_machine_humans_human</td>\n",
       "      <td>40.0</td>\n",
       "    </tr>\n",
       "    <tr>\n",
       "      <th>23</th>\n",
       "      <td>UK</td>\n",
       "      <td>42</td>\n",
       "      <td>42_machines_machine_humans_human</td>\n",
       "      <td>506.0</td>\n",
       "    </tr>\n",
       "    <tr>\n",
       "      <th>34</th>\n",
       "      <td>US</td>\n",
       "      <td>40</td>\n",
       "      <td>40_language_word_words_translation</td>\n",
       "      <td>46.0</td>\n",
       "    </tr>\n",
       "    <tr>\n",
       "      <th>10</th>\n",
       "      <td>AUS</td>\n",
       "      <td>40</td>\n",
       "      <td>40_language_word_words_translation</td>\n",
       "      <td>55.0</td>\n",
       "    </tr>\n",
       "  </tbody>\n",
       "</table>\n",
       "</div>"
      ],
      "text/plain": [
       "   production_office  topic                                Name  \\\n",
       "35                US     42    42_machines_machine_humans_human   \n",
       "11               AUS     42    42_machines_machine_humans_human   \n",
       "23                UK     42    42_machines_machine_humans_human   \n",
       "34                US     40  40_language_word_words_translation   \n",
       "10               AUS     40  40_language_word_words_translation   \n",
       "\n",
       "    weighted_count_topics  \n",
       "35                   71.0  \n",
       "11                   40.0  \n",
       "23                  506.0  \n",
       "34                   46.0  \n",
       "10                   55.0  "
      ]
     },
     "execution_count": 9,
     "metadata": {},
     "output_type": "execute_result"
    }
   ],
   "source": [
    "import numpy as np\n",
    "topics_office=relevant_topics_df.groupby([\"production_office\",\"topic\", \"Name\"]).count().reset_index().rename(columns={'sentence_nr':'number_topics'})\n",
    "#groupby(level=0).apply(lambda x: 100 * x / x.sum()).reset_index()\n",
    "topics_office=topics_office.sort_values(by='topic')\n",
    "\n",
    "weighted_count_topics=lambda x: np.average(x.number_topics, weights=x.Count)\n",
    "average_topics_office=topics_office.groupby([\"production_office\", \"topic\", \"Name\"]).apply(weighted_count_topics).reset_index().rename(columns={0:\"weighted_count_topics\"})\n",
    "#average_dem_year=pd.merge(average_dem_year,vdem_agg_cost, how=\"left\")\n",
    "average_topics_office=average_topics_office.sort_values(by='topic', ascending=False)\n",
    "average_topics_office.head(5)\n"
   ]
  },
  {
   "cell_type": "code",
   "execution_count": 10,
   "metadata": {},
   "outputs": [
    {
     "data": {
      "application/vnd.plotly.v1+json": {
       "config": {
        "plotlyServerURL": "https://plot.ly"
       },
       "data": [
        {
         "alignmentgroup": "True",
         "hovertemplate": "production_office=US<br>Weighted Count=%{x}<br>Topics=%{y}<extra></extra>",
         "legendgroup": "",
         "marker": {
          "color": "#636efa",
          "pattern": {
           "shape": ""
          }
         },
         "name": "",
         "offsetgroup": "",
         "orientation": "h",
         "showlegend": false,
         "textposition": "auto",
         "type": "bar",
         "x": [
          71,
          46,
          71,
          224,
          74,
          158,
          120,
          82,
          40,
          205,
          138,
          315
         ],
         "xaxis": "x",
         "y": [
          "42_machines_machine_humans_human",
          "40_language_word_words_translation",
          "33_brain_brains_memory_human",
          "32_facial_facial recognition_recognition_faces",
          "29_voice_speech_voices_recognition",
          "27_drones_drone_unmanned_strikes",
          "25_automation_jobs_davos_revolution",
          "24_women_female_engineering_gender",
          "22_turing_alan_alan turing_test",
          "18_algorithms_learning_algorithm_machine learning",
          "13_data_privacy_big data_protection",
          "3_ai_intelligence_artificial_artificial intelligence"
         ],
         "yaxis": "y"
        },
        {
         "alignmentgroup": "True",
         "hovertemplate": "production_office=AUS<br>Weighted Count=%{x}<br>Topics=%{y}<extra></extra>",
         "legendgroup": "",
         "marker": {
          "color": "#636efa",
          "pattern": {
           "shape": ""
          }
         },
         "name": "",
         "offsetgroup": "",
         "orientation": "h",
         "showlegend": false,
         "textposition": "auto",
         "type": "bar",
         "x": [
          40,
          55,
          52,
          110,
          27,
          61,
          139,
          116,
          11,
          59,
          69,
          152
         ],
         "xaxis": "x2",
         "y": [
          "42_machines_machine_humans_human",
          "40_language_word_words_translation",
          "33_brain_brains_memory_human",
          "32_facial_facial recognition_recognition_faces",
          "29_voice_speech_voices_recognition",
          "27_drones_drone_unmanned_strikes",
          "25_automation_jobs_davos_revolution",
          "24_women_female_engineering_gender",
          "22_turing_alan_alan turing_test",
          "18_algorithms_learning_algorithm_machine learning",
          "13_data_privacy_big data_protection",
          "3_ai_intelligence_artificial_artificial intelligence"
         ],
         "yaxis": "y2"
        },
        {
         "alignmentgroup": "True",
         "hovertemplate": "production_office=UK<br>Weighted Count=%{x}<br>Topics=%{y}<extra></extra>",
         "legendgroup": "",
         "marker": {
          "color": "#636efa",
          "pattern": {
           "shape": ""
          }
         },
         "name": "",
         "offsetgroup": "",
         "orientation": "h",
         "showlegend": false,
         "textposition": "auto",
         "type": "bar",
         "x": [
          506,
          501,
          557,
          569,
          618,
          561,
          734,
          704,
          564,
          968,
          1189,
          2419
         ],
         "xaxis": "x3",
         "y": [
          "42_machines_machine_humans_human",
          "40_language_word_words_translation",
          "33_brain_brains_memory_human",
          "32_facial_facial recognition_recognition_faces",
          "29_voice_speech_voices_recognition",
          "27_drones_drone_unmanned_strikes",
          "25_automation_jobs_davos_revolution",
          "24_women_female_engineering_gender",
          "22_turing_alan_alan turing_test",
          "18_algorithms_learning_algorithm_machine learning",
          "13_data_privacy_big data_protection",
          "3_ai_intelligence_artificial_artificial intelligence"
         ],
         "yaxis": "y3"
        }
       ],
       "layout": {
        "annotations": [
         {
          "font": {},
          "showarrow": false,
          "text": "production_office=US",
          "x": 0.15999999999999998,
          "xanchor": "center",
          "xref": "paper",
          "y": 1,
          "yanchor": "bottom",
          "yref": "paper"
         },
         {
          "font": {},
          "showarrow": false,
          "text": "production_office=AUS",
          "x": 0.49999999999999994,
          "xanchor": "center",
          "xref": "paper",
          "y": 1,
          "yanchor": "bottom",
          "yref": "paper"
         },
         {
          "font": {},
          "showarrow": false,
          "text": "production_office=UK",
          "x": 0.8399999999999999,
          "xanchor": "center",
          "xref": "paper",
          "y": 1,
          "yanchor": "bottom",
          "yref": "paper"
         }
        ],
        "barmode": "relative",
        "height": 500,
        "legend": {
         "tracegroupgap": 0
        },
        "template": {
         "data": {
          "bar": [
           {
            "error_x": {
             "color": "#2a3f5f"
            },
            "error_y": {
             "color": "#2a3f5f"
            },
            "marker": {
             "line": {
              "color": "#E5ECF6",
              "width": 0.5
             },
             "pattern": {
              "fillmode": "overlay",
              "size": 10,
              "solidity": 0.2
             }
            },
            "type": "bar"
           }
          ],
          "barpolar": [
           {
            "marker": {
             "line": {
              "color": "#E5ECF6",
              "width": 0.5
             },
             "pattern": {
              "fillmode": "overlay",
              "size": 10,
              "solidity": 0.2
             }
            },
            "type": "barpolar"
           }
          ],
          "carpet": [
           {
            "aaxis": {
             "endlinecolor": "#2a3f5f",
             "gridcolor": "white",
             "linecolor": "white",
             "minorgridcolor": "white",
             "startlinecolor": "#2a3f5f"
            },
            "baxis": {
             "endlinecolor": "#2a3f5f",
             "gridcolor": "white",
             "linecolor": "white",
             "minorgridcolor": "white",
             "startlinecolor": "#2a3f5f"
            },
            "type": "carpet"
           }
          ],
          "choropleth": [
           {
            "colorbar": {
             "outlinewidth": 0,
             "ticks": ""
            },
            "type": "choropleth"
           }
          ],
          "contour": [
           {
            "colorbar": {
             "outlinewidth": 0,
             "ticks": ""
            },
            "colorscale": [
             [
              0,
              "#0d0887"
             ],
             [
              0.1111111111111111,
              "#46039f"
             ],
             [
              0.2222222222222222,
              "#7201a8"
             ],
             [
              0.3333333333333333,
              "#9c179e"
             ],
             [
              0.4444444444444444,
              "#bd3786"
             ],
             [
              0.5555555555555556,
              "#d8576b"
             ],
             [
              0.6666666666666666,
              "#ed7953"
             ],
             [
              0.7777777777777778,
              "#fb9f3a"
             ],
             [
              0.8888888888888888,
              "#fdca26"
             ],
             [
              1,
              "#f0f921"
             ]
            ],
            "type": "contour"
           }
          ],
          "contourcarpet": [
           {
            "colorbar": {
             "outlinewidth": 0,
             "ticks": ""
            },
            "type": "contourcarpet"
           }
          ],
          "heatmap": [
           {
            "colorbar": {
             "outlinewidth": 0,
             "ticks": ""
            },
            "colorscale": [
             [
              0,
              "#0d0887"
             ],
             [
              0.1111111111111111,
              "#46039f"
             ],
             [
              0.2222222222222222,
              "#7201a8"
             ],
             [
              0.3333333333333333,
              "#9c179e"
             ],
             [
              0.4444444444444444,
              "#bd3786"
             ],
             [
              0.5555555555555556,
              "#d8576b"
             ],
             [
              0.6666666666666666,
              "#ed7953"
             ],
             [
              0.7777777777777778,
              "#fb9f3a"
             ],
             [
              0.8888888888888888,
              "#fdca26"
             ],
             [
              1,
              "#f0f921"
             ]
            ],
            "type": "heatmap"
           }
          ],
          "heatmapgl": [
           {
            "colorbar": {
             "outlinewidth": 0,
             "ticks": ""
            },
            "colorscale": [
             [
              0,
              "#0d0887"
             ],
             [
              0.1111111111111111,
              "#46039f"
             ],
             [
              0.2222222222222222,
              "#7201a8"
             ],
             [
              0.3333333333333333,
              "#9c179e"
             ],
             [
              0.4444444444444444,
              "#bd3786"
             ],
             [
              0.5555555555555556,
              "#d8576b"
             ],
             [
              0.6666666666666666,
              "#ed7953"
             ],
             [
              0.7777777777777778,
              "#fb9f3a"
             ],
             [
              0.8888888888888888,
              "#fdca26"
             ],
             [
              1,
              "#f0f921"
             ]
            ],
            "type": "heatmapgl"
           }
          ],
          "histogram": [
           {
            "marker": {
             "pattern": {
              "fillmode": "overlay",
              "size": 10,
              "solidity": 0.2
             }
            },
            "type": "histogram"
           }
          ],
          "histogram2d": [
           {
            "colorbar": {
             "outlinewidth": 0,
             "ticks": ""
            },
            "colorscale": [
             [
              0,
              "#0d0887"
             ],
             [
              0.1111111111111111,
              "#46039f"
             ],
             [
              0.2222222222222222,
              "#7201a8"
             ],
             [
              0.3333333333333333,
              "#9c179e"
             ],
             [
              0.4444444444444444,
              "#bd3786"
             ],
             [
              0.5555555555555556,
              "#d8576b"
             ],
             [
              0.6666666666666666,
              "#ed7953"
             ],
             [
              0.7777777777777778,
              "#fb9f3a"
             ],
             [
              0.8888888888888888,
              "#fdca26"
             ],
             [
              1,
              "#f0f921"
             ]
            ],
            "type": "histogram2d"
           }
          ],
          "histogram2dcontour": [
           {
            "colorbar": {
             "outlinewidth": 0,
             "ticks": ""
            },
            "colorscale": [
             [
              0,
              "#0d0887"
             ],
             [
              0.1111111111111111,
              "#46039f"
             ],
             [
              0.2222222222222222,
              "#7201a8"
             ],
             [
              0.3333333333333333,
              "#9c179e"
             ],
             [
              0.4444444444444444,
              "#bd3786"
             ],
             [
              0.5555555555555556,
              "#d8576b"
             ],
             [
              0.6666666666666666,
              "#ed7953"
             ],
             [
              0.7777777777777778,
              "#fb9f3a"
             ],
             [
              0.8888888888888888,
              "#fdca26"
             ],
             [
              1,
              "#f0f921"
             ]
            ],
            "type": "histogram2dcontour"
           }
          ],
          "mesh3d": [
           {
            "colorbar": {
             "outlinewidth": 0,
             "ticks": ""
            },
            "type": "mesh3d"
           }
          ],
          "parcoords": [
           {
            "line": {
             "colorbar": {
              "outlinewidth": 0,
              "ticks": ""
             }
            },
            "type": "parcoords"
           }
          ],
          "pie": [
           {
            "automargin": true,
            "type": "pie"
           }
          ],
          "scatter": [
           {
            "fillpattern": {
             "fillmode": "overlay",
             "size": 10,
             "solidity": 0.2
            },
            "type": "scatter"
           }
          ],
          "scatter3d": [
           {
            "line": {
             "colorbar": {
              "outlinewidth": 0,
              "ticks": ""
             }
            },
            "marker": {
             "colorbar": {
              "outlinewidth": 0,
              "ticks": ""
             }
            },
            "type": "scatter3d"
           }
          ],
          "scattercarpet": [
           {
            "marker": {
             "colorbar": {
              "outlinewidth": 0,
              "ticks": ""
             }
            },
            "type": "scattercarpet"
           }
          ],
          "scattergeo": [
           {
            "marker": {
             "colorbar": {
              "outlinewidth": 0,
              "ticks": ""
             }
            },
            "type": "scattergeo"
           }
          ],
          "scattergl": [
           {
            "marker": {
             "colorbar": {
              "outlinewidth": 0,
              "ticks": ""
             }
            },
            "type": "scattergl"
           }
          ],
          "scattermapbox": [
           {
            "marker": {
             "colorbar": {
              "outlinewidth": 0,
              "ticks": ""
             }
            },
            "type": "scattermapbox"
           }
          ],
          "scatterpolar": [
           {
            "marker": {
             "colorbar": {
              "outlinewidth": 0,
              "ticks": ""
             }
            },
            "type": "scatterpolar"
           }
          ],
          "scatterpolargl": [
           {
            "marker": {
             "colorbar": {
              "outlinewidth": 0,
              "ticks": ""
             }
            },
            "type": "scatterpolargl"
           }
          ],
          "scatterternary": [
           {
            "marker": {
             "colorbar": {
              "outlinewidth": 0,
              "ticks": ""
             }
            },
            "type": "scatterternary"
           }
          ],
          "surface": [
           {
            "colorbar": {
             "outlinewidth": 0,
             "ticks": ""
            },
            "colorscale": [
             [
              0,
              "#0d0887"
             ],
             [
              0.1111111111111111,
              "#46039f"
             ],
             [
              0.2222222222222222,
              "#7201a8"
             ],
             [
              0.3333333333333333,
              "#9c179e"
             ],
             [
              0.4444444444444444,
              "#bd3786"
             ],
             [
              0.5555555555555556,
              "#d8576b"
             ],
             [
              0.6666666666666666,
              "#ed7953"
             ],
             [
              0.7777777777777778,
              "#fb9f3a"
             ],
             [
              0.8888888888888888,
              "#fdca26"
             ],
             [
              1,
              "#f0f921"
             ]
            ],
            "type": "surface"
           }
          ],
          "table": [
           {
            "cells": {
             "fill": {
              "color": "#EBF0F8"
             },
             "line": {
              "color": "white"
             }
            },
            "header": {
             "fill": {
              "color": "#C8D4E3"
             },
             "line": {
              "color": "white"
             }
            },
            "type": "table"
           }
          ]
         },
         "layout": {
          "annotationdefaults": {
           "arrowcolor": "#2a3f5f",
           "arrowhead": 0,
           "arrowwidth": 1
          },
          "autotypenumbers": "strict",
          "coloraxis": {
           "colorbar": {
            "outlinewidth": 0,
            "ticks": ""
           }
          },
          "colorscale": {
           "diverging": [
            [
             0,
             "#8e0152"
            ],
            [
             0.1,
             "#c51b7d"
            ],
            [
             0.2,
             "#de77ae"
            ],
            [
             0.3,
             "#f1b6da"
            ],
            [
             0.4,
             "#fde0ef"
            ],
            [
             0.5,
             "#f7f7f7"
            ],
            [
             0.6,
             "#e6f5d0"
            ],
            [
             0.7,
             "#b8e186"
            ],
            [
             0.8,
             "#7fbc41"
            ],
            [
             0.9,
             "#4d9221"
            ],
            [
             1,
             "#276419"
            ]
           ],
           "sequential": [
            [
             0,
             "#0d0887"
            ],
            [
             0.1111111111111111,
             "#46039f"
            ],
            [
             0.2222222222222222,
             "#7201a8"
            ],
            [
             0.3333333333333333,
             "#9c179e"
            ],
            [
             0.4444444444444444,
             "#bd3786"
            ],
            [
             0.5555555555555556,
             "#d8576b"
            ],
            [
             0.6666666666666666,
             "#ed7953"
            ],
            [
             0.7777777777777778,
             "#fb9f3a"
            ],
            [
             0.8888888888888888,
             "#fdca26"
            ],
            [
             1,
             "#f0f921"
            ]
           ],
           "sequentialminus": [
            [
             0,
             "#0d0887"
            ],
            [
             0.1111111111111111,
             "#46039f"
            ],
            [
             0.2222222222222222,
             "#7201a8"
            ],
            [
             0.3333333333333333,
             "#9c179e"
            ],
            [
             0.4444444444444444,
             "#bd3786"
            ],
            [
             0.5555555555555556,
             "#d8576b"
            ],
            [
             0.6666666666666666,
             "#ed7953"
            ],
            [
             0.7777777777777778,
             "#fb9f3a"
            ],
            [
             0.8888888888888888,
             "#fdca26"
            ],
            [
             1,
             "#f0f921"
            ]
           ]
          },
          "colorway": [
           "#636efa",
           "#EF553B",
           "#00cc96",
           "#ab63fa",
           "#FFA15A",
           "#19d3f3",
           "#FF6692",
           "#B6E880",
           "#FF97FF",
           "#FECB52"
          ],
          "font": {
           "color": "#2a3f5f"
          },
          "geo": {
           "bgcolor": "white",
           "lakecolor": "white",
           "landcolor": "#E5ECF6",
           "showlakes": true,
           "showland": true,
           "subunitcolor": "white"
          },
          "hoverlabel": {
           "align": "left"
          },
          "hovermode": "closest",
          "mapbox": {
           "style": "light"
          },
          "paper_bgcolor": "white",
          "plot_bgcolor": "#E5ECF6",
          "polar": {
           "angularaxis": {
            "gridcolor": "white",
            "linecolor": "white",
            "ticks": ""
           },
           "bgcolor": "#E5ECF6",
           "radialaxis": {
            "gridcolor": "white",
            "linecolor": "white",
            "ticks": ""
           }
          },
          "scene": {
           "xaxis": {
            "backgroundcolor": "#E5ECF6",
            "gridcolor": "white",
            "gridwidth": 2,
            "linecolor": "white",
            "showbackground": true,
            "ticks": "",
            "zerolinecolor": "white"
           },
           "yaxis": {
            "backgroundcolor": "#E5ECF6",
            "gridcolor": "white",
            "gridwidth": 2,
            "linecolor": "white",
            "showbackground": true,
            "ticks": "",
            "zerolinecolor": "white"
           },
           "zaxis": {
            "backgroundcolor": "#E5ECF6",
            "gridcolor": "white",
            "gridwidth": 2,
            "linecolor": "white",
            "showbackground": true,
            "ticks": "",
            "zerolinecolor": "white"
           }
          },
          "shapedefaults": {
           "line": {
            "color": "#2a3f5f"
           }
          },
          "ternary": {
           "aaxis": {
            "gridcolor": "white",
            "linecolor": "white",
            "ticks": ""
           },
           "baxis": {
            "gridcolor": "white",
            "linecolor": "white",
            "ticks": ""
           },
           "bgcolor": "#E5ECF6",
           "caxis": {
            "gridcolor": "white",
            "linecolor": "white",
            "ticks": ""
           }
          },
          "title": {
           "x": 0.05
          },
          "xaxis": {
           "automargin": true,
           "gridcolor": "white",
           "linecolor": "white",
           "ticks": "",
           "title": {
            "standoff": 15
           },
           "zerolinecolor": "white",
           "zerolinewidth": 2
          },
          "yaxis": {
           "automargin": true,
           "gridcolor": "white",
           "linecolor": "white",
           "ticks": "",
           "title": {
            "standoff": 15
           },
           "zerolinecolor": "white",
           "zerolinewidth": 2
          }
         }
        },
        "title": {
         "text": "Weighted Count of Topics per Country.<br><sup> </sup><br><br>"
        },
        "width": 1000,
        "xaxis": {
         "anchor": "y",
         "domain": [
          0,
          0.31999999999999995
         ],
         "title": {
          "text": "Weighted Count"
         }
        },
        "xaxis2": {
         "anchor": "y2",
         "domain": [
          0.33999999999999997,
          0.6599999999999999
         ],
         "matches": "x",
         "title": {
          "text": "Weighted Count"
         }
        },
        "xaxis3": {
         "anchor": "y3",
         "domain": [
          0.6799999999999999,
          0.9999999999999999
         ],
         "matches": "x",
         "title": {
          "text": "Weighted Count"
         }
        },
        "yaxis": {
         "anchor": "x",
         "domain": [
          0,
          1
         ],
         "title": {
          "text": "Topics"
         }
        },
        "yaxis2": {
         "anchor": "x2",
         "domain": [
          0,
          1
         ],
         "matches": "y",
         "showticklabels": false
        },
        "yaxis3": {
         "anchor": "x3",
         "domain": [
          0,
          1
         ],
         "matches": "y",
         "showticklabels": false
        }
       }
      }
     },
     "metadata": {},
     "output_type": "display_data"
    }
   ],
   "source": [
    "import plotly.express as px\n",
    "#Horizontal bar chart\n",
    "fig = px.bar(average_topics_office, y=\"Name\", x=\"weighted_count_topics\", facet_col=\"production_office\", facet_col_wrap=3,orientation='h', \n",
    "        #template=\"ggplot2\",\n",
    "        labels=dict(Name=\"Topics\", weighted_count_topics=\"Weighted Count\"),\n",
    "                title=\"Weighted Count of Topics per Country.<br><sup> </sup><br><br>\",\n",
    "                height= 500, width=1000)\n",
    "                #x=['0','10', '20', '30', '40', '50', '60','70'],\n",
    "                #y=['0','10', '20', '30', '40', '50', '60','70'])\n",
    "fig.write_image(\"outputs/Weighted_topics_country.png\")\n",
    "fig.show()"
   ]
  },
  {
   "cell_type": "code",
   "execution_count": 11,
   "metadata": {},
   "outputs": [],
   "source": [
    "# grouping by topic and publication office and getting average sentiment score\n",
    "sentiments_topics=relevant_topics_df.groupby([\"production_office\",\"topic\", \"Name\"])[\"sentiment_score_1\"].mean().reset_index()\n",
    "#relevant_topics_df.groupby([\"production_office\", \"Name\", \"sentiment\"]).count().groupby(level=0).apply(lambda x: 100 * x / x.sum()).reset_index()\n",
    "sentiments_topics=sentiments_topics.sort_values(by='topic', ascending=False)"
   ]
  },
  {
   "cell_type": "code",
   "execution_count": 12,
   "metadata": {},
   "outputs": [
    {
     "data": {
      "application/vnd.plotly.v1+json": {
       "config": {
        "plotlyServerURL": "https://plot.ly"
       },
       "data": [
        {
         "alignmentgroup": "True",
         "hovertemplate": "production_office=US<br>Sentiment score=%{x}<br>Topics=%{y}<extra></extra>",
         "legendgroup": "",
         "marker": {
          "color": "#636efa",
          "pattern": {
           "shape": ""
          }
         },
         "name": "",
         "offsetgroup": "",
         "orientation": "h",
         "showlegend": false,
         "textposition": "auto",
         "type": "bar",
         "x": [
          0.01671265464433481,
          -0.1803120633830195,
          0.4663950028553815,
          -0.29478759079107214,
          -0.10765155827676928,
          -0.17698045433322085,
          -0.05734031399091085,
          0.07286374961457602,
          0.3431035116314888,
          -0.07715092286830996,
          -0.047282291495281716,
          -0.07911895437846109
         ],
         "xaxis": "x",
         "y": [
          "42_machines_machine_humans_human",
          "40_language_word_words_translation",
          "33_brain_brains_memory_human",
          "32_facial_facial recognition_recognition_faces",
          "29_voice_speech_voices_recognition",
          "27_drones_drone_unmanned_strikes",
          "25_automation_jobs_davos_revolution",
          "24_women_female_engineering_gender",
          "22_turing_alan_alan turing_test",
          "18_algorithms_learning_algorithm_machine learning",
          "13_data_privacy_big data_protection",
          "3_ai_intelligence_artificial_artificial intelligence"
         ],
         "yaxis": "y"
        },
        {
         "alignmentgroup": "True",
         "hovertemplate": "production_office=AUS<br>Sentiment score=%{x}<br>Topics=%{y}<extra></extra>",
         "legendgroup": "",
         "marker": {
          "color": "#636efa",
          "pattern": {
           "shape": ""
          }
         },
         "name": "",
         "offsetgroup": "",
         "orientation": "h",
         "showlegend": false,
         "textposition": "auto",
         "type": "bar",
         "x": [
          0.10094867944717408,
          0.12442739551717587,
          0.38496797589155346,
          -0.22830867821520026,
          0.26172262209433095,
          0.3011964676810093,
          0.12289213533881757,
          0.2587948164035534,
          0.4506248181516474,
          -0.02639157287145065,
          -0.13071864929752072,
          0.08267087293298621
         ],
         "xaxis": "x2",
         "y": [
          "42_machines_machine_humans_human",
          "40_language_word_words_translation",
          "33_brain_brains_memory_human",
          "32_facial_facial recognition_recognition_faces",
          "29_voice_speech_voices_recognition",
          "27_drones_drone_unmanned_strikes",
          "25_automation_jobs_davos_revolution",
          "24_women_female_engineering_gender",
          "22_turing_alan_alan turing_test",
          "18_algorithms_learning_algorithm_machine learning",
          "13_data_privacy_big data_protection",
          "3_ai_intelligence_artificial_artificial intelligence"
         ],
         "yaxis": "y2"
        },
        {
         "alignmentgroup": "True",
         "hovertemplate": "production_office=UK<br>Sentiment score=%{x}<br>Topics=%{y}<extra></extra>",
         "legendgroup": "",
         "marker": {
          "color": "#636efa",
          "pattern": {
           "shape": ""
          }
         },
         "name": "",
         "offsetgroup": "",
         "orientation": "h",
         "showlegend": false,
         "textposition": "auto",
         "type": "bar",
         "x": [
          -0.061209476748002846,
          0.10028978985940624,
          0.34486135085994507,
          -0.1269480097901423,
          0.3110548826868866,
          0.0716634760353442,
          0.1597044096818087,
          0.17429392158307813,
          0.3968530371256754,
          -0.05136722018403455,
          0.06787298240011935,
          0.24567156184946717
         ],
         "xaxis": "x3",
         "y": [
          "42_machines_machine_humans_human",
          "40_language_word_words_translation",
          "33_brain_brains_memory_human",
          "32_facial_facial recognition_recognition_faces",
          "29_voice_speech_voices_recognition",
          "27_drones_drone_unmanned_strikes",
          "25_automation_jobs_davos_revolution",
          "24_women_female_engineering_gender",
          "22_turing_alan_alan turing_test",
          "18_algorithms_learning_algorithm_machine learning",
          "13_data_privacy_big data_protection",
          "3_ai_intelligence_artificial_artificial intelligence"
         ],
         "yaxis": "y3"
        }
       ],
       "layout": {
        "annotations": [
         {
          "font": {},
          "showarrow": false,
          "text": "production_office=US",
          "x": 0.15999999999999998,
          "xanchor": "center",
          "xref": "paper",
          "y": 1,
          "yanchor": "bottom",
          "yref": "paper"
         },
         {
          "font": {},
          "showarrow": false,
          "text": "production_office=AUS",
          "x": 0.49999999999999994,
          "xanchor": "center",
          "xref": "paper",
          "y": 1,
          "yanchor": "bottom",
          "yref": "paper"
         },
         {
          "font": {},
          "showarrow": false,
          "text": "production_office=UK",
          "x": 0.8399999999999999,
          "xanchor": "center",
          "xref": "paper",
          "y": 1,
          "yanchor": "bottom",
          "yref": "paper"
         }
        ],
        "barmode": "relative",
        "height": 500,
        "legend": {
         "tracegroupgap": 0
        },
        "template": {
         "data": {
          "bar": [
           {
            "error_x": {
             "color": "#2a3f5f"
            },
            "error_y": {
             "color": "#2a3f5f"
            },
            "marker": {
             "line": {
              "color": "#E5ECF6",
              "width": 0.5
             },
             "pattern": {
              "fillmode": "overlay",
              "size": 10,
              "solidity": 0.2
             }
            },
            "type": "bar"
           }
          ],
          "barpolar": [
           {
            "marker": {
             "line": {
              "color": "#E5ECF6",
              "width": 0.5
             },
             "pattern": {
              "fillmode": "overlay",
              "size": 10,
              "solidity": 0.2
             }
            },
            "type": "barpolar"
           }
          ],
          "carpet": [
           {
            "aaxis": {
             "endlinecolor": "#2a3f5f",
             "gridcolor": "white",
             "linecolor": "white",
             "minorgridcolor": "white",
             "startlinecolor": "#2a3f5f"
            },
            "baxis": {
             "endlinecolor": "#2a3f5f",
             "gridcolor": "white",
             "linecolor": "white",
             "minorgridcolor": "white",
             "startlinecolor": "#2a3f5f"
            },
            "type": "carpet"
           }
          ],
          "choropleth": [
           {
            "colorbar": {
             "outlinewidth": 0,
             "ticks": ""
            },
            "type": "choropleth"
           }
          ],
          "contour": [
           {
            "colorbar": {
             "outlinewidth": 0,
             "ticks": ""
            },
            "colorscale": [
             [
              0,
              "#0d0887"
             ],
             [
              0.1111111111111111,
              "#46039f"
             ],
             [
              0.2222222222222222,
              "#7201a8"
             ],
             [
              0.3333333333333333,
              "#9c179e"
             ],
             [
              0.4444444444444444,
              "#bd3786"
             ],
             [
              0.5555555555555556,
              "#d8576b"
             ],
             [
              0.6666666666666666,
              "#ed7953"
             ],
             [
              0.7777777777777778,
              "#fb9f3a"
             ],
             [
              0.8888888888888888,
              "#fdca26"
             ],
             [
              1,
              "#f0f921"
             ]
            ],
            "type": "contour"
           }
          ],
          "contourcarpet": [
           {
            "colorbar": {
             "outlinewidth": 0,
             "ticks": ""
            },
            "type": "contourcarpet"
           }
          ],
          "heatmap": [
           {
            "colorbar": {
             "outlinewidth": 0,
             "ticks": ""
            },
            "colorscale": [
             [
              0,
              "#0d0887"
             ],
             [
              0.1111111111111111,
              "#46039f"
             ],
             [
              0.2222222222222222,
              "#7201a8"
             ],
             [
              0.3333333333333333,
              "#9c179e"
             ],
             [
              0.4444444444444444,
              "#bd3786"
             ],
             [
              0.5555555555555556,
              "#d8576b"
             ],
             [
              0.6666666666666666,
              "#ed7953"
             ],
             [
              0.7777777777777778,
              "#fb9f3a"
             ],
             [
              0.8888888888888888,
              "#fdca26"
             ],
             [
              1,
              "#f0f921"
             ]
            ],
            "type": "heatmap"
           }
          ],
          "heatmapgl": [
           {
            "colorbar": {
             "outlinewidth": 0,
             "ticks": ""
            },
            "colorscale": [
             [
              0,
              "#0d0887"
             ],
             [
              0.1111111111111111,
              "#46039f"
             ],
             [
              0.2222222222222222,
              "#7201a8"
             ],
             [
              0.3333333333333333,
              "#9c179e"
             ],
             [
              0.4444444444444444,
              "#bd3786"
             ],
             [
              0.5555555555555556,
              "#d8576b"
             ],
             [
              0.6666666666666666,
              "#ed7953"
             ],
             [
              0.7777777777777778,
              "#fb9f3a"
             ],
             [
              0.8888888888888888,
              "#fdca26"
             ],
             [
              1,
              "#f0f921"
             ]
            ],
            "type": "heatmapgl"
           }
          ],
          "histogram": [
           {
            "marker": {
             "pattern": {
              "fillmode": "overlay",
              "size": 10,
              "solidity": 0.2
             }
            },
            "type": "histogram"
           }
          ],
          "histogram2d": [
           {
            "colorbar": {
             "outlinewidth": 0,
             "ticks": ""
            },
            "colorscale": [
             [
              0,
              "#0d0887"
             ],
             [
              0.1111111111111111,
              "#46039f"
             ],
             [
              0.2222222222222222,
              "#7201a8"
             ],
             [
              0.3333333333333333,
              "#9c179e"
             ],
             [
              0.4444444444444444,
              "#bd3786"
             ],
             [
              0.5555555555555556,
              "#d8576b"
             ],
             [
              0.6666666666666666,
              "#ed7953"
             ],
             [
              0.7777777777777778,
              "#fb9f3a"
             ],
             [
              0.8888888888888888,
              "#fdca26"
             ],
             [
              1,
              "#f0f921"
             ]
            ],
            "type": "histogram2d"
           }
          ],
          "histogram2dcontour": [
           {
            "colorbar": {
             "outlinewidth": 0,
             "ticks": ""
            },
            "colorscale": [
             [
              0,
              "#0d0887"
             ],
             [
              0.1111111111111111,
              "#46039f"
             ],
             [
              0.2222222222222222,
              "#7201a8"
             ],
             [
              0.3333333333333333,
              "#9c179e"
             ],
             [
              0.4444444444444444,
              "#bd3786"
             ],
             [
              0.5555555555555556,
              "#d8576b"
             ],
             [
              0.6666666666666666,
              "#ed7953"
             ],
             [
              0.7777777777777778,
              "#fb9f3a"
             ],
             [
              0.8888888888888888,
              "#fdca26"
             ],
             [
              1,
              "#f0f921"
             ]
            ],
            "type": "histogram2dcontour"
           }
          ],
          "mesh3d": [
           {
            "colorbar": {
             "outlinewidth": 0,
             "ticks": ""
            },
            "type": "mesh3d"
           }
          ],
          "parcoords": [
           {
            "line": {
             "colorbar": {
              "outlinewidth": 0,
              "ticks": ""
             }
            },
            "type": "parcoords"
           }
          ],
          "pie": [
           {
            "automargin": true,
            "type": "pie"
           }
          ],
          "scatter": [
           {
            "fillpattern": {
             "fillmode": "overlay",
             "size": 10,
             "solidity": 0.2
            },
            "type": "scatter"
           }
          ],
          "scatter3d": [
           {
            "line": {
             "colorbar": {
              "outlinewidth": 0,
              "ticks": ""
             }
            },
            "marker": {
             "colorbar": {
              "outlinewidth": 0,
              "ticks": ""
             }
            },
            "type": "scatter3d"
           }
          ],
          "scattercarpet": [
           {
            "marker": {
             "colorbar": {
              "outlinewidth": 0,
              "ticks": ""
             }
            },
            "type": "scattercarpet"
           }
          ],
          "scattergeo": [
           {
            "marker": {
             "colorbar": {
              "outlinewidth": 0,
              "ticks": ""
             }
            },
            "type": "scattergeo"
           }
          ],
          "scattergl": [
           {
            "marker": {
             "colorbar": {
              "outlinewidth": 0,
              "ticks": ""
             }
            },
            "type": "scattergl"
           }
          ],
          "scattermapbox": [
           {
            "marker": {
             "colorbar": {
              "outlinewidth": 0,
              "ticks": ""
             }
            },
            "type": "scattermapbox"
           }
          ],
          "scatterpolar": [
           {
            "marker": {
             "colorbar": {
              "outlinewidth": 0,
              "ticks": ""
             }
            },
            "type": "scatterpolar"
           }
          ],
          "scatterpolargl": [
           {
            "marker": {
             "colorbar": {
              "outlinewidth": 0,
              "ticks": ""
             }
            },
            "type": "scatterpolargl"
           }
          ],
          "scatterternary": [
           {
            "marker": {
             "colorbar": {
              "outlinewidth": 0,
              "ticks": ""
             }
            },
            "type": "scatterternary"
           }
          ],
          "surface": [
           {
            "colorbar": {
             "outlinewidth": 0,
             "ticks": ""
            },
            "colorscale": [
             [
              0,
              "#0d0887"
             ],
             [
              0.1111111111111111,
              "#46039f"
             ],
             [
              0.2222222222222222,
              "#7201a8"
             ],
             [
              0.3333333333333333,
              "#9c179e"
             ],
             [
              0.4444444444444444,
              "#bd3786"
             ],
             [
              0.5555555555555556,
              "#d8576b"
             ],
             [
              0.6666666666666666,
              "#ed7953"
             ],
             [
              0.7777777777777778,
              "#fb9f3a"
             ],
             [
              0.8888888888888888,
              "#fdca26"
             ],
             [
              1,
              "#f0f921"
             ]
            ],
            "type": "surface"
           }
          ],
          "table": [
           {
            "cells": {
             "fill": {
              "color": "#EBF0F8"
             },
             "line": {
              "color": "white"
             }
            },
            "header": {
             "fill": {
              "color": "#C8D4E3"
             },
             "line": {
              "color": "white"
             }
            },
            "type": "table"
           }
          ]
         },
         "layout": {
          "annotationdefaults": {
           "arrowcolor": "#2a3f5f",
           "arrowhead": 0,
           "arrowwidth": 1
          },
          "autotypenumbers": "strict",
          "coloraxis": {
           "colorbar": {
            "outlinewidth": 0,
            "ticks": ""
           }
          },
          "colorscale": {
           "diverging": [
            [
             0,
             "#8e0152"
            ],
            [
             0.1,
             "#c51b7d"
            ],
            [
             0.2,
             "#de77ae"
            ],
            [
             0.3,
             "#f1b6da"
            ],
            [
             0.4,
             "#fde0ef"
            ],
            [
             0.5,
             "#f7f7f7"
            ],
            [
             0.6,
             "#e6f5d0"
            ],
            [
             0.7,
             "#b8e186"
            ],
            [
             0.8,
             "#7fbc41"
            ],
            [
             0.9,
             "#4d9221"
            ],
            [
             1,
             "#276419"
            ]
           ],
           "sequential": [
            [
             0,
             "#0d0887"
            ],
            [
             0.1111111111111111,
             "#46039f"
            ],
            [
             0.2222222222222222,
             "#7201a8"
            ],
            [
             0.3333333333333333,
             "#9c179e"
            ],
            [
             0.4444444444444444,
             "#bd3786"
            ],
            [
             0.5555555555555556,
             "#d8576b"
            ],
            [
             0.6666666666666666,
             "#ed7953"
            ],
            [
             0.7777777777777778,
             "#fb9f3a"
            ],
            [
             0.8888888888888888,
             "#fdca26"
            ],
            [
             1,
             "#f0f921"
            ]
           ],
           "sequentialminus": [
            [
             0,
             "#0d0887"
            ],
            [
             0.1111111111111111,
             "#46039f"
            ],
            [
             0.2222222222222222,
             "#7201a8"
            ],
            [
             0.3333333333333333,
             "#9c179e"
            ],
            [
             0.4444444444444444,
             "#bd3786"
            ],
            [
             0.5555555555555556,
             "#d8576b"
            ],
            [
             0.6666666666666666,
             "#ed7953"
            ],
            [
             0.7777777777777778,
             "#fb9f3a"
            ],
            [
             0.8888888888888888,
             "#fdca26"
            ],
            [
             1,
             "#f0f921"
            ]
           ]
          },
          "colorway": [
           "#636efa",
           "#EF553B",
           "#00cc96",
           "#ab63fa",
           "#FFA15A",
           "#19d3f3",
           "#FF6692",
           "#B6E880",
           "#FF97FF",
           "#FECB52"
          ],
          "font": {
           "color": "#2a3f5f"
          },
          "geo": {
           "bgcolor": "white",
           "lakecolor": "white",
           "landcolor": "#E5ECF6",
           "showlakes": true,
           "showland": true,
           "subunitcolor": "white"
          },
          "hoverlabel": {
           "align": "left"
          },
          "hovermode": "closest",
          "mapbox": {
           "style": "light"
          },
          "paper_bgcolor": "white",
          "plot_bgcolor": "#E5ECF6",
          "polar": {
           "angularaxis": {
            "gridcolor": "white",
            "linecolor": "white",
            "ticks": ""
           },
           "bgcolor": "#E5ECF6",
           "radialaxis": {
            "gridcolor": "white",
            "linecolor": "white",
            "ticks": ""
           }
          },
          "scene": {
           "xaxis": {
            "backgroundcolor": "#E5ECF6",
            "gridcolor": "white",
            "gridwidth": 2,
            "linecolor": "white",
            "showbackground": true,
            "ticks": "",
            "zerolinecolor": "white"
           },
           "yaxis": {
            "backgroundcolor": "#E5ECF6",
            "gridcolor": "white",
            "gridwidth": 2,
            "linecolor": "white",
            "showbackground": true,
            "ticks": "",
            "zerolinecolor": "white"
           },
           "zaxis": {
            "backgroundcolor": "#E5ECF6",
            "gridcolor": "white",
            "gridwidth": 2,
            "linecolor": "white",
            "showbackground": true,
            "ticks": "",
            "zerolinecolor": "white"
           }
          },
          "shapedefaults": {
           "line": {
            "color": "#2a3f5f"
           }
          },
          "ternary": {
           "aaxis": {
            "gridcolor": "white",
            "linecolor": "white",
            "ticks": ""
           },
           "baxis": {
            "gridcolor": "white",
            "linecolor": "white",
            "ticks": ""
           },
           "bgcolor": "#E5ECF6",
           "caxis": {
            "gridcolor": "white",
            "linecolor": "white",
            "ticks": ""
           }
          },
          "title": {
           "x": 0.05
          },
          "xaxis": {
           "automargin": true,
           "gridcolor": "white",
           "linecolor": "white",
           "ticks": "",
           "title": {
            "standoff": 15
           },
           "zerolinecolor": "white",
           "zerolinewidth": 2
          },
          "yaxis": {
           "automargin": true,
           "gridcolor": "white",
           "linecolor": "white",
           "ticks": "",
           "title": {
            "standoff": 15
           },
           "zerolinecolor": "white",
           "zerolinewidth": 2
          }
         }
        },
        "title": {
         "text": "Sentiments per topic and country."
        },
        "width": 1000,
        "xaxis": {
         "anchor": "y",
         "domain": [
          0,
          0.31999999999999995
         ],
         "title": {
          "text": "Sentiment score"
         }
        },
        "xaxis2": {
         "anchor": "y2",
         "domain": [
          0.33999999999999997,
          0.6599999999999999
         ],
         "matches": "x",
         "title": {
          "text": "Sentiment score"
         }
        },
        "xaxis3": {
         "anchor": "y3",
         "domain": [
          0.6799999999999999,
          0.9999999999999999
         ],
         "matches": "x",
         "title": {
          "text": "Sentiment score"
         }
        },
        "yaxis": {
         "anchor": "x",
         "domain": [
          0,
          1
         ],
         "title": {
          "text": "Topics"
         }
        },
        "yaxis2": {
         "anchor": "x2",
         "domain": [
          0,
          1
         ],
         "matches": "y",
         "showticklabels": false
        },
        "yaxis3": {
         "anchor": "x3",
         "domain": [
          0,
          1
         ],
         "matches": "y",
         "showticklabels": false
        }
       }
      }
     },
     "metadata": {},
     "output_type": "display_data"
    }
   ],
   "source": [
    "import plotly.express as px\n",
    "#Horizontal bar chart\n",
    "fig = px.bar(sentiments_topics, y=\"Name\", x=\"sentiment_score_1\", facet_col=\"production_office\", facet_col_wrap=3,orientation='h', \n",
    "        #template=\"ggplot2\", \n",
    "        labels=dict(Name=\"Topics\", sentiment_score_1=\"Sentiment score\"),\n",
    "                title=\"Sentiments per topic and country.\",\n",
    "                height= 500, width=1000)\n",
    "fig.write_image(\"outputs/sentiment_per_topic.png\")\n",
    "fig.show()"
   ]
  },
  {
   "cell_type": "code",
   "execution_count": 13,
   "metadata": {},
   "outputs": [],
   "source": [
    "# grouping by topic and publication office and getting average sentiment score\n",
    "sentiments_topics_year=relevant_topics_df.groupby([\"year\",\"production_office\"])[\"sentiment_score_1\"].mean().reset_index()\n",
    "#relevant_topics_df.groupby([\"production_office\", \"Name\", \"sentiment\"]).count().groupby(level=0).apply(lambda x: 100 * x / x.sum()).reset_index()\n"
   ]
  },
  {
   "cell_type": "code",
   "execution_count": 16,
   "metadata": {},
   "outputs": [
    {
     "data": {
      "application/vnd.plotly.v1+json": {
       "config": {
        "plotlyServerURL": "https://plot.ly"
       },
       "data": [
        {
         "alignmentgroup": "True",
         "hovertemplate": "production_office=AUS<br>Year=%{x}<br>Sentiment Score=%{y}<extra></extra>",
         "legendgroup": "",
         "marker": {
          "color": "#636efa",
          "pattern": {
           "shape": ""
          }
         },
         "name": "",
         "offsetgroup": "",
         "orientation": "v",
         "showlegend": false,
         "textposition": "auto",
         "type": "bar",
         "x": [
          2013,
          2014,
          2015,
          2016,
          2017,
          2018,
          2019,
          2020,
          2021,
          2022
         ],
         "xaxis": "x",
         "y": [
          0.9988664388656616,
          -0.5531875226232741,
          -0.40973746180534365,
          0.30711822226209545,
          -0.0502780338730475,
          -0.11272709369659424,
          -0.04478002703467081,
          0.2683534324169159,
          0.10441288846061829,
          0.11325020322928557
         ],
         "yaxis": "y"
        },
        {
         "alignmentgroup": "True",
         "hovertemplate": "production_office=UK<br>Year=%{x}<br>Sentiment Score=%{y}<extra></extra>",
         "legendgroup": "",
         "marker": {
          "color": "#636efa",
          "pattern": {
           "shape": ""
          }
         },
         "name": "",
         "offsetgroup": "",
         "orientation": "v",
         "showlegend": false,
         "textposition": "auto",
         "type": "bar",
         "x": [
          2013,
          2014,
          2015,
          2016,
          2017,
          2018,
          2019,
          2020,
          2021,
          2022
         ],
         "xaxis": "x2",
         "y": [
          0.2010108899166234,
          0.20758890451144563,
          0.2172990572161791,
          0.19494097178995012,
          0.19022927269977646,
          0.16091752308868243,
          0.06990149071980703,
          0.07793739043674233,
          0.08445982057049513,
          0.03367534385766644
         ],
         "yaxis": "y2"
        },
        {
         "alignmentgroup": "True",
         "hovertemplate": "production_office=US<br>Year=%{x}<br>Sentiment Score=%{y}<extra></extra>",
         "legendgroup": "",
         "marker": {
          "color": "#636efa",
          "pattern": {
           "shape": ""
          }
         },
         "name": "",
         "offsetgroup": "",
         "orientation": "v",
         "showlegend": false,
         "textposition": "auto",
         "type": "bar",
         "x": [
          2014,
          2015,
          2016,
          2017,
          2018,
          2019,
          2020,
          2021,
          2022
         ],
         "xaxis": "x3",
         "y": [
          0.13838488111893332,
          0.33875700533390046,
          0.13271768825471134,
          0.007067090994574026,
          -0.15718582801099093,
          -0.0644426843980803,
          -0.15459451465045704,
          -0.2834171972955976,
          -0.2309887748498183
         ],
         "yaxis": "y3"
        }
       ],
       "layout": {
        "annotations": [
         {
          "font": {},
          "showarrow": false,
          "text": "production_office=AUS",
          "x": 0.15999999999999998,
          "xanchor": "center",
          "xref": "paper",
          "y": 1,
          "yanchor": "bottom",
          "yref": "paper"
         },
         {
          "font": {},
          "showarrow": false,
          "text": "production_office=UK",
          "x": 0.49999999999999994,
          "xanchor": "center",
          "xref": "paper",
          "y": 1,
          "yanchor": "bottom",
          "yref": "paper"
         },
         {
          "font": {},
          "showarrow": false,
          "text": "production_office=US",
          "x": 0.8399999999999999,
          "xanchor": "center",
          "xref": "paper",
          "y": 1,
          "yanchor": "bottom",
          "yref": "paper"
         }
        ],
        "barmode": "relative",
        "legend": {
         "tracegroupgap": 0
        },
        "template": {
         "data": {
          "bar": [
           {
            "error_x": {
             "color": "#2a3f5f"
            },
            "error_y": {
             "color": "#2a3f5f"
            },
            "marker": {
             "line": {
              "color": "#E5ECF6",
              "width": 0.5
             },
             "pattern": {
              "fillmode": "overlay",
              "size": 10,
              "solidity": 0.2
             }
            },
            "type": "bar"
           }
          ],
          "barpolar": [
           {
            "marker": {
             "line": {
              "color": "#E5ECF6",
              "width": 0.5
             },
             "pattern": {
              "fillmode": "overlay",
              "size": 10,
              "solidity": 0.2
             }
            },
            "type": "barpolar"
           }
          ],
          "carpet": [
           {
            "aaxis": {
             "endlinecolor": "#2a3f5f",
             "gridcolor": "white",
             "linecolor": "white",
             "minorgridcolor": "white",
             "startlinecolor": "#2a3f5f"
            },
            "baxis": {
             "endlinecolor": "#2a3f5f",
             "gridcolor": "white",
             "linecolor": "white",
             "minorgridcolor": "white",
             "startlinecolor": "#2a3f5f"
            },
            "type": "carpet"
           }
          ],
          "choropleth": [
           {
            "colorbar": {
             "outlinewidth": 0,
             "ticks": ""
            },
            "type": "choropleth"
           }
          ],
          "contour": [
           {
            "colorbar": {
             "outlinewidth": 0,
             "ticks": ""
            },
            "colorscale": [
             [
              0,
              "#0d0887"
             ],
             [
              0.1111111111111111,
              "#46039f"
             ],
             [
              0.2222222222222222,
              "#7201a8"
             ],
             [
              0.3333333333333333,
              "#9c179e"
             ],
             [
              0.4444444444444444,
              "#bd3786"
             ],
             [
              0.5555555555555556,
              "#d8576b"
             ],
             [
              0.6666666666666666,
              "#ed7953"
             ],
             [
              0.7777777777777778,
              "#fb9f3a"
             ],
             [
              0.8888888888888888,
              "#fdca26"
             ],
             [
              1,
              "#f0f921"
             ]
            ],
            "type": "contour"
           }
          ],
          "contourcarpet": [
           {
            "colorbar": {
             "outlinewidth": 0,
             "ticks": ""
            },
            "type": "contourcarpet"
           }
          ],
          "heatmap": [
           {
            "colorbar": {
             "outlinewidth": 0,
             "ticks": ""
            },
            "colorscale": [
             [
              0,
              "#0d0887"
             ],
             [
              0.1111111111111111,
              "#46039f"
             ],
             [
              0.2222222222222222,
              "#7201a8"
             ],
             [
              0.3333333333333333,
              "#9c179e"
             ],
             [
              0.4444444444444444,
              "#bd3786"
             ],
             [
              0.5555555555555556,
              "#d8576b"
             ],
             [
              0.6666666666666666,
              "#ed7953"
             ],
             [
              0.7777777777777778,
              "#fb9f3a"
             ],
             [
              0.8888888888888888,
              "#fdca26"
             ],
             [
              1,
              "#f0f921"
             ]
            ],
            "type": "heatmap"
           }
          ],
          "heatmapgl": [
           {
            "colorbar": {
             "outlinewidth": 0,
             "ticks": ""
            },
            "colorscale": [
             [
              0,
              "#0d0887"
             ],
             [
              0.1111111111111111,
              "#46039f"
             ],
             [
              0.2222222222222222,
              "#7201a8"
             ],
             [
              0.3333333333333333,
              "#9c179e"
             ],
             [
              0.4444444444444444,
              "#bd3786"
             ],
             [
              0.5555555555555556,
              "#d8576b"
             ],
             [
              0.6666666666666666,
              "#ed7953"
             ],
             [
              0.7777777777777778,
              "#fb9f3a"
             ],
             [
              0.8888888888888888,
              "#fdca26"
             ],
             [
              1,
              "#f0f921"
             ]
            ],
            "type": "heatmapgl"
           }
          ],
          "histogram": [
           {
            "marker": {
             "pattern": {
              "fillmode": "overlay",
              "size": 10,
              "solidity": 0.2
             }
            },
            "type": "histogram"
           }
          ],
          "histogram2d": [
           {
            "colorbar": {
             "outlinewidth": 0,
             "ticks": ""
            },
            "colorscale": [
             [
              0,
              "#0d0887"
             ],
             [
              0.1111111111111111,
              "#46039f"
             ],
             [
              0.2222222222222222,
              "#7201a8"
             ],
             [
              0.3333333333333333,
              "#9c179e"
             ],
             [
              0.4444444444444444,
              "#bd3786"
             ],
             [
              0.5555555555555556,
              "#d8576b"
             ],
             [
              0.6666666666666666,
              "#ed7953"
             ],
             [
              0.7777777777777778,
              "#fb9f3a"
             ],
             [
              0.8888888888888888,
              "#fdca26"
             ],
             [
              1,
              "#f0f921"
             ]
            ],
            "type": "histogram2d"
           }
          ],
          "histogram2dcontour": [
           {
            "colorbar": {
             "outlinewidth": 0,
             "ticks": ""
            },
            "colorscale": [
             [
              0,
              "#0d0887"
             ],
             [
              0.1111111111111111,
              "#46039f"
             ],
             [
              0.2222222222222222,
              "#7201a8"
             ],
             [
              0.3333333333333333,
              "#9c179e"
             ],
             [
              0.4444444444444444,
              "#bd3786"
             ],
             [
              0.5555555555555556,
              "#d8576b"
             ],
             [
              0.6666666666666666,
              "#ed7953"
             ],
             [
              0.7777777777777778,
              "#fb9f3a"
             ],
             [
              0.8888888888888888,
              "#fdca26"
             ],
             [
              1,
              "#f0f921"
             ]
            ],
            "type": "histogram2dcontour"
           }
          ],
          "mesh3d": [
           {
            "colorbar": {
             "outlinewidth": 0,
             "ticks": ""
            },
            "type": "mesh3d"
           }
          ],
          "parcoords": [
           {
            "line": {
             "colorbar": {
              "outlinewidth": 0,
              "ticks": ""
             }
            },
            "type": "parcoords"
           }
          ],
          "pie": [
           {
            "automargin": true,
            "type": "pie"
           }
          ],
          "scatter": [
           {
            "fillpattern": {
             "fillmode": "overlay",
             "size": 10,
             "solidity": 0.2
            },
            "type": "scatter"
           }
          ],
          "scatter3d": [
           {
            "line": {
             "colorbar": {
              "outlinewidth": 0,
              "ticks": ""
             }
            },
            "marker": {
             "colorbar": {
              "outlinewidth": 0,
              "ticks": ""
             }
            },
            "type": "scatter3d"
           }
          ],
          "scattercarpet": [
           {
            "marker": {
             "colorbar": {
              "outlinewidth": 0,
              "ticks": ""
             }
            },
            "type": "scattercarpet"
           }
          ],
          "scattergeo": [
           {
            "marker": {
             "colorbar": {
              "outlinewidth": 0,
              "ticks": ""
             }
            },
            "type": "scattergeo"
           }
          ],
          "scattergl": [
           {
            "marker": {
             "colorbar": {
              "outlinewidth": 0,
              "ticks": ""
             }
            },
            "type": "scattergl"
           }
          ],
          "scattermapbox": [
           {
            "marker": {
             "colorbar": {
              "outlinewidth": 0,
              "ticks": ""
             }
            },
            "type": "scattermapbox"
           }
          ],
          "scatterpolar": [
           {
            "marker": {
             "colorbar": {
              "outlinewidth": 0,
              "ticks": ""
             }
            },
            "type": "scatterpolar"
           }
          ],
          "scatterpolargl": [
           {
            "marker": {
             "colorbar": {
              "outlinewidth": 0,
              "ticks": ""
             }
            },
            "type": "scatterpolargl"
           }
          ],
          "scatterternary": [
           {
            "marker": {
             "colorbar": {
              "outlinewidth": 0,
              "ticks": ""
             }
            },
            "type": "scatterternary"
           }
          ],
          "surface": [
           {
            "colorbar": {
             "outlinewidth": 0,
             "ticks": ""
            },
            "colorscale": [
             [
              0,
              "#0d0887"
             ],
             [
              0.1111111111111111,
              "#46039f"
             ],
             [
              0.2222222222222222,
              "#7201a8"
             ],
             [
              0.3333333333333333,
              "#9c179e"
             ],
             [
              0.4444444444444444,
              "#bd3786"
             ],
             [
              0.5555555555555556,
              "#d8576b"
             ],
             [
              0.6666666666666666,
              "#ed7953"
             ],
             [
              0.7777777777777778,
              "#fb9f3a"
             ],
             [
              0.8888888888888888,
              "#fdca26"
             ],
             [
              1,
              "#f0f921"
             ]
            ],
            "type": "surface"
           }
          ],
          "table": [
           {
            "cells": {
             "fill": {
              "color": "#EBF0F8"
             },
             "line": {
              "color": "white"
             }
            },
            "header": {
             "fill": {
              "color": "#C8D4E3"
             },
             "line": {
              "color": "white"
             }
            },
            "type": "table"
           }
          ]
         },
         "layout": {
          "annotationdefaults": {
           "arrowcolor": "#2a3f5f",
           "arrowhead": 0,
           "arrowwidth": 1
          },
          "autotypenumbers": "strict",
          "coloraxis": {
           "colorbar": {
            "outlinewidth": 0,
            "ticks": ""
           }
          },
          "colorscale": {
           "diverging": [
            [
             0,
             "#8e0152"
            ],
            [
             0.1,
             "#c51b7d"
            ],
            [
             0.2,
             "#de77ae"
            ],
            [
             0.3,
             "#f1b6da"
            ],
            [
             0.4,
             "#fde0ef"
            ],
            [
             0.5,
             "#f7f7f7"
            ],
            [
             0.6,
             "#e6f5d0"
            ],
            [
             0.7,
             "#b8e186"
            ],
            [
             0.8,
             "#7fbc41"
            ],
            [
             0.9,
             "#4d9221"
            ],
            [
             1,
             "#276419"
            ]
           ],
           "sequential": [
            [
             0,
             "#0d0887"
            ],
            [
             0.1111111111111111,
             "#46039f"
            ],
            [
             0.2222222222222222,
             "#7201a8"
            ],
            [
             0.3333333333333333,
             "#9c179e"
            ],
            [
             0.4444444444444444,
             "#bd3786"
            ],
            [
             0.5555555555555556,
             "#d8576b"
            ],
            [
             0.6666666666666666,
             "#ed7953"
            ],
            [
             0.7777777777777778,
             "#fb9f3a"
            ],
            [
             0.8888888888888888,
             "#fdca26"
            ],
            [
             1,
             "#f0f921"
            ]
           ],
           "sequentialminus": [
            [
             0,
             "#0d0887"
            ],
            [
             0.1111111111111111,
             "#46039f"
            ],
            [
             0.2222222222222222,
             "#7201a8"
            ],
            [
             0.3333333333333333,
             "#9c179e"
            ],
            [
             0.4444444444444444,
             "#bd3786"
            ],
            [
             0.5555555555555556,
             "#d8576b"
            ],
            [
             0.6666666666666666,
             "#ed7953"
            ],
            [
             0.7777777777777778,
             "#fb9f3a"
            ],
            [
             0.8888888888888888,
             "#fdca26"
            ],
            [
             1,
             "#f0f921"
            ]
           ]
          },
          "colorway": [
           "#636efa",
           "#EF553B",
           "#00cc96",
           "#ab63fa",
           "#FFA15A",
           "#19d3f3",
           "#FF6692",
           "#B6E880",
           "#FF97FF",
           "#FECB52"
          ],
          "font": {
           "color": "#2a3f5f"
          },
          "geo": {
           "bgcolor": "white",
           "lakecolor": "white",
           "landcolor": "#E5ECF6",
           "showlakes": true,
           "showland": true,
           "subunitcolor": "white"
          },
          "hoverlabel": {
           "align": "left"
          },
          "hovermode": "closest",
          "mapbox": {
           "style": "light"
          },
          "paper_bgcolor": "white",
          "plot_bgcolor": "#E5ECF6",
          "polar": {
           "angularaxis": {
            "gridcolor": "white",
            "linecolor": "white",
            "ticks": ""
           },
           "bgcolor": "#E5ECF6",
           "radialaxis": {
            "gridcolor": "white",
            "linecolor": "white",
            "ticks": ""
           }
          },
          "scene": {
           "xaxis": {
            "backgroundcolor": "#E5ECF6",
            "gridcolor": "white",
            "gridwidth": 2,
            "linecolor": "white",
            "showbackground": true,
            "ticks": "",
            "zerolinecolor": "white"
           },
           "yaxis": {
            "backgroundcolor": "#E5ECF6",
            "gridcolor": "white",
            "gridwidth": 2,
            "linecolor": "white",
            "showbackground": true,
            "ticks": "",
            "zerolinecolor": "white"
           },
           "zaxis": {
            "backgroundcolor": "#E5ECF6",
            "gridcolor": "white",
            "gridwidth": 2,
            "linecolor": "white",
            "showbackground": true,
            "ticks": "",
            "zerolinecolor": "white"
           }
          },
          "shapedefaults": {
           "line": {
            "color": "#2a3f5f"
           }
          },
          "ternary": {
           "aaxis": {
            "gridcolor": "white",
            "linecolor": "white",
            "ticks": ""
           },
           "baxis": {
            "gridcolor": "white",
            "linecolor": "white",
            "ticks": ""
           },
           "bgcolor": "#E5ECF6",
           "caxis": {
            "gridcolor": "white",
            "linecolor": "white",
            "ticks": ""
           }
          },
          "title": {
           "x": 0.05
          },
          "xaxis": {
           "automargin": true,
           "gridcolor": "white",
           "linecolor": "white",
           "ticks": "",
           "title": {
            "standoff": 15
           },
           "zerolinecolor": "white",
           "zerolinewidth": 2
          },
          "yaxis": {
           "automargin": true,
           "gridcolor": "white",
           "linecolor": "white",
           "ticks": "",
           "title": {
            "standoff": 15
           },
           "zerolinecolor": "white",
           "zerolinewidth": 2
          }
         }
        },
        "title": {
         "text": "Sentiment score of sentences between 2013 and 2022 per Country."
        },
        "xaxis": {
         "anchor": "y",
         "domain": [
          0,
          0.31999999999999995
         ],
         "title": {
          "text": "Year"
         }
        },
        "xaxis2": {
         "anchor": "y2",
         "domain": [
          0.33999999999999997,
          0.6599999999999999
         ],
         "matches": "x",
         "title": {
          "text": "Year"
         }
        },
        "xaxis3": {
         "anchor": "y3",
         "domain": [
          0.6799999999999999,
          0.9999999999999999
         ],
         "matches": "x",
         "title": {
          "text": "Year"
         }
        },
        "yaxis": {
         "anchor": "x",
         "domain": [
          0,
          1
         ],
         "title": {
          "text": "Sentiment Score"
         }
        },
        "yaxis2": {
         "anchor": "x2",
         "domain": [
          0,
          1
         ],
         "matches": "y",
         "showticklabels": false
        },
        "yaxis3": {
         "anchor": "x3",
         "domain": [
          0,
          1
         ],
         "matches": "y",
         "showticklabels": false
        }
       }
      }
     },
     "metadata": {},
     "output_type": "display_data"
    }
   ],
   "source": [
    "import plotly.express as px\n",
    "#Horizontal bar chart\n",
    "fig = px.bar(sentiments_topics_year, x=\"year\", y=\"sentiment_score_1\", facet_col=\"production_office\", facet_col_wrap=3, \n",
    "        labels=dict(year=\"Year\", sentiment_score_1=\"Sentiment Score\"),\n",
    "                title=\"Sentiment score of sentences between 2013 and 2022 per Country.\")\n",
    "fig.write_image(\"outputs/sentiment_per_year.png\")\n",
    "fig.show()"
   ]
  },
  {
   "cell_type": "code",
   "execution_count": 17,
   "metadata": {},
   "outputs": [],
   "source": [
    "representative_sentences=pd.read_csv(\"data/representative_docs.csv\")"
   ]
  },
  {
   "cell_type": "code",
   "execution_count": 18,
   "metadata": {},
   "outputs": [
    {
     "data": {
      "text/html": [
       "<div>\n",
       "<style scoped>\n",
       "    .dataframe tbody tr th:only-of-type {\n",
       "        vertical-align: middle;\n",
       "    }\n",
       "\n",
       "    .dataframe tbody tr th {\n",
       "        vertical-align: top;\n",
       "    }\n",
       "\n",
       "    .dataframe thead th {\n",
       "        text-align: right;\n",
       "    }\n",
       "</style>\n",
       "<table border=\"1\" class=\"dataframe\">\n",
       "  <thead>\n",
       "    <tr style=\"text-align: right;\">\n",
       "      <th></th>\n",
       "      <th>topic</th>\n",
       "      <th>representative_sentence</th>\n",
       "    </tr>\n",
       "  </thead>\n",
       "  <tbody>\n",
       "    <tr>\n",
       "      <th>0</th>\n",
       "      <td>3</td>\n",
       "      <td>Even if experts solve the engineering problem ...</td>\n",
       "    </tr>\n",
       "    <tr>\n",
       "      <th>1</th>\n",
       "      <td>3</td>\n",
       "      <td>“This type of oversight makes me worried that ...</td>\n",
       "    </tr>\n",
       "    <tr>\n",
       "      <th>2</th>\n",
       "      <td>3</td>\n",
       "      <td>Neither, says Lanier: artificial intelligence ...</td>\n",
       "    </tr>\n",
       "    <tr>\n",
       "      <th>3</th>\n",
       "      <td>3</td>\n",
       "      <td>From this amazing text, Russell pulled one dra...</td>\n",
       "    </tr>\n",
       "    <tr>\n",
       "      <th>4</th>\n",
       "      <td>3</td>\n",
       "      <td>Russell believes that our current approach to ...</td>\n",
       "    </tr>\n",
       "    <tr>\n",
       "      <th>...</th>\n",
       "      <td>...</td>\n",
       "      <td>...</td>\n",
       "    </tr>\n",
       "    <tr>\n",
       "      <th>514</th>\n",
       "      <td>40</td>\n",
       "      <td>Still playable?</td>\n",
       "    </tr>\n",
       "    <tr>\n",
       "      <th>515</th>\n",
       "      <td>40</td>\n",
       "      <td>Pretty good actually, and certainly playable e...</td>\n",
       "    </tr>\n",
       "    <tr>\n",
       "      <th>516</th>\n",
       "      <td>42</td>\n",
       "      <td>Hey, come on, they say, we’re doing everything...</td>\n",
       "    </tr>\n",
       "    <tr>\n",
       "      <th>517</th>\n",
       "      <td>42</td>\n",
       "      <td>I have argued that we should be more timid and...</td>\n",
       "    </tr>\n",
       "    <tr>\n",
       "      <th>518</th>\n",
       "      <td>42</td>\n",
       "      <td>Machines cannot think like humans.</td>\n",
       "    </tr>\n",
       "  </tbody>\n",
       "</table>\n",
       "<p>519 rows × 2 columns</p>\n",
       "</div>"
      ],
      "text/plain": [
       "     topic                            representative_sentence\n",
       "0        3  Even if experts solve the engineering problem ...\n",
       "1        3  “This type of oversight makes me worried that ...\n",
       "2        3  Neither, says Lanier: artificial intelligence ...\n",
       "3        3  From this amazing text, Russell pulled one dra...\n",
       "4        3  Russell believes that our current approach to ...\n",
       "..     ...                                                ...\n",
       "514     40                                    Still playable?\n",
       "515     40  Pretty good actually, and certainly playable e...\n",
       "516     42  Hey, come on, they say, we’re doing everything...\n",
       "517     42  I have argued that we should be more timid and...\n",
       "518     42                 Machines cannot think like humans.\n",
       "\n",
       "[519 rows x 2 columns]"
      ]
     },
     "execution_count": 18,
     "metadata": {},
     "output_type": "execute_result"
    }
   ],
   "source": [
    "representative_sentences"
   ]
  },
  {
   "cell_type": "code",
   "execution_count": 39,
   "metadata": {},
   "outputs": [
    {
     "data": {
      "text/plain": [
       "'What I’m reading Gee whizHow quickly will the switch to electric cars – made by Elon Musk (below) and his ilk – happen?'"
      ]
     },
     "execution_count": 39,
     "metadata": {},
     "output_type": "execute_result"
    }
   ],
   "source": [
    "representative_sentences.representative_sentence[80]"
   ]
  },
  {
   "cell_type": "code",
   "execution_count": 38,
   "metadata": {},
   "outputs": [
    {
     "name": "stdout",
     "output_type": "stream",
     "text": [
      "     topic                            representative_sentence\n",
      "0        3  Even if experts solve the engineering problem ...\n",
      "1        3  “This type of oversight makes me worried that ...\n",
      "2        3  Neither, says Lanier: artificial intelligence ...\n",
      "3        3  From this amazing text, Russell pulled one dra...\n",
      "4        3  Russell believes that our current approach to ...\n",
      "..     ...                                                ...\n",
      "154      3  Really though, this is already happening in vi...\n",
      "155      3  Experimental indie titles like Prom Week and F...\n",
      "156      3  But there's not a scintilla of doubt in Kurzwe...\n",
      "157      3             But Kurzweil is anything but ordinary.\n",
      "158      3  But then, it's Kurzweil's single-mindedness th...\n",
      "\n",
      "[159 rows x 2 columns]\n"
     ]
    }
   ],
   "source": [
    "print(representative_sentences[representative_sentences.topic==3])"
   ]
  },
  {
   "cell_type": "code",
   "execution_count": 123,
   "metadata": {},
   "outputs": [
    {
     "data": {
      "text/plain": [
       "511"
      ]
     },
     "execution_count": 123,
     "metadata": {},
     "output_type": "execute_result"
    }
   ],
   "source": [
    "representative_sentences.representative_sentence.unique().size"
   ]
  },
  {
   "cell_type": "code",
   "execution_count": 24,
   "metadata": {},
   "outputs": [
    {
     "ename": "AttributeError",
     "evalue": "'DataFrame' object has no attribute 'representative_sentence'",
     "output_type": "error",
     "traceback": [
      "\u001b[0;31m---------------------------------------------------------------------------\u001b[0m",
      "\u001b[0;31mAttributeError\u001b[0m                            Traceback (most recent call last)",
      "Cell \u001b[0;32mIn [24], line 1\u001b[0m\n\u001b[0;32m----> 1\u001b[0m relevant_topics_df\u001b[39m.\u001b[39;49mrepresentative_sentence[\u001b[39m1\u001b[39m]\n",
      "File \u001b[0;32m~/opt/miniconda3/lib/python3.9/site-packages/pandas/core/generic.py:5575\u001b[0m, in \u001b[0;36mNDFrame.__getattr__\u001b[0;34m(self, name)\u001b[0m\n\u001b[1;32m   5568\u001b[0m \u001b[39mif\u001b[39;00m (\n\u001b[1;32m   5569\u001b[0m     name \u001b[39mnot\u001b[39;00m \u001b[39min\u001b[39;00m \u001b[39mself\u001b[39m\u001b[39m.\u001b[39m_internal_names_set\n\u001b[1;32m   5570\u001b[0m     \u001b[39mand\u001b[39;00m name \u001b[39mnot\u001b[39;00m \u001b[39min\u001b[39;00m \u001b[39mself\u001b[39m\u001b[39m.\u001b[39m_metadata\n\u001b[1;32m   5571\u001b[0m     \u001b[39mand\u001b[39;00m name \u001b[39mnot\u001b[39;00m \u001b[39min\u001b[39;00m \u001b[39mself\u001b[39m\u001b[39m.\u001b[39m_accessors\n\u001b[1;32m   5572\u001b[0m     \u001b[39mand\u001b[39;00m \u001b[39mself\u001b[39m\u001b[39m.\u001b[39m_info_axis\u001b[39m.\u001b[39m_can_hold_identifiers_and_holds_name(name)\n\u001b[1;32m   5573\u001b[0m ):\n\u001b[1;32m   5574\u001b[0m     \u001b[39mreturn\u001b[39;00m \u001b[39mself\u001b[39m[name]\n\u001b[0;32m-> 5575\u001b[0m \u001b[39mreturn\u001b[39;00m \u001b[39mobject\u001b[39;49m\u001b[39m.\u001b[39;49m\u001b[39m__getattribute__\u001b[39;49m(\u001b[39mself\u001b[39;49m, name)\n",
      "\u001b[0;31mAttributeError\u001b[0m: 'DataFrame' object has no attribute 'representative_sentence'"
     ]
    }
   ],
   "source": [
    "relevant_topics_df.representative_sentence[1]"
   ]
  },
  {
   "cell_type": "code",
   "execution_count": null,
   "metadata": {},
   "outputs": [],
   "source": [
    "'Even if experts solve the engineering problem of aligning AI with select human values, further political concerns remain.'"
   ]
  },
  {
   "cell_type": "code",
   "execution_count": 26,
   "metadata": {},
   "outputs": [],
   "source": [
    "relevant_sentiment=relevant_topics_df[(relevant_topics_df.sentence.isin(representative_sentences.representative_sentence))]"
   ]
  },
  {
   "cell_type": "code",
   "execution_count": 35,
   "metadata": {},
   "outputs": [
    {
     "data": {
      "text/html": [
       "<div>\n",
       "<style scoped>\n",
       "    .dataframe tbody tr th:only-of-type {\n",
       "        vertical-align: middle;\n",
       "    }\n",
       "\n",
       "    .dataframe tbody tr th {\n",
       "        vertical-align: top;\n",
       "    }\n",
       "\n",
       "    .dataframe thead th {\n",
       "        text-align: right;\n",
       "    }\n",
       "</style>\n",
       "<table border=\"1\" class=\"dataframe\">\n",
       "  <thead>\n",
       "    <tr style=\"text-align: right;\">\n",
       "      <th></th>\n",
       "      <th>sentence_nr</th>\n",
       "      <th>article_nr</th>\n",
       "      <th>sentence</th>\n",
       "      <th>wordcount</th>\n",
       "      <th>section_name</th>\n",
       "      <th>web_publication_date</th>\n",
       "      <th>headline</th>\n",
       "      <th>web_title</th>\n",
       "      <th>production_office</th>\n",
       "      <th>publication</th>\n",
       "      <th>topic</th>\n",
       "      <th>Topic</th>\n",
       "      <th>Count</th>\n",
       "      <th>Name</th>\n",
       "      <th>sentiment</th>\n",
       "      <th>sentiment_score</th>\n",
       "      <th>sentiment_score_1</th>\n",
       "      <th>year</th>\n",
       "    </tr>\n",
       "  </thead>\n",
       "  <tbody>\n",
       "    <tr>\n",
       "      <th>264099</th>\n",
       "      <td>111751</td>\n",
       "      <td>2614</td>\n",
       "      <td>First, you have to deal with the question: “Et...</td>\n",
       "      <td>898</td>\n",
       "      <td>Opinion</td>\n",
       "      <td>2018-10-28 05:00:09+00:00</td>\n",
       "      <td>Has Apple finally given its super-fast iPhone ...</td>\n",
       "      <td>Has Apple finally given its super-fast iPhone ...</td>\n",
       "      <td>UK</td>\n",
       "      <td>The Observer</td>\n",
       "      <td>3</td>\n",
       "      <td>3</td>\n",
       "      <td>3497</td>\n",
       "      <td>3_ai_intelligence_artificial_artificial intell...</td>\n",
       "      <td>NEGATIVE</td>\n",
       "      <td>0.992743</td>\n",
       "      <td>-0.992743</td>\n",
       "      <td>2018</td>\n",
       "    </tr>\n",
       "  </tbody>\n",
       "</table>\n",
       "</div>"
      ],
      "text/plain": [
       "        sentence_nr  article_nr  \\\n",
       "264099       111751        2614   \n",
       "\n",
       "                                                 sentence  wordcount  \\\n",
       "264099  First, you have to deal with the question: “Et...        898   \n",
       "\n",
       "       section_name      web_publication_date  \\\n",
       "264099      Opinion 2018-10-28 05:00:09+00:00   \n",
       "\n",
       "                                                 headline  \\\n",
       "264099  Has Apple finally given its super-fast iPhone ...   \n",
       "\n",
       "                                                web_title production_office  \\\n",
       "264099  Has Apple finally given its super-fast iPhone ...                UK   \n",
       "\n",
       "         publication  topic  Topic  Count  \\\n",
       "264099  The Observer      3      3   3497   \n",
       "\n",
       "                                                     Name sentiment  \\\n",
       "264099  3_ai_intelligence_artificial_artificial intell...  NEGATIVE   \n",
       "\n",
       "        sentiment_score  sentiment_score_1  year  \n",
       "264099         0.992743          -0.992743  2018  "
      ]
     },
     "execution_count": 35,
     "metadata": {},
     "output_type": "execute_result"
    }
   ],
   "source": [
    "relevant_topics_df[(relevant_topics_df.sentence=='First, you have to deal with the question: “Ethics??')]"
   ]
  },
  {
   "cell_type": "code",
   "execution_count": 149,
   "metadata": {},
   "outputs": [
    {
     "data": {
      "text/plain": [
       "417"
      ]
     },
     "execution_count": 149,
     "metadata": {},
     "output_type": "execute_result"
    }
   ],
   "source": [
    "relevant_sentiment.sentence.unique().size"
   ]
  },
  {
   "cell_type": "code",
   "execution_count": 76,
   "metadata": {},
   "outputs": [],
   "source": [
    "tem=relevant_sentiment[(relevant_sentiment.topic==32) & (relevant_sentiment.production_office==\"AUS\")] "
   ]
  },
  {
   "cell_type": "code",
   "execution_count": 77,
   "metadata": {},
   "outputs": [
    {
     "data": {
      "text/html": [
       "<div>\n",
       "<style scoped>\n",
       "    .dataframe tbody tr th:only-of-type {\n",
       "        vertical-align: middle;\n",
       "    }\n",
       "\n",
       "    .dataframe tbody tr th {\n",
       "        vertical-align: top;\n",
       "    }\n",
       "\n",
       "    .dataframe thead th {\n",
       "        text-align: right;\n",
       "    }\n",
       "</style>\n",
       "<table border=\"1\" class=\"dataframe\">\n",
       "  <thead>\n",
       "    <tr style=\"text-align: right;\">\n",
       "      <th></th>\n",
       "      <th>sentence_nr</th>\n",
       "      <th>article_nr</th>\n",
       "      <th>sentence</th>\n",
       "      <th>wordcount</th>\n",
       "      <th>section_name</th>\n",
       "      <th>web_publication_date</th>\n",
       "      <th>headline</th>\n",
       "      <th>web_title</th>\n",
       "      <th>production_office</th>\n",
       "      <th>publication</th>\n",
       "      <th>topic</th>\n",
       "      <th>Topic</th>\n",
       "      <th>Count</th>\n",
       "      <th>Name</th>\n",
       "      <th>sentiment</th>\n",
       "      <th>sentiment_score</th>\n",
       "      <th>sentiment_score_1</th>\n",
       "      <th>year</th>\n",
       "    </tr>\n",
       "  </thead>\n",
       "  <tbody>\n",
       "    <tr>\n",
       "      <th>290419</th>\n",
       "      <td>11022</td>\n",
       "      <td>286</td>\n",
       "      <td>Related: Why is Facebook shutting down its fac...</td>\n",
       "      <td>695</td>\n",
       "      <td>World news</td>\n",
       "      <td>2021-11-03 07:02:35+00:00</td>\n",
       "      <td>Facial recognition firm Clearview AI to appeal...</td>\n",
       "      <td>Facial recognition firm Clearview AI to appeal...</td>\n",
       "      <td>AUS</td>\n",
       "      <td>theguardian.com</td>\n",
       "      <td>32</td>\n",
       "      <td>32</td>\n",
       "      <td>910</td>\n",
       "      <td>32_facial_facial recognition_recognition_faces</td>\n",
       "      <td>NEGATIVE</td>\n",
       "      <td>0.999231</td>\n",
       "      <td>-0.999231</td>\n",
       "      <td>2021</td>\n",
       "    </tr>\n",
       "    <tr>\n",
       "      <th>290430</th>\n",
       "      <td>11037</td>\n",
       "      <td>286</td>\n",
       "      <td>Facebook this week also announced a move away ...</td>\n",
       "      <td>695</td>\n",
       "      <td>World news</td>\n",
       "      <td>2021-11-03 07:02:35+00:00</td>\n",
       "      <td>Facial recognition firm Clearview AI to appeal...</td>\n",
       "      <td>Facial recognition firm Clearview AI to appeal...</td>\n",
       "      <td>AUS</td>\n",
       "      <td>theguardian.com</td>\n",
       "      <td>32</td>\n",
       "      <td>32</td>\n",
       "      <td>910</td>\n",
       "      <td>32_facial_facial recognition_recognition_faces</td>\n",
       "      <td>NEGATIVE</td>\n",
       "      <td>0.991553</td>\n",
       "      <td>-0.991553</td>\n",
       "      <td>2021</td>\n",
       "    </tr>\n",
       "    <tr>\n",
       "      <th>290917</th>\n",
       "      <td>80200</td>\n",
       "      <td>1938</td>\n",
       "      <td>Perth City council is pressing ahead with a t...</td>\n",
       "      <td>808</td>\n",
       "      <td>Technology</td>\n",
       "      <td>2019-06-11 19:25:18+00:00</td>\n",
       "      <td>Perth council facial recognition trial greeted...</td>\n",
       "      <td>Perth council facial recognition trial greeted...</td>\n",
       "      <td>AUS</td>\n",
       "      <td>theguardian.com</td>\n",
       "      <td>32</td>\n",
       "      <td>32</td>\n",
       "      <td>910</td>\n",
       "      <td>32_facial_facial recognition_recognition_faces</td>\n",
       "      <td>POSITIVE</td>\n",
       "      <td>0.990467</td>\n",
       "      <td>0.990467</td>\n",
       "      <td>2019</td>\n",
       "    </tr>\n",
       "  </tbody>\n",
       "</table>\n",
       "</div>"
      ],
      "text/plain": [
       "        sentence_nr  article_nr  \\\n",
       "290419        11022         286   \n",
       "290430        11037         286   \n",
       "290917        80200        1938   \n",
       "\n",
       "                                                 sentence  wordcount  \\\n",
       "290419  Related: Why is Facebook shutting down its fac...        695   \n",
       "290430  Facebook this week also announced a move away ...        695   \n",
       "290917   Perth City council is pressing ahead with a t...        808   \n",
       "\n",
       "       section_name      web_publication_date  \\\n",
       "290419   World news 2021-11-03 07:02:35+00:00   \n",
       "290430   World news 2021-11-03 07:02:35+00:00   \n",
       "290917   Technology 2019-06-11 19:25:18+00:00   \n",
       "\n",
       "                                                 headline  \\\n",
       "290419  Facial recognition firm Clearview AI to appeal...   \n",
       "290430  Facial recognition firm Clearview AI to appeal...   \n",
       "290917  Perth council facial recognition trial greeted...   \n",
       "\n",
       "                                                web_title production_office  \\\n",
       "290419  Facial recognition firm Clearview AI to appeal...               AUS   \n",
       "290430  Facial recognition firm Clearview AI to appeal...               AUS   \n",
       "290917  Perth council facial recognition trial greeted...               AUS   \n",
       "\n",
       "            publication  topic  Topic  Count  \\\n",
       "290419  theguardian.com     32     32    910   \n",
       "290430  theguardian.com     32     32    910   \n",
       "290917  theguardian.com     32     32    910   \n",
       "\n",
       "                                                  Name sentiment  \\\n",
       "290419  32_facial_facial recognition_recognition_faces  NEGATIVE   \n",
       "290430  32_facial_facial recognition_recognition_faces  NEGATIVE   \n",
       "290917  32_facial_facial recognition_recognition_faces  POSITIVE   \n",
       "\n",
       "        sentiment_score  sentiment_score_1  year  \n",
       "290419         0.999231          -0.999231  2021  \n",
       "290430         0.991553          -0.991553  2021  \n",
       "290917         0.990467           0.990467  2019  "
      ]
     },
     "execution_count": 77,
     "metadata": {},
     "output_type": "execute_result"
    }
   ],
   "source": [
    "tem"
   ]
  },
  {
   "cell_type": "code",
   "execution_count": 87,
   "metadata": {},
   "outputs": [
    {
     "name": "stdout",
     "output_type": "stream",
     "text": [
      "Problems with gender and racial biases have been well documented in other AI-based technology such as facial recognition, and they could also exist in these types of systems, says Vicente Ordóñez-Roman, a computer vision expert at the University of Virginia.\n"
     ]
    }
   ],
   "source": [
    "print(tem2.sentence[290363])"
   ]
  },
  {
   "cell_type": "code",
   "execution_count": 85,
   "metadata": {},
   "outputs": [],
   "source": [
    "tem2=relevant_topics_df[(relevant_topics_df.topic==32) & (relevant_topics_df.production_office==\"US\")] "
   ]
  },
  {
   "cell_type": "code",
   "execution_count": 86,
   "metadata": {},
   "outputs": [
    {
     "data": {
      "text/html": [
       "<div>\n",
       "<style scoped>\n",
       "    .dataframe tbody tr th:only-of-type {\n",
       "        vertical-align: middle;\n",
       "    }\n",
       "\n",
       "    .dataframe tbody tr th {\n",
       "        vertical-align: top;\n",
       "    }\n",
       "\n",
       "    .dataframe thead th {\n",
       "        text-align: right;\n",
       "    }\n",
       "</style>\n",
       "<table border=\"1\" class=\"dataframe\">\n",
       "  <thead>\n",
       "    <tr style=\"text-align: right;\">\n",
       "      <th></th>\n",
       "      <th>sentence_nr</th>\n",
       "      <th>article_nr</th>\n",
       "      <th>sentence</th>\n",
       "      <th>wordcount</th>\n",
       "      <th>section_name</th>\n",
       "      <th>web_publication_date</th>\n",
       "      <th>headline</th>\n",
       "      <th>web_title</th>\n",
       "      <th>production_office</th>\n",
       "      <th>publication</th>\n",
       "      <th>topic</th>\n",
       "      <th>Topic</th>\n",
       "      <th>Count</th>\n",
       "      <th>Name</th>\n",
       "      <th>sentiment</th>\n",
       "      <th>sentiment_score</th>\n",
       "      <th>sentiment_score_1</th>\n",
       "      <th>year</th>\n",
       "    </tr>\n",
       "  </thead>\n",
       "  <tbody>\n",
       "    <tr>\n",
       "      <th>290363</th>\n",
       "      <td>3513</td>\n",
       "      <td>86</td>\n",
       "      <td>Problems with gender and racial biases have be...</td>\n",
       "      <td>1778</td>\n",
       "      <td>US news</td>\n",
       "      <td>2021-06-03 08:00:07+00:00</td>\n",
       "      <td>The future of elder care is here – and it’s ar...</td>\n",
       "      <td>The future of elder care is here – and it’s ar...</td>\n",
       "      <td>US</td>\n",
       "      <td>The Guardian</td>\n",
       "      <td>32</td>\n",
       "      <td>32</td>\n",
       "      <td>910</td>\n",
       "      <td>32_facial_facial recognition_recognition_faces</td>\n",
       "      <td>NEGATIVE</td>\n",
       "      <td>0.995887</td>\n",
       "      <td>-0.995887</td>\n",
       "      <td>2021</td>\n",
       "    </tr>\n",
       "    <tr>\n",
       "      <th>290390</th>\n",
       "      <td>8517</td>\n",
       "      <td>220</td>\n",
       "      <td>Problems with gender and racial bias have been...</td>\n",
       "      <td>1858</td>\n",
       "      <td>Technology</td>\n",
       "      <td>2022-04-27 06:30:23+00:00</td>\n",
       "      <td>‘Bossware is coming for almost every worker’: ...</td>\n",
       "      <td>‘Bossware is coming for almost every worker’: ...</td>\n",
       "      <td>US</td>\n",
       "      <td>theguardian.com</td>\n",
       "      <td>32</td>\n",
       "      <td>32</td>\n",
       "      <td>910</td>\n",
       "      <td>32_facial_facial recognition_recognition_faces</td>\n",
       "      <td>NEGATIVE</td>\n",
       "      <td>0.998695</td>\n",
       "      <td>-0.998695</td>\n",
       "      <td>2022</td>\n",
       "    </tr>\n",
       "    <tr>\n",
       "      <th>290392</th>\n",
       "      <td>9768</td>\n",
       "      <td>253</td>\n",
       "      <td>And a notable instance when the software was u...</td>\n",
       "      <td>2004</td>\n",
       "      <td>US news</td>\n",
       "      <td>2022-08-26 07:00:26+00:00</td>\n",
       "      <td>‘I’m afraid’: critics of anti-cheating technol...</td>\n",
       "      <td>‘I’m afraid’: critics of anti-cheating technol...</td>\n",
       "      <td>US</td>\n",
       "      <td>theguardian.com</td>\n",
       "      <td>32</td>\n",
       "      <td>32</td>\n",
       "      <td>910</td>\n",
       "      <td>32_facial_facial recognition_recognition_faces</td>\n",
       "      <td>NEGATIVE</td>\n",
       "      <td>0.999459</td>\n",
       "      <td>-0.999459</td>\n",
       "      <td>2022</td>\n",
       "    </tr>\n",
       "    <tr>\n",
       "      <th>290393</th>\n",
       "      <td>9809</td>\n",
       "      <td>253</td>\n",
       "      <td>But despite her best efforts, she couldn’t get...</td>\n",
       "      <td>2004</td>\n",
       "      <td>US news</td>\n",
       "      <td>2022-08-26 07:00:26+00:00</td>\n",
       "      <td>‘I’m afraid’: critics of anti-cheating technol...</td>\n",
       "      <td>‘I’m afraid’: critics of anti-cheating technol...</td>\n",
       "      <td>US</td>\n",
       "      <td>theguardian.com</td>\n",
       "      <td>32</td>\n",
       "      <td>32</td>\n",
       "      <td>910</td>\n",
       "      <td>32_facial_facial recognition_recognition_faces</td>\n",
       "      <td>NEGATIVE</td>\n",
       "      <td>0.999478</td>\n",
       "      <td>-0.999478</td>\n",
       "      <td>2022</td>\n",
       "    </tr>\n",
       "    <tr>\n",
       "      <th>290394</th>\n",
       "      <td>9830</td>\n",
       "      <td>253</td>\n",
       "      <td>“We recognize some face detection and gaze det...</td>\n",
       "      <td>2004</td>\n",
       "      <td>US news</td>\n",
       "      <td>2022-08-26 07:00:26+00:00</td>\n",
       "      <td>‘I’m afraid’: critics of anti-cheating technol...</td>\n",
       "      <td>‘I’m afraid’: critics of anti-cheating technol...</td>\n",
       "      <td>US</td>\n",
       "      <td>theguardian.com</td>\n",
       "      <td>32</td>\n",
       "      <td>32</td>\n",
       "      <td>910</td>\n",
       "      <td>32_facial_facial recognition_recognition_faces</td>\n",
       "      <td>POSITIVE</td>\n",
       "      <td>0.963813</td>\n",
       "      <td>0.963813</td>\n",
       "      <td>2022</td>\n",
       "    </tr>\n",
       "    <tr>\n",
       "      <th>...</th>\n",
       "      <td>...</td>\n",
       "      <td>...</td>\n",
       "      <td>...</td>\n",
       "      <td>...</td>\n",
       "      <td>...</td>\n",
       "      <td>...</td>\n",
       "      <td>...</td>\n",
       "      <td>...</td>\n",
       "      <td>...</td>\n",
       "      <td>...</td>\n",
       "      <td>...</td>\n",
       "      <td>...</td>\n",
       "      <td>...</td>\n",
       "      <td>...</td>\n",
       "      <td>...</td>\n",
       "      <td>...</td>\n",
       "      <td>...</td>\n",
       "      <td>...</td>\n",
       "    </tr>\n",
       "    <tr>\n",
       "      <th>291228</th>\n",
       "      <td>184910</td>\n",
       "      <td>4202</td>\n",
       "      <td>What is facial recognition?</td>\n",
       "      <td>1347</td>\n",
       "      <td>Technology</td>\n",
       "      <td>2016-01-12 08:00:49+00:00</td>\n",
       "      <td>Shops could soon be targeting ads according to...</td>\n",
       "      <td>Shops could soon be targeting ads according to...</td>\n",
       "      <td>US</td>\n",
       "      <td>theguardian.com</td>\n",
       "      <td>32</td>\n",
       "      <td>32</td>\n",
       "      <td>910</td>\n",
       "      <td>32_facial_facial recognition_recognition_faces</td>\n",
       "      <td>POSITIVE</td>\n",
       "      <td>0.950038</td>\n",
       "      <td>0.950038</td>\n",
       "      <td>2016</td>\n",
       "    </tr>\n",
       "    <tr>\n",
       "      <th>291229</th>\n",
       "      <td>184911</td>\n",
       "      <td>4202</td>\n",
       "      <td>It is technology that can identify people by a...</td>\n",
       "      <td>1347</td>\n",
       "      <td>Technology</td>\n",
       "      <td>2016-01-12 08:00:49+00:00</td>\n",
       "      <td>Shops could soon be targeting ads according to...</td>\n",
       "      <td>Shops could soon be targeting ads according to...</td>\n",
       "      <td>US</td>\n",
       "      <td>theguardian.com</td>\n",
       "      <td>32</td>\n",
       "      <td>32</td>\n",
       "      <td>910</td>\n",
       "      <td>32_facial_facial recognition_recognition_faces</td>\n",
       "      <td>POSITIVE</td>\n",
       "      <td>0.997092</td>\n",
       "      <td>0.997092</td>\n",
       "      <td>2016</td>\n",
       "    </tr>\n",
       "    <tr>\n",
       "      <th>291230</th>\n",
       "      <td>184929</td>\n",
       "      <td>4202</td>\n",
       "      <td>Owen McCormack, Hoxton Analytics CEO, tells me...</td>\n",
       "      <td>1347</td>\n",
       "      <td>Technology</td>\n",
       "      <td>2016-01-12 08:00:49+00:00</td>\n",
       "      <td>Shops could soon be targeting ads according to...</td>\n",
       "      <td>Shops could soon be targeting ads according to...</td>\n",
       "      <td>US</td>\n",
       "      <td>theguardian.com</td>\n",
       "      <td>32</td>\n",
       "      <td>32</td>\n",
       "      <td>910</td>\n",
       "      <td>32_facial_facial recognition_recognition_faces</td>\n",
       "      <td>POSITIVE</td>\n",
       "      <td>0.993983</td>\n",
       "      <td>0.993983</td>\n",
       "      <td>2016</td>\n",
       "    </tr>\n",
       "    <tr>\n",
       "      <th>291238</th>\n",
       "      <td>203888</td>\n",
       "      <td>4536</td>\n",
       "      <td>He went on to say that problems in image recog...</td>\n",
       "      <td>441</td>\n",
       "      <td>Technology</td>\n",
       "      <td>2015-07-01 15:52:41+00:00</td>\n",
       "      <td>Google says sorry for racist auto-tag in photo...</td>\n",
       "      <td>Google says sorry for racist auto-tag in photo...</td>\n",
       "      <td>US</td>\n",
       "      <td>theguardian.com</td>\n",
       "      <td>32</td>\n",
       "      <td>32</td>\n",
       "      <td>910</td>\n",
       "      <td>32_facial_facial recognition_recognition_faces</td>\n",
       "      <td>NEGATIVE</td>\n",
       "      <td>0.996828</td>\n",
       "      <td>-0.996828</td>\n",
       "      <td>2015</td>\n",
       "    </tr>\n",
       "    <tr>\n",
       "      <th>291239</th>\n",
       "      <td>203890</td>\n",
       "      <td>4536</td>\n",
       "      <td>“We’re also working on longer-term fixes aroun...</td>\n",
       "      <td>441</td>\n",
       "      <td>Technology</td>\n",
       "      <td>2015-07-01 15:52:41+00:00</td>\n",
       "      <td>Google says sorry for racist auto-tag in photo...</td>\n",
       "      <td>Google says sorry for racist auto-tag in photo...</td>\n",
       "      <td>US</td>\n",
       "      <td>theguardian.com</td>\n",
       "      <td>32</td>\n",
       "      <td>32</td>\n",
       "      <td>910</td>\n",
       "      <td>32_facial_facial recognition_recognition_faces</td>\n",
       "      <td>POSITIVE</td>\n",
       "      <td>0.991918</td>\n",
       "      <td>0.991918</td>\n",
       "      <td>2015</td>\n",
       "    </tr>\n",
       "  </tbody>\n",
       "</table>\n",
       "<p>224 rows × 18 columns</p>\n",
       "</div>"
      ],
      "text/plain": [
       "        sentence_nr  article_nr  \\\n",
       "290363         3513          86   \n",
       "290390         8517         220   \n",
       "290392         9768         253   \n",
       "290393         9809         253   \n",
       "290394         9830         253   \n",
       "...             ...         ...   \n",
       "291228       184910        4202   \n",
       "291229       184911        4202   \n",
       "291230       184929        4202   \n",
       "291238       203888        4536   \n",
       "291239       203890        4536   \n",
       "\n",
       "                                                 sentence  wordcount  \\\n",
       "290363  Problems with gender and racial biases have be...       1778   \n",
       "290390  Problems with gender and racial bias have been...       1858   \n",
       "290392  And a notable instance when the software was u...       2004   \n",
       "290393  But despite her best efforts, she couldn’t get...       2004   \n",
       "290394  “We recognize some face detection and gaze det...       2004   \n",
       "...                                                   ...        ...   \n",
       "291228                        What is facial recognition?       1347   \n",
       "291229  It is technology that can identify people by a...       1347   \n",
       "291230  Owen McCormack, Hoxton Analytics CEO, tells me...       1347   \n",
       "291238  He went on to say that problems in image recog...        441   \n",
       "291239  “We’re also working on longer-term fixes aroun...        441   \n",
       "\n",
       "       section_name      web_publication_date  \\\n",
       "290363      US news 2021-06-03 08:00:07+00:00   \n",
       "290390   Technology 2022-04-27 06:30:23+00:00   \n",
       "290392      US news 2022-08-26 07:00:26+00:00   \n",
       "290393      US news 2022-08-26 07:00:26+00:00   \n",
       "290394      US news 2022-08-26 07:00:26+00:00   \n",
       "...             ...                       ...   \n",
       "291228   Technology 2016-01-12 08:00:49+00:00   \n",
       "291229   Technology 2016-01-12 08:00:49+00:00   \n",
       "291230   Technology 2016-01-12 08:00:49+00:00   \n",
       "291238   Technology 2015-07-01 15:52:41+00:00   \n",
       "291239   Technology 2015-07-01 15:52:41+00:00   \n",
       "\n",
       "                                                 headline  \\\n",
       "290363  The future of elder care is here – and it’s ar...   \n",
       "290390  ‘Bossware is coming for almost every worker’: ...   \n",
       "290392  ‘I’m afraid’: critics of anti-cheating technol...   \n",
       "290393  ‘I’m afraid’: critics of anti-cheating technol...   \n",
       "290394  ‘I’m afraid’: critics of anti-cheating technol...   \n",
       "...                                                   ...   \n",
       "291228  Shops could soon be targeting ads according to...   \n",
       "291229  Shops could soon be targeting ads according to...   \n",
       "291230  Shops could soon be targeting ads according to...   \n",
       "291238  Google says sorry for racist auto-tag in photo...   \n",
       "291239  Google says sorry for racist auto-tag in photo...   \n",
       "\n",
       "                                                web_title production_office  \\\n",
       "290363  The future of elder care is here – and it’s ar...                US   \n",
       "290390  ‘Bossware is coming for almost every worker’: ...                US   \n",
       "290392  ‘I’m afraid’: critics of anti-cheating technol...                US   \n",
       "290393  ‘I’m afraid’: critics of anti-cheating technol...                US   \n",
       "290394  ‘I’m afraid’: critics of anti-cheating technol...                US   \n",
       "...                                                   ...               ...   \n",
       "291228  Shops could soon be targeting ads according to...                US   \n",
       "291229  Shops could soon be targeting ads according to...                US   \n",
       "291230  Shops could soon be targeting ads according to...                US   \n",
       "291238  Google says sorry for racist auto-tag in photo...                US   \n",
       "291239  Google says sorry for racist auto-tag in photo...                US   \n",
       "\n",
       "            publication  topic  Topic  Count  \\\n",
       "290363     The Guardian     32     32    910   \n",
       "290390  theguardian.com     32     32    910   \n",
       "290392  theguardian.com     32     32    910   \n",
       "290393  theguardian.com     32     32    910   \n",
       "290394  theguardian.com     32     32    910   \n",
       "...                 ...    ...    ...    ...   \n",
       "291228  theguardian.com     32     32    910   \n",
       "291229  theguardian.com     32     32    910   \n",
       "291230  theguardian.com     32     32    910   \n",
       "291238  theguardian.com     32     32    910   \n",
       "291239  theguardian.com     32     32    910   \n",
       "\n",
       "                                                  Name sentiment  \\\n",
       "290363  32_facial_facial recognition_recognition_faces  NEGATIVE   \n",
       "290390  32_facial_facial recognition_recognition_faces  NEGATIVE   \n",
       "290392  32_facial_facial recognition_recognition_faces  NEGATIVE   \n",
       "290393  32_facial_facial recognition_recognition_faces  NEGATIVE   \n",
       "290394  32_facial_facial recognition_recognition_faces  POSITIVE   \n",
       "...                                                ...       ...   \n",
       "291228  32_facial_facial recognition_recognition_faces  POSITIVE   \n",
       "291229  32_facial_facial recognition_recognition_faces  POSITIVE   \n",
       "291230  32_facial_facial recognition_recognition_faces  POSITIVE   \n",
       "291238  32_facial_facial recognition_recognition_faces  NEGATIVE   \n",
       "291239  32_facial_facial recognition_recognition_faces  POSITIVE   \n",
       "\n",
       "        sentiment_score  sentiment_score_1  year  \n",
       "290363         0.995887          -0.995887  2021  \n",
       "290390         0.998695          -0.998695  2022  \n",
       "290392         0.999459          -0.999459  2022  \n",
       "290393         0.999478          -0.999478  2022  \n",
       "290394         0.963813           0.963813  2022  \n",
       "...                 ...                ...   ...  \n",
       "291228         0.950038           0.950038  2016  \n",
       "291229         0.997092           0.997092  2016  \n",
       "291230         0.993983           0.993983  2016  \n",
       "291238         0.996828          -0.996828  2015  \n",
       "291239         0.991918           0.991918  2015  \n",
       "\n",
       "[224 rows x 18 columns]"
      ]
     },
     "execution_count": 86,
     "metadata": {},
     "output_type": "execute_result"
    }
   ],
   "source": [
    "tem2"
   ]
  }
 ],
 "metadata": {
  "kernelspec": {
   "display_name": "Python 3.9.5 ('base')",
   "language": "python",
   "name": "python3"
  },
  "language_info": {
   "codemirror_mode": {
    "name": "ipython",
    "version": 3
   },
   "file_extension": ".py",
   "mimetype": "text/x-python",
   "name": "python",
   "nbconvert_exporter": "python",
   "pygments_lexer": "ipython3",
   "version": "3.9.5"
  },
  "orig_nbformat": 4,
  "vscode": {
   "interpreter": {
    "hash": "725a73563e8cb218d1bdef73fbe522cc2000c343f76cf85b0b96bd6c72a1fd0a"
   }
  }
 },
 "nbformat": 4,
 "nbformat_minor": 2
}
