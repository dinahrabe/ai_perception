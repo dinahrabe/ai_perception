{
 "cells": [
  {
   "cell_type": "code",
   "execution_count": 31,
   "metadata": {},
   "outputs": [],
   "source": [
    "import pandas as pd\n",
    "relevant_df=pd.read_csv('../data/relevant_topics_df.csv')"
   ]
  },
  {
   "cell_type": "code",
   "execution_count": 32,
   "metadata": {},
   "outputs": [
    {
     "data": {
      "text/html": [
       "<div>\n",
       "<style scoped>\n",
       "    .dataframe tbody tr th:only-of-type {\n",
       "        vertical-align: middle;\n",
       "    }\n",
       "\n",
       "    .dataframe tbody tr th {\n",
       "        vertical-align: top;\n",
       "    }\n",
       "\n",
       "    .dataframe thead th {\n",
       "        text-align: right;\n",
       "    }\n",
       "</style>\n",
       "<table border=\"1\" class=\"dataframe\">\n",
       "  <thead>\n",
       "    <tr style=\"text-align: right;\">\n",
       "      <th></th>\n",
       "      <th>Unnamed: 0.1</th>\n",
       "      <th>Unnamed: 0</th>\n",
       "      <th>article_nr</th>\n",
       "      <th>sentence</th>\n",
       "      <th>wordcount</th>\n",
       "      <th>section_name</th>\n",
       "      <th>web_publication_date</th>\n",
       "      <th>headline</th>\n",
       "      <th>web_title</th>\n",
       "      <th>production_office</th>\n",
       "      <th>publication</th>\n",
       "      <th>topic</th>\n",
       "      <th>Topic</th>\n",
       "      <th>Count</th>\n",
       "      <th>Name</th>\n",
       "      <th>sentiment</th>\n",
       "      <th>sentiment_score</th>\n",
       "      <th>sentiment_score_1</th>\n",
       "      <th>year</th>\n",
       "    </tr>\n",
       "  </thead>\n",
       "  <tbody>\n",
       "    <tr>\n",
       "      <th>0</th>\n",
       "      <td>256994</td>\n",
       "      <td>26</td>\n",
       "      <td>0</td>\n",
       "      <td>However much sceptics and critics might ridicu...</td>\n",
       "      <td>855</td>\n",
       "      <td>Opinion</td>\n",
       "      <td>2022-08-20T13:00:42Z</td>\n",
       "      <td>AI-generated art illustrates another problem w...</td>\n",
       "      <td>AI-generated art illustrates another problem w...</td>\n",
       "      <td>UK</td>\n",
       "      <td>The Observer</td>\n",
       "      <td>42</td>\n",
       "      <td>42</td>\n",
       "      <td>755</td>\n",
       "      <td>42_machines_machine_humans_human</td>\n",
       "      <td>POSITIVE</td>\n",
       "      <td>0.997797</td>\n",
       "      <td>0.997797</td>\n",
       "      <td>2022</td>\n",
       "    </tr>\n",
       "    <tr>\n",
       "      <th>1</th>\n",
       "      <td>256995</td>\n",
       "      <td>408</td>\n",
       "      <td>6</td>\n",
       "      <td>But for anyone who thinks that living in a wor...</td>\n",
       "      <td>755</td>\n",
       "      <td>Opinion</td>\n",
       "      <td>2021-12-25T15:00:05Z</td>\n",
       "      <td>Worried about super-intelligent machines? They...</td>\n",
       "      <td>Worried about super-intelligent machines? They...</td>\n",
       "      <td>UK</td>\n",
       "      <td>The Observer</td>\n",
       "      <td>42</td>\n",
       "      <td>42</td>\n",
       "      <td>755</td>\n",
       "      <td>42_machines_machine_humans_human</td>\n",
       "      <td>POSITIVE</td>\n",
       "      <td>0.969094</td>\n",
       "      <td>0.969094</td>\n",
       "      <td>2021</td>\n",
       "    </tr>\n",
       "    <tr>\n",
       "      <th>2</th>\n",
       "      <td>256996</td>\n",
       "      <td>538</td>\n",
       "      <td>8</td>\n",
       "      <td>There is a deeper split about whether machines...</td>\n",
       "      <td>715</td>\n",
       "      <td>Technology</td>\n",
       "      <td>2022-06-13T11:43:37Z</td>\n",
       "      <td>How does Google’s AI chatbot work – and could ...</td>\n",
       "      <td>How does Google’s AI chatbot work – and could ...</td>\n",
       "      <td>UK</td>\n",
       "      <td>theguardian.com</td>\n",
       "      <td>42</td>\n",
       "      <td>42</td>\n",
       "      <td>755</td>\n",
       "      <td>42_machines_machine_humans_human</td>\n",
       "      <td>NEGATIVE</td>\n",
       "      <td>0.996847</td>\n",
       "      <td>-0.996847</td>\n",
       "      <td>2022</td>\n",
       "    </tr>\n",
       "    <tr>\n",
       "      <th>3</th>\n",
       "      <td>256997</td>\n",
       "      <td>609</td>\n",
       "      <td>10</td>\n",
       "      <td>The second sense, from which the first borrows...</td>\n",
       "      <td>1002</td>\n",
       "      <td>Books</td>\n",
       "      <td>2021-11-29T07:00:51Z</td>\n",
       "      <td>The big idea: Should we worry about artificial...</td>\n",
       "      <td>The big idea: Should we worry about artificial...</td>\n",
       "      <td>UK</td>\n",
       "      <td>The Guardian</td>\n",
       "      <td>42</td>\n",
       "      <td>42</td>\n",
       "      <td>755</td>\n",
       "      <td>42_machines_machine_humans_human</td>\n",
       "      <td>POSITIVE</td>\n",
       "      <td>0.997163</td>\n",
       "      <td>0.997163</td>\n",
       "      <td>2021</td>\n",
       "    </tr>\n",
       "    <tr>\n",
       "      <th>4</th>\n",
       "      <td>256998</td>\n",
       "      <td>656</td>\n",
       "      <td>11</td>\n",
       "      <td>Well, that the machine was displaying signs of...</td>\n",
       "      <td>804</td>\n",
       "      <td>Opinion</td>\n",
       "      <td>2022-06-18T13:00:21Z</td>\n",
       "      <td>Why is Google so alarmed by the prospect of a ...</td>\n",
       "      <td>Why is Google so alarmed by the prospect of a ...</td>\n",
       "      <td>UK</td>\n",
       "      <td>The Observer</td>\n",
       "      <td>42</td>\n",
       "      <td>42</td>\n",
       "      <td>755</td>\n",
       "      <td>42_machines_machine_humans_human</td>\n",
       "      <td>NEGATIVE</td>\n",
       "      <td>0.706173</td>\n",
       "      <td>-0.706173</td>\n",
       "      <td>2022</td>\n",
       "    </tr>\n",
       "  </tbody>\n",
       "</table>\n",
       "</div>"
      ],
      "text/plain": [
       "   Unnamed: 0.1  Unnamed: 0  article_nr  \\\n",
       "0        256994          26           0   \n",
       "1        256995         408           6   \n",
       "2        256996         538           8   \n",
       "3        256997         609          10   \n",
       "4        256998         656          11   \n",
       "\n",
       "                                            sentence  wordcount section_name  \\\n",
       "0  However much sceptics and critics might ridicu...        855      Opinion   \n",
       "1  But for anyone who thinks that living in a wor...        755      Opinion   \n",
       "2  There is a deeper split about whether machines...        715   Technology   \n",
       "3  The second sense, from which the first borrows...       1002        Books   \n",
       "4  Well, that the machine was displaying signs of...        804      Opinion   \n",
       "\n",
       "   web_publication_date                                           headline  \\\n",
       "0  2022-08-20T13:00:42Z  AI-generated art illustrates another problem w...   \n",
       "1  2021-12-25T15:00:05Z  Worried about super-intelligent machines? They...   \n",
       "2  2022-06-13T11:43:37Z  How does Google’s AI chatbot work – and could ...   \n",
       "3  2021-11-29T07:00:51Z  The big idea: Should we worry about artificial...   \n",
       "4  2022-06-18T13:00:21Z  Why is Google so alarmed by the prospect of a ...   \n",
       "\n",
       "                                           web_title production_office  \\\n",
       "0  AI-generated art illustrates another problem w...                UK   \n",
       "1  Worried about super-intelligent machines? They...                UK   \n",
       "2  How does Google’s AI chatbot work – and could ...                UK   \n",
       "3  The big idea: Should we worry about artificial...                UK   \n",
       "4  Why is Google so alarmed by the prospect of a ...                UK   \n",
       "\n",
       "       publication  topic  Topic  Count                              Name  \\\n",
       "0     The Observer     42     42    755  42_machines_machine_humans_human   \n",
       "1     The Observer     42     42    755  42_machines_machine_humans_human   \n",
       "2  theguardian.com     42     42    755  42_machines_machine_humans_human   \n",
       "3     The Guardian     42     42    755  42_machines_machine_humans_human   \n",
       "4     The Observer     42     42    755  42_machines_machine_humans_human   \n",
       "\n",
       "  sentiment  sentiment_score  sentiment_score_1  year  \n",
       "0  POSITIVE         0.997797           0.997797  2022  \n",
       "1  POSITIVE         0.969094           0.969094  2021  \n",
       "2  NEGATIVE         0.996847          -0.996847  2022  \n",
       "3  POSITIVE         0.997163           0.997163  2021  \n",
       "4  NEGATIVE         0.706173          -0.706173  2022  "
      ]
     },
     "execution_count": 32,
     "metadata": {},
     "output_type": "execute_result"
    }
   ],
   "source": [
    "relevant_df.head()"
   ]
  },
  {
   "cell_type": "code",
   "execution_count": null,
   "metadata": {},
   "outputs": [],
   "source": []
  },
  {
   "cell_type": "code",
   "execution_count": 33,
   "metadata": {},
   "outputs": [
    {
     "data": {
      "text/plain": [
       "section_name    Name                                                \n",
       "About           22_turing_alan_alan turing_test                         20\n",
       "                24_women_female_engineering_gender                       2\n",
       "                3_ai_intelligence_artificial_artificial intelligence     1\n",
       "                40_language_word_words_translation                      16\n",
       "Art and design  13_data_privacy_big data_protection                      5\n",
       "Name: article_nr, dtype: int64"
      ]
     },
     "execution_count": 33,
     "metadata": {},
     "output_type": "execute_result"
    }
   ],
   "source": [
    "# filter for section_name 'Technology' and count number of articles per topic\n",
    "section_df = relevant_df.groupby(['section_name','Name'])['article_nr'].count()\n",
    "\n",
    "section_df.head()"
   ]
  },
  {
   "cell_type": "code",
   "execution_count": 34,
   "metadata": {},
   "outputs": [
    {
     "name": "stderr",
     "output_type": "stream",
     "text": [
      "/var/folders/d0/5yt19bqs6bv_03rdznqvkyym0000gn/T/ipykernel_8184/2172260521.py:1: FutureWarning:\n",
      "\n",
      "Not prepending group keys to the result index of transform-like apply. In the future, the group keys will be included in the index, regardless of whether the applied function returns a like-indexed object.\n",
      "To preserve the previous behavior, use\n",
      "\n",
      "\t>>> .groupby(..., group_keys=False)\n",
      "\n",
      "To adopt the future behavior and silence this warning, use \n",
      "\n",
      "\t>>> .groupby(..., group_keys=True)\n",
      "\n"
     ]
    }
   ],
   "source": [
    "sec_per_df = relevant_df.groupby(['section_name','topic','Name'])['article_nr'].count().groupby(level=0).apply(lambda x: 100 * x / x.sum()).reset_index()"
   ]
  },
  {
   "cell_type": "code",
   "execution_count": 35,
   "metadata": {},
   "outputs": [
    {
     "data": {
      "text/html": [
       "<div>\n",
       "<style scoped>\n",
       "    .dataframe tbody tr th:only-of-type {\n",
       "        vertical-align: middle;\n",
       "    }\n",
       "\n",
       "    .dataframe tbody tr th {\n",
       "        vertical-align: top;\n",
       "    }\n",
       "\n",
       "    .dataframe thead th {\n",
       "        text-align: right;\n",
       "    }\n",
       "</style>\n",
       "<table border=\"1\" class=\"dataframe\">\n",
       "  <thead>\n",
       "    <tr style=\"text-align: right;\">\n",
       "      <th></th>\n",
       "      <th>section_name</th>\n",
       "      <th>topic</th>\n",
       "      <th>Name</th>\n",
       "      <th>article_nr</th>\n",
       "    </tr>\n",
       "  </thead>\n",
       "  <tbody>\n",
       "    <tr>\n",
       "      <th>0</th>\n",
       "      <td>About</td>\n",
       "      <td>3</td>\n",
       "      <td>3_ai_intelligence_artificial_artificial intell...</td>\n",
       "      <td>2.564103</td>\n",
       "    </tr>\n",
       "    <tr>\n",
       "      <th>1</th>\n",
       "      <td>About</td>\n",
       "      <td>22</td>\n",
       "      <td>22_turing_alan_alan turing_test</td>\n",
       "      <td>51.282051</td>\n",
       "    </tr>\n",
       "    <tr>\n",
       "      <th>2</th>\n",
       "      <td>About</td>\n",
       "      <td>24</td>\n",
       "      <td>24_women_female_engineering_gender</td>\n",
       "      <td>5.128205</td>\n",
       "    </tr>\n",
       "    <tr>\n",
       "      <th>3</th>\n",
       "      <td>About</td>\n",
       "      <td>40</td>\n",
       "      <td>40_language_word_words_translation</td>\n",
       "      <td>41.025641</td>\n",
       "    </tr>\n",
       "    <tr>\n",
       "      <th>4</th>\n",
       "      <td>Art and design</td>\n",
       "      <td>3</td>\n",
       "      <td>3_ai_intelligence_artificial_artificial intell...</td>\n",
       "      <td>22.807018</td>\n",
       "    </tr>\n",
       "    <tr>\n",
       "      <th>5</th>\n",
       "      <td>Art and design</td>\n",
       "      <td>13</td>\n",
       "      <td>13_data_privacy_big data_protection</td>\n",
       "      <td>4.385965</td>\n",
       "    </tr>\n",
       "    <tr>\n",
       "      <th>6</th>\n",
       "      <td>Art and design</td>\n",
       "      <td>18</td>\n",
       "      <td>18_algorithms_learning_algorithm_machine learning</td>\n",
       "      <td>7.017544</td>\n",
       "    </tr>\n",
       "    <tr>\n",
       "      <th>7</th>\n",
       "      <td>Art and design</td>\n",
       "      <td>22</td>\n",
       "      <td>22_turing_alan_alan turing_test</td>\n",
       "      <td>14.035088</td>\n",
       "    </tr>\n",
       "    <tr>\n",
       "      <th>8</th>\n",
       "      <td>Art and design</td>\n",
       "      <td>24</td>\n",
       "      <td>24_women_female_engineering_gender</td>\n",
       "      <td>5.263158</td>\n",
       "    </tr>\n",
       "    <tr>\n",
       "      <th>9</th>\n",
       "      <td>Art and design</td>\n",
       "      <td>25</td>\n",
       "      <td>25_automation_jobs_davos_revolution</td>\n",
       "      <td>0.877193</td>\n",
       "    </tr>\n",
       "  </tbody>\n",
       "</table>\n",
       "</div>"
      ],
      "text/plain": [
       "     section_name  topic                                               Name  \\\n",
       "0           About      3  3_ai_intelligence_artificial_artificial intell...   \n",
       "1           About     22                    22_turing_alan_alan turing_test   \n",
       "2           About     24                 24_women_female_engineering_gender   \n",
       "3           About     40                 40_language_word_words_translation   \n",
       "4  Art and design      3  3_ai_intelligence_artificial_artificial intell...   \n",
       "5  Art and design     13                13_data_privacy_big data_protection   \n",
       "6  Art and design     18  18_algorithms_learning_algorithm_machine learning   \n",
       "7  Art and design     22                    22_turing_alan_alan turing_test   \n",
       "8  Art and design     24                 24_women_female_engineering_gender   \n",
       "9  Art and design     25                25_automation_jobs_davos_revolution   \n",
       "\n",
       "   article_nr  \n",
       "0    2.564103  \n",
       "1   51.282051  \n",
       "2    5.128205  \n",
       "3   41.025641  \n",
       "4   22.807018  \n",
       "5    4.385965  \n",
       "6    7.017544  \n",
       "7   14.035088  \n",
       "8    5.263158  \n",
       "9    0.877193  "
      ]
     },
     "execution_count": 35,
     "metadata": {},
     "output_type": "execute_result"
    }
   ],
   "source": [
    "sec_per_df.head(10)"
   ]
  },
  {
   "cell_type": "code",
   "execution_count": 36,
   "metadata": {},
   "outputs": [],
   "source": [
    "# subset to section_name 'Technology', Opinion, Science\n",
    "sec_per_df = sec_per_df[sec_per_df['section_name'].isin(['Technology', 'Opinion', 'Science','Film', 'Games','Books'])]\n",
    "\n"
   ]
  },
  {
   "cell_type": "code",
   "execution_count": 37,
   "metadata": {},
   "outputs": [],
   "source": [
    "#type of the column article_nr\n",
    "type(sec_per_df['article_nr'])\n",
    "\n",
    "# convert article_nr to float\n",
    "sec_per_df['article_nr'] = sec_per_df['article_nr'].astype(float)"
   ]
  },
  {
   "cell_type": "code",
   "execution_count": 25,
   "metadata": {},
   "outputs": [
    {
     "data": {
      "image/png": "[encoded data removed]",
      "text/plain": [
       "<Figure size 1000x500 with 1 Axes>"
      ]
     },
     "metadata": {},
     "output_type": "display_data"
    }
   ],
   "source": [
    "# make a grouped bar plot of the percentages of topics per section_name\n",
    "sec_per_df.groupby(['section_name', 'topic','Name']).article_nr.sum().unstack().plot(kind='bar', stacked=True, figsize=(10, 5))\n",
    "sec_per_df = sec_per_df.sort_values(by='topic', ascending=False)\n",
    "\n",
    "#number of articles per topic per section\n",
    "#sec_per_df.unstack().plot(kind='bar', stacked=True, figsize=(15,10), title='Percentage of Topic per Section')"
   ]
  },
  {
   "cell_type": "code",
   "execution_count": 26,
   "metadata": {},
   "outputs": [],
   "source": [
    "import plotly.express as px"
   ]
  },
  {
   "cell_type": "code",
   "execution_count": 38,
   "metadata": {},
   "outputs": [
    {
     "data": {
      "text/html": [
       "<div>\n",
       "<style scoped>\n",
       "    .dataframe tbody tr th:only-of-type {\n",
       "        vertical-align: middle;\n",
       "    }\n",
       "\n",
       "    .dataframe tbody tr th {\n",
       "        vertical-align: top;\n",
       "    }\n",
       "\n",
       "    .dataframe thead th {\n",
       "        text-align: right;\n",
       "    }\n",
       "</style>\n",
       "<table border=\"1\" class=\"dataframe\">\n",
       "  <thead>\n",
       "    <tr style=\"text-align: right;\">\n",
       "      <th></th>\n",
       "      <th>section_name</th>\n",
       "      <th>topic</th>\n",
       "      <th>Topics</th>\n",
       "      <th>percentage</th>\n",
       "    </tr>\n",
       "  </thead>\n",
       "  <tbody>\n",
       "    <tr>\n",
       "      <th>27</th>\n",
       "      <td>Books</td>\n",
       "      <td>3</td>\n",
       "      <td>3_ai_intelligence_artificial_artificial intell...</td>\n",
       "      <td>35.587189</td>\n",
       "    </tr>\n",
       "    <tr>\n",
       "      <th>28</th>\n",
       "      <td>Books</td>\n",
       "      <td>13</td>\n",
       "      <td>13_data_privacy_big data_protection</td>\n",
       "      <td>7.295374</td>\n",
       "    </tr>\n",
       "    <tr>\n",
       "      <th>29</th>\n",
       "      <td>Books</td>\n",
       "      <td>18</td>\n",
       "      <td>18_algorithms_learning_algorithm_machine learning</td>\n",
       "      <td>9.074733</td>\n",
       "    </tr>\n",
       "    <tr>\n",
       "      <th>30</th>\n",
       "      <td>Books</td>\n",
       "      <td>22</td>\n",
       "      <td>22_turing_alan_alan turing_test</td>\n",
       "      <td>13.167260</td>\n",
       "    </tr>\n",
       "    <tr>\n",
       "      <th>31</th>\n",
       "      <td>Books</td>\n",
       "      <td>24</td>\n",
       "      <td>24_women_female_engineering_gender</td>\n",
       "      <td>4.092527</td>\n",
       "    </tr>\n",
       "  </tbody>\n",
       "</table>\n",
       "</div>"
      ],
      "text/plain": [
       "   section_name  topic                                             Topics  \\\n",
       "27        Books      3  3_ai_intelligence_artificial_artificial intell...   \n",
       "28        Books     13                13_data_privacy_big data_protection   \n",
       "29        Books     18  18_algorithms_learning_algorithm_machine learning   \n",
       "30        Books     22                    22_turing_alan_alan turing_test   \n",
       "31        Books     24                 24_women_female_engineering_gender   \n",
       "\n",
       "    percentage  \n",
       "27   35.587189  \n",
       "28    7.295374  \n",
       "29    9.074733  \n",
       "30   13.167260  \n",
       "31    4.092527  "
      ]
     },
     "execution_count": 38,
     "metadata": {},
     "output_type": "execute_result"
    }
   ],
   "source": [
    "# rename the column 'article_nr' to 'percentage'\n",
    "sec_per_df.rename(columns={'article_nr': 'percentage'}, inplace=True)\n",
    "sec_per_df.rename(columns={'Name': 'Topics'}, inplace=True)\n",
    "\n",
    "sec_per_df.head()\n",
    "\n"
   ]
  },
  {
   "cell_type": "code",
   "execution_count": 42,
   "metadata": {},
   "outputs": [
    {
     "data": {
      "application/vnd.plotly.v1+json": {
       "config": {
        "plotlyServerURL": "https://plot.ly"
       },
       "data": [
        {
         "alignmentgroup": "True",
         "hovertemplate": "section_name=Books<br>percentage=%{x}<br>Topics=%{y}<extra></extra>",
         "legendgroup": "",
         "marker": {
          "color": "#636efa",
          "pattern": {
           "shape": ""
          }
         },
         "name": "",
         "offsetgroup": "",
         "orientation": "h",
         "showlegend": false,
         "textposition": "auto",
         "type": "bar",
         "x": [
          35.587188612099645,
          7.295373665480427,
          9.07473309608541,
          13.167259786476869,
          4.092526690391459,
          5.693950177935943,
          0.8896797153024911,
          1.7793594306049823,
          1.0676156583629892,
          5.871886120996441,
          7.473309608540926,
          8.00711743772242
         ],
         "xaxis": "x4",
         "y": [
          "3_ai_intelligence_artificial_artificial intelligence",
          "13_data_privacy_big data_protection",
          "18_algorithms_learning_algorithm_machine learning",
          "22_turing_alan_alan turing_test",
          "24_women_female_engineering_gender",
          "25_automation_jobs_davos_revolution",
          "27_drones_drone_unmanned_strikes",
          "29_voice_speech_voices_recognition",
          "32_facial_facial recognition_recognition_faces",
          "33_brain_brains_memory_human",
          "40_language_word_words_translation",
          "42_machines_machine_humans_human"
         ],
         "yaxis": "y4"
        },
        {
         "alignmentgroup": "True",
         "hovertemplate": "section_name=Film<br>percentage=%{x}<br>Topics=%{y}<extra></extra>",
         "legendgroup": "",
         "marker": {
          "color": "#636efa",
          "pattern": {
           "shape": ""
          }
         },
         "name": "",
         "offsetgroup": "",
         "orientation": "h",
         "showlegend": false,
         "textposition": "auto",
         "type": "bar",
         "x": [
          30.88235294117647,
          2.450980392156863,
          3.4313725490196076,
          26.470588235294116,
          4.411764705882353,
          3.9215686274509802,
          2.9411764705882355,
          9.803921568627452,
          0.49019607843137253,
          4.411764705882353,
          4.411764705882353,
          6.372549019607843
         ],
         "xaxis": "x5",
         "y": [
          "3_ai_intelligence_artificial_artificial intelligence",
          "13_data_privacy_big data_protection",
          "18_algorithms_learning_algorithm_machine learning",
          "22_turing_alan_alan turing_test",
          "24_women_female_engineering_gender",
          "25_automation_jobs_davos_revolution",
          "27_drones_drone_unmanned_strikes",
          "29_voice_speech_voices_recognition",
          "32_facial_facial recognition_recognition_faces",
          "33_brain_brains_memory_human",
          "40_language_word_words_translation",
          "42_machines_machine_humans_human"
         ],
         "yaxis": "y5"
        },
        {
         "alignmentgroup": "True",
         "hovertemplate": "section_name=Games<br>percentage=%{x}<br>Topics=%{y}<extra></extra>",
         "legendgroup": "",
         "marker": {
          "color": "#636efa",
          "pattern": {
           "shape": ""
          }
         },
         "name": "",
         "offsetgroup": "",
         "orientation": "h",
         "showlegend": false,
         "textposition": "auto",
         "type": "bar",
         "x": [
          43.714285714285715,
          2,
          2,
          1.4285714285714286,
          26.571428571428573,
          0.2857142857142857,
          5.714285714285714,
          4.571428571428571,
          1.4285714285714286,
          2.5714285714285716,
          6.571428571428571,
          3.142857142857143
         ],
         "xaxis": "x6",
         "y": [
          "3_ai_intelligence_artificial_artificial intelligence",
          "13_data_privacy_big data_protection",
          "18_algorithms_learning_algorithm_machine learning",
          "22_turing_alan_alan turing_test",
          "24_women_female_engineering_gender",
          "25_automation_jobs_davos_revolution",
          "27_drones_drone_unmanned_strikes",
          "29_voice_speech_voices_recognition",
          "32_facial_facial recognition_recognition_faces",
          "33_brain_brains_memory_human",
          "40_language_word_words_translation",
          "42_machines_machine_humans_human"
         ],
         "yaxis": "y6"
        },
        {
         "alignmentgroup": "True",
         "hovertemplate": "section_name=Opinion<br>percentage=%{x}<br>Topics=%{y}<extra></extra>",
         "legendgroup": "",
         "marker": {
          "color": "#636efa",
          "pattern": {
           "shape": ""
          }
         },
         "name": "",
         "offsetgroup": "",
         "orientation": "h",
         "showlegend": false,
         "textposition": "auto",
         "type": "bar",
         "x": [
          24.066168623265742,
          14.834578441835646,
          12.540021344717182,
          2.08110992529349,
          7.20384204909285,
          8.32443970117396,
          5.122732123799359,
          3.2017075773746,
          8.751334044823906,
          2.40128068303095,
          4.268943436499466,
          7.20384204909285
         ],
         "xaxis": "x",
         "y": [
          "3_ai_intelligence_artificial_artificial intelligence",
          "13_data_privacy_big data_protection",
          "18_algorithms_learning_algorithm_machine learning",
          "22_turing_alan_alan turing_test",
          "24_women_female_engineering_gender",
          "25_automation_jobs_davos_revolution",
          "27_drones_drone_unmanned_strikes",
          "29_voice_speech_voices_recognition",
          "32_facial_facial recognition_recognition_faces",
          "33_brain_brains_memory_human",
          "40_language_word_words_translation",
          "42_machines_machine_humans_human"
         ],
         "yaxis": "y"
        },
        {
         "alignmentgroup": "True",
         "hovertemplate": "section_name=Science<br>percentage=%{x}<br>Topics=%{y}<extra></extra>",
         "legendgroup": "",
         "marker": {
          "color": "#636efa",
          "pattern": {
           "shape": ""
          }
         },
         "name": "",
         "offsetgroup": "",
         "orientation": "h",
         "showlegend": false,
         "textposition": "auto",
         "type": "bar",
         "x": [
          22.4976167778837,
          5.529075309818875,
          9.914204003813156,
          18.112488083889417,
          3.336510962821735,
          2.001906577693041,
          2.2878932316491896,
          4.671115347950429,
          0.9532888465204957,
          21.258341277407055,
          4.861773117254528,
          4.575786463298379
         ],
         "xaxis": "x2",
         "y": [
          "3_ai_intelligence_artificial_artificial intelligence",
          "13_data_privacy_big data_protection",
          "18_algorithms_learning_algorithm_machine learning",
          "22_turing_alan_alan turing_test",
          "24_women_female_engineering_gender",
          "25_automation_jobs_davos_revolution",
          "27_drones_drone_unmanned_strikes",
          "29_voice_speech_voices_recognition",
          "32_facial_facial recognition_recognition_faces",
          "33_brain_brains_memory_human",
          "40_language_word_words_translation",
          "42_machines_machine_humans_human"
         ],
         "yaxis": "y2"
        },
        {
         "alignmentgroup": "True",
         "hovertemplate": "section_name=Technology<br>percentage=%{x}<br>Topics=%{y}<extra></extra>",
         "legendgroup": "",
         "marker": {
          "color": "#636efa",
          "pattern": {
           "shape": ""
          }
         },
         "name": "",
         "offsetgroup": "",
         "orientation": "h",
         "showlegend": false,
         "textposition": "auto",
         "type": "bar",
         "x": [
          25.76419213973799,
          10.35191369124069,
          11.19958900590804,
          1.6696634985872079,
          2.594400205497046,
          6.010788594913948,
          4.161315181094272,
          10.043668122270743,
          13.151810942717699,
          5.959414333418957,
          4.05856665810429,
          5.034677626509119
         ],
         "xaxis": "x3",
         "y": [
          "3_ai_intelligence_artificial_artificial intelligence",
          "13_data_privacy_big data_protection",
          "18_algorithms_learning_algorithm_machine learning",
          "22_turing_alan_alan turing_test",
          "24_women_female_engineering_gender",
          "25_automation_jobs_davos_revolution",
          "27_drones_drone_unmanned_strikes",
          "29_voice_speech_voices_recognition",
          "32_facial_facial recognition_recognition_faces",
          "33_brain_brains_memory_human",
          "40_language_word_words_translation",
          "42_machines_machine_humans_human"
         ],
         "yaxis": "y3"
        }
       ],
       "layout": {
        "annotations": [
         {
          "font": {},
          "showarrow": false,
          "text": "Opinion",
          "x": 0.15999999999999998,
          "xanchor": "center",
          "xref": "paper",
          "y": 0.46499999999999997,
          "yanchor": "bottom",
          "yref": "paper"
         },
         {
          "font": {},
          "showarrow": false,
          "text": "Science",
          "x": 0.49999999999999994,
          "xanchor": "center",
          "xref": "paper",
          "y": 0.46499999999999997,
          "yanchor": "bottom",
          "yref": "paper"
         },
         {
          "font": {},
          "showarrow": false,
          "text": "Technology",
          "x": 0.8399999999999999,
          "xanchor": "center",
          "xref": "paper",
          "y": 0.46499999999999997,
          "yanchor": "bottom",
          "yref": "paper"
         },
         {
          "font": {},
          "showarrow": false,
          "text": "Books",
          "x": 0.15999999999999998,
          "xanchor": "center",
          "xref": "paper",
          "y": 0.9999999999999999,
          "yanchor": "bottom",
          "yref": "paper"
         },
         {
          "font": {},
          "showarrow": false,
          "text": "Film",
          "x": 0.49999999999999994,
          "xanchor": "center",
          "xref": "paper",
          "y": 0.9999999999999999,
          "yanchor": "bottom",
          "yref": "paper"
         },
         {
          "font": {},
          "showarrow": false,
          "text": "Games",
          "x": 0.8399999999999999,
          "xanchor": "center",
          "xref": "paper",
          "y": 0.9999999999999999,
          "yanchor": "bottom",
          "yref": "paper"
         }
        ],
        "barmode": "relative",
        "legend": {
         "tracegroupgap": 0
        },
        "template": {
         "data": {
          "bar": [
           {
            "error_x": {
             "color": "#2a3f5f"
            },
            "error_y": {
             "color": "#2a3f5f"
            },
            "marker": {
             "line": {
              "color": "#E5ECF6",
              "width": 0.5
             },
             "pattern": {
              "fillmode": "overlay",
              "size": 10,
              "solidity": 0.2
             }
            },
            "type": "bar"
           }
          ],
          "barpolar": [
           {
            "marker": {
             "line": {
              "color": "#E5ECF6",
              "width": 0.5
             },
             "pattern": {
              "fillmode": "overlay",
              "size": 10,
              "solidity": 0.2
             }
            },
            "type": "barpolar"
           }
          ],
          "carpet": [
           {
            "aaxis": {
             "endlinecolor": "#2a3f5f",
             "gridcolor": "white",
             "linecolor": "white",
             "minorgridcolor": "white",
             "startlinecolor": "#2a3f5f"
            },
            "baxis": {
             "endlinecolor": "#2a3f5f",
             "gridcolor": "white",
             "linecolor": "white",
             "minorgridcolor": "white",
             "startlinecolor": "#2a3f5f"
            },
            "type": "carpet"
           }
          ],
          "choropleth": [
           {
            "colorbar": {
             "outlinewidth": 0,
             "ticks": ""
            },
            "type": "choropleth"
           }
          ],
          "contour": [
           {
            "colorbar": {
             "outlinewidth": 0,
             "ticks": ""
            },
            "colorscale": [
             [
              0,
              "#0d0887"
             ],
             [
              0.1111111111111111,
              "#46039f"
             ],
             [
              0.2222222222222222,
              "#7201a8"
             ],
             [
              0.3333333333333333,
              "#9c179e"
             ],
             [
              0.4444444444444444,
              "#bd3786"
             ],
             [
              0.5555555555555556,
              "#d8576b"
             ],
             [
              0.6666666666666666,
              "#ed7953"
             ],
             [
              0.7777777777777778,
              "#fb9f3a"
             ],
             [
              0.8888888888888888,
              "#fdca26"
             ],
             [
              1,
              "#f0f921"
             ]
            ],
            "type": "contour"
           }
          ],
          "contourcarpet": [
           {
            "colorbar": {
             "outlinewidth": 0,
             "ticks": ""
            },
            "type": "contourcarpet"
           }
          ],
          "heatmap": [
           {
            "colorbar": {
             "outlinewidth": 0,
             "ticks": ""
            },
            "colorscale": [
             [
              0,
              "#0d0887"
             ],
             [
              0.1111111111111111,
              "#46039f"
             ],
             [
              0.2222222222222222,
              "#7201a8"
             ],
             [
              0.3333333333333333,
              "#9c179e"
             ],
             [
              0.4444444444444444,
              "#bd3786"
             ],
             [
              0.5555555555555556,
              "#d8576b"
             ],
             [
              0.6666666666666666,
              "#ed7953"
             ],
             [
              0.7777777777777778,
              "#fb9f3a"
             ],
             [
              0.8888888888888888,
              "#fdca26"
             ],
             [
              1,
              "#f0f921"
             ]
            ],
            "type": "heatmap"
           }
          ],
          "heatmapgl": [
           {
            "colorbar": {
             "outlinewidth": 0,
             "ticks": ""
            },
            "colorscale": [
             [
              0,
              "#0d0887"
             ],
             [
              0.1111111111111111,
              "#46039f"
             ],
             [
              0.2222222222222222,
              "#7201a8"
             ],
             [
              0.3333333333333333,
              "#9c179e"
             ],
             [
              0.4444444444444444,
              "#bd3786"
             ],
             [
              0.5555555555555556,
              "#d8576b"
             ],
             [
              0.6666666666666666,
              "#ed7953"
             ],
             [
              0.7777777777777778,
              "#fb9f3a"
             ],
             [
              0.8888888888888888,
              "#fdca26"
             ],
             [
              1,
              "#f0f921"
             ]
            ],
            "type": "heatmapgl"
           }
          ],
          "histogram": [
           {
            "marker": {
             "pattern": {
              "fillmode": "overlay",
              "size": 10,
              "solidity": 0.2
             }
            },
            "type": "histogram"
           }
          ],
          "histogram2d": [
           {
            "colorbar": {
             "outlinewidth": 0,
             "ticks": ""
            },
            "colorscale": [
             [
              0,
              "#0d0887"
             ],
             [
              0.1111111111111111,
              "#46039f"
             ],
             [
              0.2222222222222222,
              "#7201a8"
             ],
             [
              0.3333333333333333,
              "#9c179e"
             ],
             [
              0.4444444444444444,
              "#bd3786"
             ],
             [
              0.5555555555555556,
              "#d8576b"
             ],
             [
              0.6666666666666666,
              "#ed7953"
             ],
             [
              0.7777777777777778,
              "#fb9f3a"
             ],
             [
              0.8888888888888888,
              "#fdca26"
             ],
             [
              1,
              "#f0f921"
             ]
            ],
            "type": "histogram2d"
           }
          ],
          "histogram2dcontour": [
           {
            "colorbar": {
             "outlinewidth": 0,
             "ticks": ""
            },
            "colorscale": [
             [
              0,
              "#0d0887"
             ],
             [
              0.1111111111111111,
              "#46039f"
             ],
             [
              0.2222222222222222,
              "#7201a8"
             ],
             [
              0.3333333333333333,
              "#9c179e"
             ],
             [
              0.4444444444444444,
              "#bd3786"
             ],
             [
              0.5555555555555556,
              "#d8576b"
             ],
             [
              0.6666666666666666,
              "#ed7953"
             ],
             [
              0.7777777777777778,
              "#fb9f3a"
             ],
             [
              0.8888888888888888,
              "#fdca26"
             ],
             [
              1,
              "#f0f921"
             ]
            ],
            "type": "histogram2dcontour"
           }
          ],
          "mesh3d": [
           {
            "colorbar": {
             "outlinewidth": 0,
             "ticks": ""
            },
            "type": "mesh3d"
           }
          ],
          "parcoords": [
           {
            "line": {
             "colorbar": {
              "outlinewidth": 0,
              "ticks": ""
             }
            },
            "type": "parcoords"
           }
          ],
          "pie": [
           {
            "automargin": true,
            "type": "pie"
           }
          ],
          "scatter": [
           {
            "fillpattern": {
             "fillmode": "overlay",
             "size": 10,
             "solidity": 0.2
            },
            "type": "scatter"
           }
          ],
          "scatter3d": [
           {
            "line": {
             "colorbar": {
              "outlinewidth": 0,
              "ticks": ""
             }
            },
            "marker": {
             "colorbar": {
              "outlinewidth": 0,
              "ticks": ""
             }
            },
            "type": "scatter3d"
           }
          ],
          "scattercarpet": [
           {
            "marker": {
             "colorbar": {
              "outlinewidth": 0,
              "ticks": ""
             }
            },
            "type": "scattercarpet"
           }
          ],
          "scattergeo": [
           {
            "marker": {
             "colorbar": {
              "outlinewidth": 0,
              "ticks": ""
             }
            },
            "type": "scattergeo"
           }
          ],
          "scattergl": [
           {
            "marker": {
             "colorbar": {
              "outlinewidth": 0,
              "ticks": ""
             }
            },
            "type": "scattergl"
           }
          ],
          "scattermapbox": [
           {
            "marker": {
             "colorbar": {
              "outlinewidth": 0,
              "ticks": ""
             }
            },
            "type": "scattermapbox"
           }
          ],
          "scatterpolar": [
           {
            "marker": {
             "colorbar": {
              "outlinewidth": 0,
              "ticks": ""
             }
            },
            "type": "scatterpolar"
           }
          ],
          "scatterpolargl": [
           {
            "marker": {
             "colorbar": {
              "outlinewidth": 0,
              "ticks": ""
             }
            },
            "type": "scatterpolargl"
           }
          ],
          "scatterternary": [
           {
            "marker": {
             "colorbar": {
              "outlinewidth": 0,
              "ticks": ""
             }
            },
            "type": "scatterternary"
           }
          ],
          "surface": [
           {
            "colorbar": {
             "outlinewidth": 0,
             "ticks": ""
            },
            "colorscale": [
             [
              0,
              "#0d0887"
             ],
             [
              0.1111111111111111,
              "#46039f"
             ],
             [
              0.2222222222222222,
              "#7201a8"
             ],
             [
              0.3333333333333333,
              "#9c179e"
             ],
             [
              0.4444444444444444,
              "#bd3786"
             ],
             [
              0.5555555555555556,
              "#d8576b"
             ],
             [
              0.6666666666666666,
              "#ed7953"
             ],
             [
              0.7777777777777778,
              "#fb9f3a"
             ],
             [
              0.8888888888888888,
              "#fdca26"
             ],
             [
              1,
              "#f0f921"
             ]
            ],
            "type": "surface"
           }
          ],
          "table": [
           {
            "cells": {
             "fill": {
              "color": "#EBF0F8"
             },
             "line": {
              "color": "white"
             }
            },
            "header": {
             "fill": {
              "color": "#C8D4E3"
             },
             "line": {
              "color": "white"
             }
            },
            "type": "table"
           }
          ]
         },
         "layout": {
          "annotationdefaults": {
           "arrowcolor": "#2a3f5f",
           "arrowhead": 0,
           "arrowwidth": 1
          },
          "autotypenumbers": "strict",
          "coloraxis": {
           "colorbar": {
            "outlinewidth": 0,
            "ticks": ""
           }
          },
          "colorscale": {
           "diverging": [
            [
             0,
             "#8e0152"
            ],
            [
             0.1,
             "#c51b7d"
            ],
            [
             0.2,
             "#de77ae"
            ],
            [
             0.3,
             "#f1b6da"
            ],
            [
             0.4,
             "#fde0ef"
            ],
            [
             0.5,
             "#f7f7f7"
            ],
            [
             0.6,
             "#e6f5d0"
            ],
            [
             0.7,
             "#b8e186"
            ],
            [
             0.8,
             "#7fbc41"
            ],
            [
             0.9,
             "#4d9221"
            ],
            [
             1,
             "#276419"
            ]
           ],
           "sequential": [
            [
             0,
             "#0d0887"
            ],
            [
             0.1111111111111111,
             "#46039f"
            ],
            [
             0.2222222222222222,
             "#7201a8"
            ],
            [
             0.3333333333333333,
             "#9c179e"
            ],
            [
             0.4444444444444444,
             "#bd3786"
            ],
            [
             0.5555555555555556,
             "#d8576b"
            ],
            [
             0.6666666666666666,
             "#ed7953"
            ],
            [
             0.7777777777777778,
             "#fb9f3a"
            ],
            [
             0.8888888888888888,
             "#fdca26"
            ],
            [
             1,
             "#f0f921"
            ]
           ],
           "sequentialminus": [
            [
             0,
             "#0d0887"
            ],
            [
             0.1111111111111111,
             "#46039f"
            ],
            [
             0.2222222222222222,
             "#7201a8"
            ],
            [
             0.3333333333333333,
             "#9c179e"
            ],
            [
             0.4444444444444444,
             "#bd3786"
            ],
            [
             0.5555555555555556,
             "#d8576b"
            ],
            [
             0.6666666666666666,
             "#ed7953"
            ],
            [
             0.7777777777777778,
             "#fb9f3a"
            ],
            [
             0.8888888888888888,
             "#fdca26"
            ],
            [
             1,
             "#f0f921"
            ]
           ]
          },
          "colorway": [
           "#636efa",
           "#EF553B",
           "#00cc96",
           "#ab63fa",
           "#FFA15A",
           "#19d3f3",
           "#FF6692",
           "#B6E880",
           "#FF97FF",
           "#FECB52"
          ],
          "font": {
           "color": "#2a3f5f"
          },
          "geo": {
           "bgcolor": "white",
           "lakecolor": "white",
           "landcolor": "#E5ECF6",
           "showlakes": true,
           "showland": true,
           "subunitcolor": "white"
          },
          "hoverlabel": {
           "align": "left"
          },
          "hovermode": "closest",
          "mapbox": {
           "style": "light"
          },
          "paper_bgcolor": "white",
          "plot_bgcolor": "#E5ECF6",
          "polar": {
           "angularaxis": {
            "gridcolor": "white",
            "linecolor": "white",
            "ticks": ""
           },
           "bgcolor": "#E5ECF6",
           "radialaxis": {
            "gridcolor": "white",
            "linecolor": "white",
            "ticks": ""
           }
          },
          "scene": {
           "xaxis": {
            "backgroundcolor": "#E5ECF6",
            "gridcolor": "white",
            "gridwidth": 2,
            "linecolor": "white",
            "showbackground": true,
            "ticks": "",
            "zerolinecolor": "white"
           },
           "yaxis": {
            "backgroundcolor": "#E5ECF6",
            "gridcolor": "white",
            "gridwidth": 2,
            "linecolor": "white",
            "showbackground": true,
            "ticks": "",
            "zerolinecolor": "white"
           },
           "zaxis": {
            "backgroundcolor": "#E5ECF6",
            "gridcolor": "white",
            "gridwidth": 2,
            "linecolor": "white",
            "showbackground": true,
            "ticks": "",
            "zerolinecolor": "white"
           }
          },
          "shapedefaults": {
           "line": {
            "color": "#2a3f5f"
           }
          },
          "ternary": {
           "aaxis": {
            "gridcolor": "white",
            "linecolor": "white",
            "ticks": ""
           },
           "baxis": {
            "gridcolor": "white",
            "linecolor": "white",
            "ticks": ""
           },
           "bgcolor": "#E5ECF6",
           "caxis": {
            "gridcolor": "white",
            "linecolor": "white",
            "ticks": ""
           }
          },
          "title": {
           "x": 0.05
          },
          "xaxis": {
           "automargin": true,
           "gridcolor": "white",
           "linecolor": "white",
           "ticks": "",
           "title": {
            "standoff": 15
           },
           "zerolinecolor": "white",
           "zerolinewidth": 2
          },
          "yaxis": {
           "automargin": true,
           "gridcolor": "white",
           "linecolor": "white",
           "ticks": "",
           "title": {
            "standoff": 15
           },
           "zerolinecolor": "white",
           "zerolinewidth": 2
          }
         }
        },
        "title": {
         "text": "Percentage of Topics per Section"
        },
        "xaxis": {
         "anchor": "y",
         "domain": [
          0,
          0.31999999999999995
         ],
         "title": {
          "text": "percentage"
         }
        },
        "xaxis2": {
         "anchor": "y2",
         "domain": [
          0.33999999999999997,
          0.6599999999999999
         ],
         "matches": "x",
         "title": {
          "text": "percentage"
         }
        },
        "xaxis3": {
         "anchor": "y3",
         "domain": [
          0.6799999999999999,
          0.9999999999999999
         ],
         "matches": "x",
         "title": {
          "text": "percentage"
         }
        },
        "xaxis4": {
         "anchor": "y4",
         "domain": [
          0,
          0.31999999999999995
         ],
         "matches": "x",
         "showticklabels": false
        },
        "xaxis5": {
         "anchor": "y5",
         "domain": [
          0.33999999999999997,
          0.6599999999999999
         ],
         "matches": "x",
         "showticklabels": false
        },
        "xaxis6": {
         "anchor": "y6",
         "domain": [
          0.6799999999999999,
          0.9999999999999999
         ],
         "matches": "x",
         "showticklabels": false
        },
        "yaxis": {
         "anchor": "x",
         "domain": [
          0,
          0.46499999999999997
         ],
         "title": {
          "text": "Topics"
         }
        },
        "yaxis2": {
         "anchor": "x2",
         "domain": [
          0,
          0.46499999999999997
         ],
         "matches": "y",
         "showticklabels": false
        },
        "yaxis3": {
         "anchor": "x3",
         "domain": [
          0,
          0.46499999999999997
         ],
         "matches": "y",
         "showticklabels": false
        },
        "yaxis4": {
         "anchor": "x4",
         "domain": [
          0.5349999999999999,
          0.9999999999999999
         ],
         "matches": "y",
         "title": {
          "text": "Topics"
         }
        },
        "yaxis5": {
         "anchor": "x5",
         "domain": [
          0.5349999999999999,
          0.9999999999999999
         ],
         "matches": "y",
         "showticklabels": false
        },
        "yaxis6": {
         "anchor": "x6",
         "domain": [
          0.5349999999999999,
          0.9999999999999999
         ],
         "matches": "y",
         "showticklabels": false
        }
       }
      }
     },
     "metadata": {},
     "output_type": "display_data"
    }
   ],
   "source": [
    "#Horizontal bar chart\n",
    "fig_section = px.bar(sec_per_df, y=\"Topics\", x=\"percentage\", facet_col=\"section_name\", facet_col_wrap=3,orientation='h',  title=\"Percentage of Topics per Section\")\n",
    "\n",
    "# adjust the size of the plot\n",
    "\n",
    "for a in fig_section.layout.annotations:\n",
    "    a.text = a.text.split(\"=\")[1]\n",
    "\n",
    "\n",
    "fig_section.show()\n"
   ]
  },
  {
   "cell_type": "code",
   "execution_count": 45,
   "metadata": {},
   "outputs": [
    {
     "data": {
      "application/vnd.plotly.v1+json": {
       "config": {
        "plotlyServerURL": "https://plot.ly"
       },
       "data": [
        {
         "alignmentgroup": "True",
         "hovertemplate": "section_name=Books<br>percentage=%{x}<br>Topics=%{y}<extra></extra>",
         "legendgroup": "",
         "marker": {
          "color": "#636efa",
          "pattern": {
           "shape": ""
          }
         },
         "name": "",
         "offsetgroup": "",
         "orientation": "h",
         "showlegend": false,
         "textposition": "auto",
         "type": "bar",
         "x": [
          35.587188612099645,
          7.295373665480427,
          9.07473309608541,
          13.167259786476869,
          4.092526690391459,
          5.693950177935943,
          0.8896797153024911,
          1.7793594306049823,
          1.0676156583629892,
          5.871886120996441,
          7.473309608540926,
          8.00711743772242
         ],
         "xaxis": "x4",
         "y": [
          "3_ai_intelligence_artificial_artificial intelligence",
          "13_data_privacy_big data_protection",
          "18_algorithms_learning_algorithm_machine learning",
          "22_turing_alan_alan turing_test",
          "24_women_female_engineering_gender",
          "25_automation_jobs_davos_revolution",
          "27_drones_drone_unmanned_strikes",
          "29_voice_speech_voices_recognition",
          "32_facial_facial recognition_recognition_faces",
          "33_brain_brains_memory_human",
          "40_language_word_words_translation",
          "42_machines_machine_humans_human"
         ],
         "yaxis": "y4"
        },
        {
         "alignmentgroup": "True",
         "hovertemplate": "section_name=Film<br>percentage=%{x}<br>Topics=%{y}<extra></extra>",
         "legendgroup": "",
         "marker": {
          "color": "#636efa",
          "pattern": {
           "shape": ""
          }
         },
         "name": "",
         "offsetgroup": "",
         "orientation": "h",
         "showlegend": false,
         "textposition": "auto",
         "type": "bar",
         "x": [
          30.88235294117647,
          2.450980392156863,
          3.4313725490196076,
          26.470588235294116,
          4.411764705882353,
          3.9215686274509802,
          2.9411764705882355,
          9.803921568627452,
          0.49019607843137253,
          4.411764705882353,
          4.411764705882353,
          6.372549019607843
         ],
         "xaxis": "x5",
         "y": [
          "3_ai_intelligence_artificial_artificial intelligence",
          "13_data_privacy_big data_protection",
          "18_algorithms_learning_algorithm_machine learning",
          "22_turing_alan_alan turing_test",
          "24_women_female_engineering_gender",
          "25_automation_jobs_davos_revolution",
          "27_drones_drone_unmanned_strikes",
          "29_voice_speech_voices_recognition",
          "32_facial_facial recognition_recognition_faces",
          "33_brain_brains_memory_human",
          "40_language_word_words_translation",
          "42_machines_machine_humans_human"
         ],
         "yaxis": "y5"
        },
        {
         "alignmentgroup": "True",
         "hovertemplate": "section_name=Games<br>percentage=%{x}<br>Topics=%{y}<extra></extra>",
         "legendgroup": "",
         "marker": {
          "color": "#636efa",
          "pattern": {
           "shape": ""
          }
         },
         "name": "",
         "offsetgroup": "",
         "orientation": "h",
         "showlegend": false,
         "textposition": "auto",
         "type": "bar",
         "x": [
          43.714285714285715,
          2,
          2,
          1.4285714285714286,
          26.571428571428573,
          0.2857142857142857,
          5.714285714285714,
          4.571428571428571,
          1.4285714285714286,
          2.5714285714285716,
          6.571428571428571,
          3.142857142857143
         ],
         "xaxis": "x6",
         "y": [
          "3_ai_intelligence_artificial_artificial intelligence",
          "13_data_privacy_big data_protection",
          "18_algorithms_learning_algorithm_machine learning",
          "22_turing_alan_alan turing_test",
          "24_women_female_engineering_gender",
          "25_automation_jobs_davos_revolution",
          "27_drones_drone_unmanned_strikes",
          "29_voice_speech_voices_recognition",
          "32_facial_facial recognition_recognition_faces",
          "33_brain_brains_memory_human",
          "40_language_word_words_translation",
          "42_machines_machine_humans_human"
         ],
         "yaxis": "y6"
        },
        {
         "alignmentgroup": "True",
         "hovertemplate": "section_name=Opinion<br>percentage=%{x}<br>Topics=%{y}<extra></extra>",
         "legendgroup": "",
         "marker": {
          "color": "#636efa",
          "pattern": {
           "shape": ""
          }
         },
         "name": "",
         "offsetgroup": "",
         "orientation": "h",
         "showlegend": false,
         "textposition": "auto",
         "type": "bar",
         "x": [
          24.066168623265742,
          14.834578441835646,
          12.540021344717182,
          2.08110992529349,
          7.20384204909285,
          8.32443970117396,
          5.122732123799359,
          3.2017075773746,
          8.751334044823906,
          2.40128068303095,
          4.268943436499466,
          7.20384204909285
         ],
         "xaxis": "x",
         "y": [
          "3_ai_intelligence_artificial_artificial intelligence",
          "13_data_privacy_big data_protection",
          "18_algorithms_learning_algorithm_machine learning",
          "22_turing_alan_alan turing_test",
          "24_women_female_engineering_gender",
          "25_automation_jobs_davos_revolution",
          "27_drones_drone_unmanned_strikes",
          "29_voice_speech_voices_recognition",
          "32_facial_facial recognition_recognition_faces",
          "33_brain_brains_memory_human",
          "40_language_word_words_translation",
          "42_machines_machine_humans_human"
         ],
         "yaxis": "y"
        },
        {
         "alignmentgroup": "True",
         "hovertemplate": "section_name=Science<br>percentage=%{x}<br>Topics=%{y}<extra></extra>",
         "legendgroup": "",
         "marker": {
          "color": "#636efa",
          "pattern": {
           "shape": ""
          }
         },
         "name": "",
         "offsetgroup": "",
         "orientation": "h",
         "showlegend": false,
         "textposition": "auto",
         "type": "bar",
         "x": [
          22.4976167778837,
          5.529075309818875,
          9.914204003813156,
          18.112488083889417,
          3.336510962821735,
          2.001906577693041,
          2.2878932316491896,
          4.671115347950429,
          0.9532888465204957,
          21.258341277407055,
          4.861773117254528,
          4.575786463298379
         ],
         "xaxis": "x2",
         "y": [
          "3_ai_intelligence_artificial_artificial intelligence",
          "13_data_privacy_big data_protection",
          "18_algorithms_learning_algorithm_machine learning",
          "22_turing_alan_alan turing_test",
          "24_women_female_engineering_gender",
          "25_automation_jobs_davos_revolution",
          "27_drones_drone_unmanned_strikes",
          "29_voice_speech_voices_recognition",
          "32_facial_facial recognition_recognition_faces",
          "33_brain_brains_memory_human",
          "40_language_word_words_translation",
          "42_machines_machine_humans_human"
         ],
         "yaxis": "y2"
        },
        {
         "alignmentgroup": "True",
         "hovertemplate": "section_name=Technology<br>percentage=%{x}<br>Topics=%{y}<extra></extra>",
         "legendgroup": "",
         "marker": {
          "color": "#636efa",
          "pattern": {
           "shape": ""
          }
         },
         "name": "",
         "offsetgroup": "",
         "orientation": "h",
         "showlegend": false,
         "textposition": "auto",
         "type": "bar",
         "x": [
          25.76419213973799,
          10.35191369124069,
          11.19958900590804,
          1.6696634985872079,
          2.594400205497046,
          6.010788594913948,
          4.161315181094272,
          10.043668122270743,
          13.151810942717699,
          5.959414333418957,
          4.05856665810429,
          5.034677626509119
         ],
         "xaxis": "x3",
         "y": [
          "3_ai_intelligence_artificial_artificial intelligence",
          "13_data_privacy_big data_protection",
          "18_algorithms_learning_algorithm_machine learning",
          "22_turing_alan_alan turing_test",
          "24_women_female_engineering_gender",
          "25_automation_jobs_davos_revolution",
          "27_drones_drone_unmanned_strikes",
          "29_voice_speech_voices_recognition",
          "32_facial_facial recognition_recognition_faces",
          "33_brain_brains_memory_human",
          "40_language_word_words_translation",
          "42_machines_machine_humans_human"
         ],
         "yaxis": "y3"
        }
       ],
       "layout": {
        "annotations": [
         {
          "font": {},
          "showarrow": false,
          "text": "Opinion",
          "x": 0.15999999999999998,
          "xanchor": "center",
          "xref": "paper",
          "y": 0.46499999999999997,
          "yanchor": "bottom",
          "yref": "paper"
         },
         {
          "font": {},
          "showarrow": false,
          "text": "Science",
          "x": 0.49999999999999994,
          "xanchor": "center",
          "xref": "paper",
          "y": 0.46499999999999997,
          "yanchor": "bottom",
          "yref": "paper"
         },
         {
          "font": {},
          "showarrow": false,
          "text": "Technology",
          "x": 0.8399999999999999,
          "xanchor": "center",
          "xref": "paper",
          "y": 0.46499999999999997,
          "yanchor": "bottom",
          "yref": "paper"
         },
         {
          "font": {},
          "showarrow": false,
          "text": "Books",
          "x": 0.15999999999999998,
          "xanchor": "center",
          "xref": "paper",
          "y": 0.9999999999999999,
          "yanchor": "bottom",
          "yref": "paper"
         },
         {
          "font": {},
          "showarrow": false,
          "text": "Film",
          "x": 0.49999999999999994,
          "xanchor": "center",
          "xref": "paper",
          "y": 0.9999999999999999,
          "yanchor": "bottom",
          "yref": "paper"
         },
         {
          "font": {},
          "showarrow": false,
          "text": "Games",
          "x": 0.8399999999999999,
          "xanchor": "center",
          "xref": "paper",
          "y": 0.9999999999999999,
          "yanchor": "bottom",
          "yref": "paper"
         }
        ],
        "barmode": "relative",
        "height": 600,
        "legend": {
         "tracegroupgap": 0
        },
        "template": {
         "data": {
          "bar": [
           {
            "error_x": {
             "color": "#2a3f5f"
            },
            "error_y": {
             "color": "#2a3f5f"
            },
            "marker": {
             "line": {
              "color": "#E5ECF6",
              "width": 0.5
             },
             "pattern": {
              "fillmode": "overlay",
              "size": 10,
              "solidity": 0.2
             }
            },
            "type": "bar"
           }
          ],
          "barpolar": [
           {
            "marker": {
             "line": {
              "color": "#E5ECF6",
              "width": 0.5
             },
             "pattern": {
              "fillmode": "overlay",
              "size": 10,
              "solidity": 0.2
             }
            },
            "type": "barpolar"
           }
          ],
          "carpet": [
           {
            "aaxis": {
             "endlinecolor": "#2a3f5f",
             "gridcolor": "white",
             "linecolor": "white",
             "minorgridcolor": "white",
             "startlinecolor": "#2a3f5f"
            },
            "baxis": {
             "endlinecolor": "#2a3f5f",
             "gridcolor": "white",
             "linecolor": "white",
             "minorgridcolor": "white",
             "startlinecolor": "#2a3f5f"
            },
            "type": "carpet"
           }
          ],
          "choropleth": [
           {
            "colorbar": {
             "outlinewidth": 0,
             "ticks": ""
            },
            "type": "choropleth"
           }
          ],
          "contour": [
           {
            "colorbar": {
             "outlinewidth": 0,
             "ticks": ""
            },
            "colorscale": [
             [
              0,
              "#0d0887"
             ],
             [
              0.1111111111111111,
              "#46039f"
             ],
             [
              0.2222222222222222,
              "#7201a8"
             ],
             [
              0.3333333333333333,
              "#9c179e"
             ],
             [
              0.4444444444444444,
              "#bd3786"
             ],
             [
              0.5555555555555556,
              "#d8576b"
             ],
             [
              0.6666666666666666,
              "#ed7953"
             ],
             [
              0.7777777777777778,
              "#fb9f3a"
             ],
             [
              0.8888888888888888,
              "#fdca26"
             ],
             [
              1,
              "#f0f921"
             ]
            ],
            "type": "contour"
           }
          ],
          "contourcarpet": [
           {
            "colorbar": {
             "outlinewidth": 0,
             "ticks": ""
            },
            "type": "contourcarpet"
           }
          ],
          "heatmap": [
           {
            "colorbar": {
             "outlinewidth": 0,
             "ticks": ""
            },
            "colorscale": [
             [
              0,
              "#0d0887"
             ],
             [
              0.1111111111111111,
              "#46039f"
             ],
             [
              0.2222222222222222,
              "#7201a8"
             ],
             [
              0.3333333333333333,
              "#9c179e"
             ],
             [
              0.4444444444444444,
              "#bd3786"
             ],
             [
              0.5555555555555556,
              "#d8576b"
             ],
             [
              0.6666666666666666,
              "#ed7953"
             ],
             [
              0.7777777777777778,
              "#fb9f3a"
             ],
             [
              0.8888888888888888,
              "#fdca26"
             ],
             [
              1,
              "#f0f921"
             ]
            ],
            "type": "heatmap"
           }
          ],
          "heatmapgl": [
           {
            "colorbar": {
             "outlinewidth": 0,
             "ticks": ""
            },
            "colorscale": [
             [
              0,
              "#0d0887"
             ],
             [
              0.1111111111111111,
              "#46039f"
             ],
             [
              0.2222222222222222,
              "#7201a8"
             ],
             [
              0.3333333333333333,
              "#9c179e"
             ],
             [
              0.4444444444444444,
              "#bd3786"
             ],
             [
              0.5555555555555556,
              "#d8576b"
             ],
             [
              0.6666666666666666,
              "#ed7953"
             ],
             [
              0.7777777777777778,
              "#fb9f3a"
             ],
             [
              0.8888888888888888,
              "#fdca26"
             ],
             [
              1,
              "#f0f921"
             ]
            ],
            "type": "heatmapgl"
           }
          ],
          "histogram": [
           {
            "marker": {
             "pattern": {
              "fillmode": "overlay",
              "size": 10,
              "solidity": 0.2
             }
            },
            "type": "histogram"
           }
          ],
          "histogram2d": [
           {
            "colorbar": {
             "outlinewidth": 0,
             "ticks": ""
            },
            "colorscale": [
             [
              0,
              "#0d0887"
             ],
             [
              0.1111111111111111,
              "#46039f"
             ],
             [
              0.2222222222222222,
              "#7201a8"
             ],
             [
              0.3333333333333333,
              "#9c179e"
             ],
             [
              0.4444444444444444,
              "#bd3786"
             ],
             [
              0.5555555555555556,
              "#d8576b"
             ],
             [
              0.6666666666666666,
              "#ed7953"
             ],
             [
              0.7777777777777778,
              "#fb9f3a"
             ],
             [
              0.8888888888888888,
              "#fdca26"
             ],
             [
              1,
              "#f0f921"
             ]
            ],
            "type": "histogram2d"
           }
          ],
          "histogram2dcontour": [
           {
            "colorbar": {
             "outlinewidth": 0,
             "ticks": ""
            },
            "colorscale": [
             [
              0,
              "#0d0887"
             ],
             [
              0.1111111111111111,
              "#46039f"
             ],
             [
              0.2222222222222222,
              "#7201a8"
             ],
             [
              0.3333333333333333,
              "#9c179e"
             ],
             [
              0.4444444444444444,
              "#bd3786"
             ],
             [
              0.5555555555555556,
              "#d8576b"
             ],
             [
              0.6666666666666666,
              "#ed7953"
             ],
             [
              0.7777777777777778,
              "#fb9f3a"
             ],
             [
              0.8888888888888888,
              "#fdca26"
             ],
             [
              1,
              "#f0f921"
             ]
            ],
            "type": "histogram2dcontour"
           }
          ],
          "mesh3d": [
           {
            "colorbar": {
             "outlinewidth": 0,
             "ticks": ""
            },
            "type": "mesh3d"
           }
          ],
          "parcoords": [
           {
            "line": {
             "colorbar": {
              "outlinewidth": 0,
              "ticks": ""
             }
            },
            "type": "parcoords"
           }
          ],
          "pie": [
           {
            "automargin": true,
            "type": "pie"
           }
          ],
          "scatter": [
           {
            "fillpattern": {
             "fillmode": "overlay",
             "size": 10,
             "solidity": 0.2
            },
            "type": "scatter"
           }
          ],
          "scatter3d": [
           {
            "line": {
             "colorbar": {
              "outlinewidth": 0,
              "ticks": ""
             }
            },
            "marker": {
             "colorbar": {
              "outlinewidth": 0,
              "ticks": ""
             }
            },
            "type": "scatter3d"
           }
          ],
          "scattercarpet": [
           {
            "marker": {
             "colorbar": {
              "outlinewidth": 0,
              "ticks": ""
             }
            },
            "type": "scattercarpet"
           }
          ],
          "scattergeo": [
           {
            "marker": {
             "colorbar": {
              "outlinewidth": 0,
              "ticks": ""
             }
            },
            "type": "scattergeo"
           }
          ],
          "scattergl": [
           {
            "marker": {
             "colorbar": {
              "outlinewidth": 0,
              "ticks": ""
             }
            },
            "type": "scattergl"
           }
          ],
          "scattermapbox": [
           {
            "marker": {
             "colorbar": {
              "outlinewidth": 0,
              "ticks": ""
             }
            },
            "type": "scattermapbox"
           }
          ],
          "scatterpolar": [
           {
            "marker": {
             "colorbar": {
              "outlinewidth": 0,
              "ticks": ""
             }
            },
            "type": "scatterpolar"
           }
          ],
          "scatterpolargl": [
           {
            "marker": {
             "colorbar": {
              "outlinewidth": 0,
              "ticks": ""
             }
            },
            "type": "scatterpolargl"
           }
          ],
          "scatterternary": [
           {
            "marker": {
             "colorbar": {
              "outlinewidth": 0,
              "ticks": ""
             }
            },
            "type": "scatterternary"
           }
          ],
          "surface": [
           {
            "colorbar": {
             "outlinewidth": 0,
             "ticks": ""
            },
            "colorscale": [
             [
              0,
              "#0d0887"
             ],
             [
              0.1111111111111111,
              "#46039f"
             ],
             [
              0.2222222222222222,
              "#7201a8"
             ],
             [
              0.3333333333333333,
              "#9c179e"
             ],
             [
              0.4444444444444444,
              "#bd3786"
             ],
             [
              0.5555555555555556,
              "#d8576b"
             ],
             [
              0.6666666666666666,
              "#ed7953"
             ],
             [
              0.7777777777777778,
              "#fb9f3a"
             ],
             [
              0.8888888888888888,
              "#fdca26"
             ],
             [
              1,
              "#f0f921"
             ]
            ],
            "type": "surface"
           }
          ],
          "table": [
           {
            "cells": {
             "fill": {
              "color": "#EBF0F8"
             },
             "line": {
              "color": "white"
             }
            },
            "header": {
             "fill": {
              "color": "#C8D4E3"
             },
             "line": {
              "color": "white"
             }
            },
            "type": "table"
           }
          ]
         },
         "layout": {
          "annotationdefaults": {
           "arrowcolor": "#2a3f5f",
           "arrowhead": 0,
           "arrowwidth": 1
          },
          "autotypenumbers": "strict",
          "coloraxis": {
           "colorbar": {
            "outlinewidth": 0,
            "ticks": ""
           }
          },
          "colorscale": {
           "diverging": [
            [
             0,
             "#8e0152"
            ],
            [
             0.1,
             "#c51b7d"
            ],
            [
             0.2,
             "#de77ae"
            ],
            [
             0.3,
             "#f1b6da"
            ],
            [
             0.4,
             "#fde0ef"
            ],
            [
             0.5,
             "#f7f7f7"
            ],
            [
             0.6,
             "#e6f5d0"
            ],
            [
             0.7,
             "#b8e186"
            ],
            [
             0.8,
             "#7fbc41"
            ],
            [
             0.9,
             "#4d9221"
            ],
            [
             1,
             "#276419"
            ]
           ],
           "sequential": [
            [
             0,
             "#0d0887"
            ],
            [
             0.1111111111111111,
             "#46039f"
            ],
            [
             0.2222222222222222,
             "#7201a8"
            ],
            [
             0.3333333333333333,
             "#9c179e"
            ],
            [
             0.4444444444444444,
             "#bd3786"
            ],
            [
             0.5555555555555556,
             "#d8576b"
            ],
            [
             0.6666666666666666,
             "#ed7953"
            ],
            [
             0.7777777777777778,
             "#fb9f3a"
            ],
            [
             0.8888888888888888,
             "#fdca26"
            ],
            [
             1,
             "#f0f921"
            ]
           ],
           "sequentialminus": [
            [
             0,
             "#0d0887"
            ],
            [
             0.1111111111111111,
             "#46039f"
            ],
            [
             0.2222222222222222,
             "#7201a8"
            ],
            [
             0.3333333333333333,
             "#9c179e"
            ],
            [
             0.4444444444444444,
             "#bd3786"
            ],
            [
             0.5555555555555556,
             "#d8576b"
            ],
            [
             0.6666666666666666,
             "#ed7953"
            ],
            [
             0.7777777777777778,
             "#fb9f3a"
            ],
            [
             0.8888888888888888,
             "#fdca26"
            ],
            [
             1,
             "#f0f921"
            ]
           ]
          },
          "colorway": [
           "#636efa",
           "#EF553B",
           "#00cc96",
           "#ab63fa",
           "#FFA15A",
           "#19d3f3",
           "#FF6692",
           "#B6E880",
           "#FF97FF",
           "#FECB52"
          ],
          "font": {
           "color": "#2a3f5f"
          },
          "geo": {
           "bgcolor": "white",
           "lakecolor": "white",
           "landcolor": "#E5ECF6",
           "showlakes": true,
           "showland": true,
           "subunitcolor": "white"
          },
          "hoverlabel": {
           "align": "left"
          },
          "hovermode": "closest",
          "mapbox": {
           "style": "light"
          },
          "paper_bgcolor": "white",
          "plot_bgcolor": "#E5ECF6",
          "polar": {
           "angularaxis": {
            "gridcolor": "white",
            "linecolor": "white",
            "ticks": ""
           },
           "bgcolor": "#E5ECF6",
           "radialaxis": {
            "gridcolor": "white",
            "linecolor": "white",
            "ticks": ""
           }
          },
          "scene": {
           "xaxis": {
            "backgroundcolor": "#E5ECF6",
            "gridcolor": "white",
            "gridwidth": 2,
            "linecolor": "white",
            "showbackground": true,
            "ticks": "",
            "zerolinecolor": "white"
           },
           "yaxis": {
            "backgroundcolor": "#E5ECF6",
            "gridcolor": "white",
            "gridwidth": 2,
            "linecolor": "white",
            "showbackground": true,
            "ticks": "",
            "zerolinecolor": "white"
           },
           "zaxis": {
            "backgroundcolor": "#E5ECF6",
            "gridcolor": "white",
            "gridwidth": 2,
            "linecolor": "white",
            "showbackground": true,
            "ticks": "",
            "zerolinecolor": "white"
           }
          },
          "shapedefaults": {
           "line": {
            "color": "#2a3f5f"
           }
          },
          "ternary": {
           "aaxis": {
            "gridcolor": "white",
            "linecolor": "white",
            "ticks": ""
           },
           "baxis": {
            "gridcolor": "white",
            "linecolor": "white",
            "ticks": ""
           },
           "bgcolor": "#E5ECF6",
           "caxis": {
            "gridcolor": "white",
            "linecolor": "white",
            "ticks": ""
           }
          },
          "title": {
           "x": 0.05
          },
          "xaxis": {
           "automargin": true,
           "gridcolor": "white",
           "linecolor": "white",
           "ticks": "",
           "title": {
            "standoff": 15
           },
           "zerolinecolor": "white",
           "zerolinewidth": 2
          },
          "yaxis": {
           "automargin": true,
           "gridcolor": "white",
           "linecolor": "white",
           "ticks": "",
           "title": {
            "standoff": 15
           },
           "zerolinecolor": "white",
           "zerolinewidth": 2
          }
         }
        },
        "title": {
         "text": "Percentage of Topics per Section"
        },
        "width": 900,
        "xaxis": {
         "anchor": "y",
         "domain": [
          0,
          0.31999999999999995
         ],
         "title": {
          "text": "percentage"
         }
        },
        "xaxis2": {
         "anchor": "y2",
         "domain": [
          0.33999999999999997,
          0.6599999999999999
         ],
         "matches": "x",
         "title": {
          "text": "percentage"
         }
        },
        "xaxis3": {
         "anchor": "y3",
         "domain": [
          0.6799999999999999,
          0.9999999999999999
         ],
         "matches": "x",
         "title": {
          "text": "percentage"
         }
        },
        "xaxis4": {
         "anchor": "y4",
         "domain": [
          0,
          0.31999999999999995
         ],
         "matches": "x",
         "showticklabels": false
        },
        "xaxis5": {
         "anchor": "y5",
         "domain": [
          0.33999999999999997,
          0.6599999999999999
         ],
         "matches": "x",
         "showticklabels": false
        },
        "xaxis6": {
         "anchor": "y6",
         "domain": [
          0.6799999999999999,
          0.9999999999999999
         ],
         "matches": "x",
         "showticklabels": false
        },
        "yaxis": {
         "anchor": "x",
         "domain": [
          0,
          0.46499999999999997
         ],
         "title": {
          "text": "Topics"
         }
        },
        "yaxis2": {
         "anchor": "x2",
         "domain": [
          0,
          0.46499999999999997
         ],
         "matches": "y",
         "showticklabels": false
        },
        "yaxis3": {
         "anchor": "x3",
         "domain": [
          0,
          0.46499999999999997
         ],
         "matches": "y",
         "showticklabels": false
        },
        "yaxis4": {
         "anchor": "x4",
         "domain": [
          0.5349999999999999,
          0.9999999999999999
         ],
         "matches": "y",
         "title": {
          "text": "Topics"
         }
        },
        "yaxis5": {
         "anchor": "x5",
         "domain": [
          0.5349999999999999,
          0.9999999999999999
         ],
         "matches": "y",
         "showticklabels": false
        },
        "yaxis6": {
         "anchor": "x6",
         "domain": [
          0.5349999999999999,
          0.9999999999999999
         ],
         "matches": "y",
         "showticklabels": false
        }
       }
      }
     },
     "metadata": {},
     "output_type": "display_data"
    }
   ],
   "source": [
    "fig_section.update_layout(height=600, width=900)"
   ]
  },
  {
   "cell_type": "code",
   "execution_count": 57,
   "metadata": {},
   "outputs": [],
   "source": [
    "import kaleido"
   ]
  },
  {
   "cell_type": "code",
   "execution_count": 46,
   "metadata": {},
   "outputs": [],
   "source": [
    "fig_section.write_image(\"../outputs/fig_section.png\")"
   ]
  },
  {
   "cell_type": "code",
   "execution_count": null,
   "metadata": {},
   "outputs": [],
   "source": [
    "# sentiment per section\n",
    "sec_per_df = relevant_df.groupby(['section_name','topic','Name'])['article_nr'].count().groupby(level=0).apply(lambda x: 100 * x / x.sum()).reset_index()"
   ]
  },
  {
   "cell_type": "code",
   "execution_count": 47,
   "metadata": {},
   "outputs": [],
   "source": [
    "# grouping by topic and publication office and getting average sentiment score\n",
    "sentiments_section=relevant_df.groupby(['section_name','topic','Name'])[\"sentiment_score_1\"].mean().reset_index()\n"
   ]
  },
  {
   "cell_type": "code",
   "execution_count": 49,
   "metadata": {},
   "outputs": [],
   "source": [
    "# subset to section_name 'Technology', Opinion, Science, Film, Books, Games\n",
    "sentiments_section = sentiments_section[sentiments_section['section_name'].isin(['Technology', 'Opinion', 'Science','Film', 'Games','Books'])]\n"
   ]
  },
  {
   "cell_type": "code",
   "execution_count": 52,
   "metadata": {},
   "outputs": [],
   "source": [
    "#type of the column article_nr\n",
    "type(sentiments_section['sentiment_score_1'])\n",
    "\n",
    "# convert article_nr to float\n",
    "sentiments_section['sentiment_score_1'] = sentiments_section['sentiment_score_1'].astype(float)"
   ]
  },
  {
   "cell_type": "code",
   "execution_count": 55,
   "metadata": {},
   "outputs": [
    {
     "data": {
      "text/html": [
       "<div>\n",
       "<style scoped>\n",
       "    .dataframe tbody tr th:only-of-type {\n",
       "        vertical-align: middle;\n",
       "    }\n",
       "\n",
       "    .dataframe tbody tr th {\n",
       "        vertical-align: top;\n",
       "    }\n",
       "\n",
       "    .dataframe thead th {\n",
       "        text-align: right;\n",
       "    }\n",
       "</style>\n",
       "<table border=\"1\" class=\"dataframe\">\n",
       "  <thead>\n",
       "    <tr style=\"text-align: right;\">\n",
       "      <th></th>\n",
       "      <th>section_name</th>\n",
       "      <th>topic</th>\n",
       "      <th>Topics</th>\n",
       "      <th>Sentiment Score</th>\n",
       "    </tr>\n",
       "  </thead>\n",
       "  <tbody>\n",
       "    <tr>\n",
       "      <th>27</th>\n",
       "      <td>Books</td>\n",
       "      <td>3</td>\n",
       "      <td>3_ai_intelligence_artificial_artificial intell...</td>\n",
       "      <td>0.152602</td>\n",
       "    </tr>\n",
       "    <tr>\n",
       "      <th>28</th>\n",
       "      <td>Books</td>\n",
       "      <td>13</td>\n",
       "      <td>13_data_privacy_big data_protection</td>\n",
       "      <td>0.264090</td>\n",
       "    </tr>\n",
       "    <tr>\n",
       "      <th>29</th>\n",
       "      <td>Books</td>\n",
       "      <td>18</td>\n",
       "      <td>18_algorithms_learning_algorithm_machine learning</td>\n",
       "      <td>-0.446167</td>\n",
       "    </tr>\n",
       "    <tr>\n",
       "      <th>30</th>\n",
       "      <td>Books</td>\n",
       "      <td>22</td>\n",
       "      <td>22_turing_alan_alan turing_test</td>\n",
       "      <td>0.592437</td>\n",
       "    </tr>\n",
       "    <tr>\n",
       "      <th>31</th>\n",
       "      <td>Books</td>\n",
       "      <td>24</td>\n",
       "      <td>24_women_female_engineering_gender</td>\n",
       "      <td>0.125154</td>\n",
       "    </tr>\n",
       "  </tbody>\n",
       "</table>\n",
       "</div>"
      ],
      "text/plain": [
       "   section_name  topic                                             Topics  \\\n",
       "27        Books      3  3_ai_intelligence_artificial_artificial intell...   \n",
       "28        Books     13                13_data_privacy_big data_protection   \n",
       "29        Books     18  18_algorithms_learning_algorithm_machine learning   \n",
       "30        Books     22                    22_turing_alan_alan turing_test   \n",
       "31        Books     24                 24_women_female_engineering_gender   \n",
       "\n",
       "    Sentiment Score  \n",
       "27         0.152602  \n",
       "28         0.264090  \n",
       "29        -0.446167  \n",
       "30         0.592437  \n",
       "31         0.125154  "
      ]
     },
     "execution_count": 55,
     "metadata": {},
     "output_type": "execute_result"
    }
   ],
   "source": [
    "# rename the column 'article_nr' to 'percentage'\n",
    "sentiments_section.rename(columns={'sentiment_score_1': 'Sentiment Score'}, inplace=True)\n",
    "sentiments_section.rename(columns={'Name': 'Topics'}, inplace=True)\n",
    "\n",
    "sentiments_section.head()"
   ]
  },
  {
   "cell_type": "code",
   "execution_count": 56,
   "metadata": {},
   "outputs": [
    {
     "data": {
      "application/vnd.plotly.v1+json": {
       "config": {
        "plotlyServerURL": "https://plot.ly"
       },
       "data": [
        {
         "alignmentgroup": "True",
         "hovertemplate": "section_name=Books<br>Sentiment Score=%{x}<br>Topics=%{y}<extra></extra>",
         "legendgroup": "",
         "marker": {
          "color": "#636efa",
          "pattern": {
           "shape": ""
          }
         },
         "name": "",
         "offsetgroup": "",
         "orientation": "h",
         "showlegend": false,
         "textposition": "auto",
         "type": "bar",
         "x": [
          0.15260164707899093,
          0.2640896541316335,
          -0.44616668130837234,
          0.5924372753581485,
          0.12515420499055283,
          0.3620676249265671,
          -0.19219937324523922,
          0.6087639987468719,
          -0.3370140790939331,
          0.21157897783048224,
          0.039399856612795894,
          -0.1179233193397522
         ],
         "xaxis": "x4",
         "y": [
          "3_ai_intelligence_artificial_artificial intelligence",
          "13_data_privacy_big data_protection",
          "18_algorithms_learning_algorithm_machine learning",
          "22_turing_alan_alan turing_test",
          "24_women_female_engineering_gender",
          "25_automation_jobs_davos_revolution",
          "27_drones_drone_unmanned_strikes",
          "29_voice_speech_voices_recognition",
          "32_facial_facial recognition_recognition_faces",
          "33_brain_brains_memory_human",
          "40_language_word_words_translation",
          "42_machines_machine_humans_human"
         ],
         "yaxis": "y4"
        },
        {
         "alignmentgroup": "True",
         "hovertemplate": "section_name=Film<br>Sentiment Score=%{x}<br>Topics=%{y}<extra></extra>",
         "legendgroup": "",
         "marker": {
          "color": "#636efa",
          "pattern": {
           "shape": ""
          }
         },
         "name": "",
         "offsetgroup": "",
         "orientation": "h",
         "showlegend": false,
         "textposition": "auto",
         "type": "bar",
         "x": [
          0.26545982985269456,
          0.19331822395324705,
          -0.42871033293860294,
          0.3297155620875182,
          -0.552807973490821,
          0.49753452092409134,
          -0.0017850498358408795,
          -0.29950983822345734,
          0.9980666041374208,
          -0.10652395089467365,
          -0.10840357012218894,
          -0.5268845466467051
         ],
         "xaxis": "x5",
         "y": [
          "3_ai_intelligence_artificial_artificial intelligence",
          "13_data_privacy_big data_protection",
          "18_algorithms_learning_algorithm_machine learning",
          "22_turing_alan_alan turing_test",
          "24_women_female_engineering_gender",
          "25_automation_jobs_davos_revolution",
          "27_drones_drone_unmanned_strikes",
          "29_voice_speech_voices_recognition",
          "32_facial_facial recognition_recognition_faces",
          "33_brain_brains_memory_human",
          "40_language_word_words_translation",
          "42_machines_machine_humans_human"
         ],
         "yaxis": "y5"
        },
        {
         "alignmentgroup": "True",
         "hovertemplate": "section_name=Games<br>Sentiment Score=%{x}<br>Topics=%{y}<extra></extra>",
         "legendgroup": "",
         "marker": {
          "color": "#636efa",
          "pattern": {
           "shape": ""
          }
         },
         "name": "",
         "offsetgroup": "",
         "orientation": "h",
         "showlegend": false,
         "textposition": "auto",
         "type": "bar",
         "x": [
          0.4765814546666114,
          0.42720394475119455,
          0.4215351513453892,
          0.9964631080627442,
          -0.004869545018801118,
          -0.9953719973564148,
          0.1992322862148285,
          0.2434951812028885,
          -0.19993045330047607,
          0.7731151845720079,
          0.5624466201533442,
          0.6367380348118868
         ],
         "xaxis": "x6",
         "y": [
          "3_ai_intelligence_artificial_artificial intelligence",
          "13_data_privacy_big data_protection",
          "18_algorithms_learning_algorithm_machine learning",
          "22_turing_alan_alan turing_test",
          "24_women_female_engineering_gender",
          "25_automation_jobs_davos_revolution",
          "27_drones_drone_unmanned_strikes",
          "29_voice_speech_voices_recognition",
          "32_facial_facial recognition_recognition_faces",
          "33_brain_brains_memory_human",
          "40_language_word_words_translation",
          "42_machines_machine_humans_human"
         ],
         "yaxis": "y6"
        },
        {
         "alignmentgroup": "True",
         "hovertemplate": "section_name=Opinion<br>Sentiment Score=%{x}<br>Topics=%{y}<extra></extra>",
         "legendgroup": "",
         "marker": {
          "color": "#636efa",
          "pattern": {
           "shape": ""
          }
         },
         "name": "",
         "offsetgroup": "",
         "orientation": "h",
         "showlegend": false,
         "textposition": "auto",
         "type": "bar",
         "x": [
          0.058568275159848505,
          0.0259605127272846,
          -0.12854617326817613,
          0.2301448079255911,
          0.055363379142902513,
          -0.08364255688129327,
          -0.33236125980814296,
          -0.10041016538937884,
          -0.3963591627231458,
          0.19646645784378053,
          0.0960836723446846,
          -0.1076844608342206
         ],
         "xaxis": "x",
         "y": [
          "3_ai_intelligence_artificial_artificial intelligence",
          "13_data_privacy_big data_protection",
          "18_algorithms_learning_algorithm_machine learning",
          "22_turing_alan_alan turing_test",
          "24_women_female_engineering_gender",
          "25_automation_jobs_davos_revolution",
          "27_drones_drone_unmanned_strikes",
          "29_voice_speech_voices_recognition",
          "32_facial_facial recognition_recognition_faces",
          "33_brain_brains_memory_human",
          "40_language_word_words_translation",
          "42_machines_machine_humans_human"
         ],
         "yaxis": "y"
        },
        {
         "alignmentgroup": "True",
         "hovertemplate": "section_name=Science<br>Sentiment Score=%{x}<br>Topics=%{y}<extra></extra>",
         "legendgroup": "",
         "marker": {
          "color": "#636efa",
          "pattern": {
           "shape": ""
          }
         },
         "name": "",
         "offsetgroup": "",
         "orientation": "h",
         "showlegend": false,
         "textposition": "auto",
         "type": "bar",
         "x": [
          0.21348995147115093,
          0.03121900866771566,
          0.32788320860037434,
          0.5044220027170683,
          -0.026664810521262027,
          0.4288097392945063,
          0.08382334063450493,
          0.3462316406016447,
          -0.20017925500869752,
          0.4333219816866477,
          0.10198678923588173,
          -0.24295311172803244
         ],
         "xaxis": "x2",
         "y": [
          "3_ai_intelligence_artificial_artificial intelligence",
          "13_data_privacy_big data_protection",
          "18_algorithms_learning_algorithm_machine learning",
          "22_turing_alan_alan turing_test",
          "24_women_female_engineering_gender",
          "25_automation_jobs_davos_revolution",
          "27_drones_drone_unmanned_strikes",
          "29_voice_speech_voices_recognition",
          "32_facial_facial recognition_recognition_faces",
          "33_brain_brains_memory_human",
          "40_language_word_words_translation",
          "42_machines_machine_humans_human"
         ],
         "yaxis": "y2"
        },
        {
         "alignmentgroup": "True",
         "hovertemplate": "section_name=Technology<br>Sentiment Score=%{x}<br>Topics=%{y}<extra></extra>",
         "legendgroup": "",
         "marker": {
          "color": "#636efa",
          "pattern": {
           "shape": ""
          }
         },
         "name": "",
         "offsetgroup": "",
         "orientation": "h",
         "showlegend": false,
         "textposition": "auto",
         "type": "bar",
         "x": [
          0.15152508561180927,
          0.0032296583019474304,
          -0.019341569154634388,
          0.2870166833584125,
          0.14767236225675828,
          0.090091904768577,
          0.040362247714289916,
          0.3258442706464197,
          -0.09264632489066571,
          0.41537986541616506,
          0.01188902990727485,
          0.0020411698793878327
         ],
         "xaxis": "x3",
         "y": [
          "3_ai_intelligence_artificial_artificial intelligence",
          "13_data_privacy_big data_protection",
          "18_algorithms_learning_algorithm_machine learning",
          "22_turing_alan_alan turing_test",
          "24_women_female_engineering_gender",
          "25_automation_jobs_davos_revolution",
          "27_drones_drone_unmanned_strikes",
          "29_voice_speech_voices_recognition",
          "32_facial_facial recognition_recognition_faces",
          "33_brain_brains_memory_human",
          "40_language_word_words_translation",
          "42_machines_machine_humans_human"
         ],
         "yaxis": "y3"
        }
       ],
       "layout": {
        "annotations": [
         {
          "font": {},
          "showarrow": false,
          "text": "Opinion",
          "x": 0.15999999999999998,
          "xanchor": "center",
          "xref": "paper",
          "y": 0.46499999999999997,
          "yanchor": "bottom",
          "yref": "paper"
         },
         {
          "font": {},
          "showarrow": false,
          "text": "Science",
          "x": 0.49999999999999994,
          "xanchor": "center",
          "xref": "paper",
          "y": 0.46499999999999997,
          "yanchor": "bottom",
          "yref": "paper"
         },
         {
          "font": {},
          "showarrow": false,
          "text": "Technology",
          "x": 0.8399999999999999,
          "xanchor": "center",
          "xref": "paper",
          "y": 0.46499999999999997,
          "yanchor": "bottom",
          "yref": "paper"
         },
         {
          "font": {},
          "showarrow": false,
          "text": "Books",
          "x": 0.15999999999999998,
          "xanchor": "center",
          "xref": "paper",
          "y": 0.9999999999999999,
          "yanchor": "bottom",
          "yref": "paper"
         },
         {
          "font": {},
          "showarrow": false,
          "text": "Film",
          "x": 0.49999999999999994,
          "xanchor": "center",
          "xref": "paper",
          "y": 0.9999999999999999,
          "yanchor": "bottom",
          "yref": "paper"
         },
         {
          "font": {},
          "showarrow": false,
          "text": "Games",
          "x": 0.8399999999999999,
          "xanchor": "center",
          "xref": "paper",
          "y": 0.9999999999999999,
          "yanchor": "bottom",
          "yref": "paper"
         }
        ],
        "barmode": "relative",
        "height": 600,
        "legend": {
         "tracegroupgap": 0
        },
        "template": {
         "data": {
          "bar": [
           {
            "error_x": {
             "color": "#2a3f5f"
            },
            "error_y": {
             "color": "#2a3f5f"
            },
            "marker": {
             "line": {
              "color": "#E5ECF6",
              "width": 0.5
             },
             "pattern": {
              "fillmode": "overlay",
              "size": 10,
              "solidity": 0.2
             }
            },
            "type": "bar"
           }
          ],
          "barpolar": [
           {
            "marker": {
             "line": {
              "color": "#E5ECF6",
              "width": 0.5
             },
             "pattern": {
              "fillmode": "overlay",
              "size": 10,
              "solidity": 0.2
             }
            },
            "type": "barpolar"
           }
          ],
          "carpet": [
           {
            "aaxis": {
             "endlinecolor": "#2a3f5f",
             "gridcolor": "white",
             "linecolor": "white",
             "minorgridcolor": "white",
             "startlinecolor": "#2a3f5f"
            },
            "baxis": {
             "endlinecolor": "#2a3f5f",
             "gridcolor": "white",
             "linecolor": "white",
             "minorgridcolor": "white",
             "startlinecolor": "#2a3f5f"
            },
            "type": "carpet"
           }
          ],
          "choropleth": [
           {
            "colorbar": {
             "outlinewidth": 0,
             "ticks": ""
            },
            "type": "choropleth"
           }
          ],
          "contour": [
           {
            "colorbar": {
             "outlinewidth": 0,
             "ticks": ""
            },
            "colorscale": [
             [
              0,
              "#0d0887"
             ],
             [
              0.1111111111111111,
              "#46039f"
             ],
             [
              0.2222222222222222,
              "#7201a8"
             ],
             [
              0.3333333333333333,
              "#9c179e"
             ],
             [
              0.4444444444444444,
              "#bd3786"
             ],
             [
              0.5555555555555556,
              "#d8576b"
             ],
             [
              0.6666666666666666,
              "#ed7953"
             ],
             [
              0.7777777777777778,
              "#fb9f3a"
             ],
             [
              0.8888888888888888,
              "#fdca26"
             ],
             [
              1,
              "#f0f921"
             ]
            ],
            "type": "contour"
           }
          ],
          "contourcarpet": [
           {
            "colorbar": {
             "outlinewidth": 0,
             "ticks": ""
            },
            "type": "contourcarpet"
           }
          ],
          "heatmap": [
           {
            "colorbar": {
             "outlinewidth": 0,
             "ticks": ""
            },
            "colorscale": [
             [
              0,
              "#0d0887"
             ],
             [
              0.1111111111111111,
              "#46039f"
             ],
             [
              0.2222222222222222,
              "#7201a8"
             ],
             [
              0.3333333333333333,
              "#9c179e"
             ],
             [
              0.4444444444444444,
              "#bd3786"
             ],
             [
              0.5555555555555556,
              "#d8576b"
             ],
             [
              0.6666666666666666,
              "#ed7953"
             ],
             [
              0.7777777777777778,
              "#fb9f3a"
             ],
             [
              0.8888888888888888,
              "#fdca26"
             ],
             [
              1,
              "#f0f921"
             ]
            ],
            "type": "heatmap"
           }
          ],
          "heatmapgl": [
           {
            "colorbar": {
             "outlinewidth": 0,
             "ticks": ""
            },
            "colorscale": [
             [
              0,
              "#0d0887"
             ],
             [
              0.1111111111111111,
              "#46039f"
             ],
             [
              0.2222222222222222,
              "#7201a8"
             ],
             [
              0.3333333333333333,
              "#9c179e"
             ],
             [
              0.4444444444444444,
              "#bd3786"
             ],
             [
              0.5555555555555556,
              "#d8576b"
             ],
             [
              0.6666666666666666,
              "#ed7953"
             ],
             [
              0.7777777777777778,
              "#fb9f3a"
             ],
             [
              0.8888888888888888,
              "#fdca26"
             ],
             [
              1,
              "#f0f921"
             ]
            ],
            "type": "heatmapgl"
           }
          ],
          "histogram": [
           {
            "marker": {
             "pattern": {
              "fillmode": "overlay",
              "size": 10,
              "solidity": 0.2
             }
            },
            "type": "histogram"
           }
          ],
          "histogram2d": [
           {
            "colorbar": {
             "outlinewidth": 0,
             "ticks": ""
            },
            "colorscale": [
             [
              0,
              "#0d0887"
             ],
             [
              0.1111111111111111,
              "#46039f"
             ],
             [
              0.2222222222222222,
              "#7201a8"
             ],
             [
              0.3333333333333333,
              "#9c179e"
             ],
             [
              0.4444444444444444,
              "#bd3786"
             ],
             [
              0.5555555555555556,
              "#d8576b"
             ],
             [
              0.6666666666666666,
              "#ed7953"
             ],
             [
              0.7777777777777778,
              "#fb9f3a"
             ],
             [
              0.8888888888888888,
              "#fdca26"
             ],
             [
              1,
              "#f0f921"
             ]
            ],
            "type": "histogram2d"
           }
          ],
          "histogram2dcontour": [
           {
            "colorbar": {
             "outlinewidth": 0,
             "ticks": ""
            },
            "colorscale": [
             [
              0,
              "#0d0887"
             ],
             [
              0.1111111111111111,
              "#46039f"
             ],
             [
              0.2222222222222222,
              "#7201a8"
             ],
             [
              0.3333333333333333,
              "#9c179e"
             ],
             [
              0.4444444444444444,
              "#bd3786"
             ],
             [
              0.5555555555555556,
              "#d8576b"
             ],
             [
              0.6666666666666666,
              "#ed7953"
             ],
             [
              0.7777777777777778,
              "#fb9f3a"
             ],
             [
              0.8888888888888888,
              "#fdca26"
             ],
             [
              1,
              "#f0f921"
             ]
            ],
            "type": "histogram2dcontour"
           }
          ],
          "mesh3d": [
           {
            "colorbar": {
             "outlinewidth": 0,
             "ticks": ""
            },
            "type": "mesh3d"
           }
          ],
          "parcoords": [
           {
            "line": {
             "colorbar": {
              "outlinewidth": 0,
              "ticks": ""
             }
            },
            "type": "parcoords"
           }
          ],
          "pie": [
           {
            "automargin": true,
            "type": "pie"
           }
          ],
          "scatter": [
           {
            "fillpattern": {
             "fillmode": "overlay",
             "size": 10,
             "solidity": 0.2
            },
            "type": "scatter"
           }
          ],
          "scatter3d": [
           {
            "line": {
             "colorbar": {
              "outlinewidth": 0,
              "ticks": ""
             }
            },
            "marker": {
             "colorbar": {
              "outlinewidth": 0,
              "ticks": ""
             }
            },
            "type": "scatter3d"
           }
          ],
          "scattercarpet": [
           {
            "marker": {
             "colorbar": {
              "outlinewidth": 0,
              "ticks": ""
             }
            },
            "type": "scattercarpet"
           }
          ],
          "scattergeo": [
           {
            "marker": {
             "colorbar": {
              "outlinewidth": 0,
              "ticks": ""
             }
            },
            "type": "scattergeo"
           }
          ],
          "scattergl": [
           {
            "marker": {
             "colorbar": {
              "outlinewidth": 0,
              "ticks": ""
             }
            },
            "type": "scattergl"
           }
          ],
          "scattermapbox": [
           {
            "marker": {
             "colorbar": {
              "outlinewidth": 0,
              "ticks": ""
             }
            },
            "type": "scattermapbox"
           }
          ],
          "scatterpolar": [
           {
            "marker": {
             "colorbar": {
              "outlinewidth": 0,
              "ticks": ""
             }
            },
            "type": "scatterpolar"
           }
          ],
          "scatterpolargl": [
           {
            "marker": {
             "colorbar": {
              "outlinewidth": 0,
              "ticks": ""
             }
            },
            "type": "scatterpolargl"
           }
          ],
          "scatterternary": [
           {
            "marker": {
             "colorbar": {
              "outlinewidth": 0,
              "ticks": ""
             }
            },
            "type": "scatterternary"
           }
          ],
          "surface": [
           {
            "colorbar": {
             "outlinewidth": 0,
             "ticks": ""
            },
            "colorscale": [
             [
              0,
              "#0d0887"
             ],
             [
              0.1111111111111111,
              "#46039f"
             ],
             [
              0.2222222222222222,
              "#7201a8"
             ],
             [
              0.3333333333333333,
              "#9c179e"
             ],
             [
              0.4444444444444444,
              "#bd3786"
             ],
             [
              0.5555555555555556,
              "#d8576b"
             ],
             [
              0.6666666666666666,
              "#ed7953"
             ],
             [
              0.7777777777777778,
              "#fb9f3a"
             ],
             [
              0.8888888888888888,
              "#fdca26"
             ],
             [
              1,
              "#f0f921"
             ]
            ],
            "type": "surface"
           }
          ],
          "table": [
           {
            "cells": {
             "fill": {
              "color": "#EBF0F8"
             },
             "line": {
              "color": "white"
             }
            },
            "header": {
             "fill": {
              "color": "#C8D4E3"
             },
             "line": {
              "color": "white"
             }
            },
            "type": "table"
           }
          ]
         },
         "layout": {
          "annotationdefaults": {
           "arrowcolor": "#2a3f5f",
           "arrowhead": 0,
           "arrowwidth": 1
          },
          "autotypenumbers": "strict",
          "coloraxis": {
           "colorbar": {
            "outlinewidth": 0,
            "ticks": ""
           }
          },
          "colorscale": {
           "diverging": [
            [
             0,
             "#8e0152"
            ],
            [
             0.1,
             "#c51b7d"
            ],
            [
             0.2,
             "#de77ae"
            ],
            [
             0.3,
             "#f1b6da"
            ],
            [
             0.4,
             "#fde0ef"
            ],
            [
             0.5,
             "#f7f7f7"
            ],
            [
             0.6,
             "#e6f5d0"
            ],
            [
             0.7,
             "#b8e186"
            ],
            [
             0.8,
             "#7fbc41"
            ],
            [
             0.9,
             "#4d9221"
            ],
            [
             1,
             "#276419"
            ]
           ],
           "sequential": [
            [
             0,
             "#0d0887"
            ],
            [
             0.1111111111111111,
             "#46039f"
            ],
            [
             0.2222222222222222,
             "#7201a8"
            ],
            [
             0.3333333333333333,
             "#9c179e"
            ],
            [
             0.4444444444444444,
             "#bd3786"
            ],
            [
             0.5555555555555556,
             "#d8576b"
            ],
            [
             0.6666666666666666,
             "#ed7953"
            ],
            [
             0.7777777777777778,
             "#fb9f3a"
            ],
            [
             0.8888888888888888,
             "#fdca26"
            ],
            [
             1,
             "#f0f921"
            ]
           ],
           "sequentialminus": [
            [
             0,
             "#0d0887"
            ],
            [
             0.1111111111111111,
             "#46039f"
            ],
            [
             0.2222222222222222,
             "#7201a8"
            ],
            [
             0.3333333333333333,
             "#9c179e"
            ],
            [
             0.4444444444444444,
             "#bd3786"
            ],
            [
             0.5555555555555556,
             "#d8576b"
            ],
            [
             0.6666666666666666,
             "#ed7953"
            ],
            [
             0.7777777777777778,
             "#fb9f3a"
            ],
            [
             0.8888888888888888,
             "#fdca26"
            ],
            [
             1,
             "#f0f921"
            ]
           ]
          },
          "colorway": [
           "#636efa",
           "#EF553B",
           "#00cc96",
           "#ab63fa",
           "#FFA15A",
           "#19d3f3",
           "#FF6692",
           "#B6E880",
           "#FF97FF",
           "#FECB52"
          ],
          "font": {
           "color": "#2a3f5f"
          },
          "geo": {
           "bgcolor": "white",
           "lakecolor": "white",
           "landcolor": "#E5ECF6",
           "showlakes": true,
           "showland": true,
           "subunitcolor": "white"
          },
          "hoverlabel": {
           "align": "left"
          },
          "hovermode": "closest",
          "mapbox": {
           "style": "light"
          },
          "paper_bgcolor": "white",
          "plot_bgcolor": "#E5ECF6",
          "polar": {
           "angularaxis": {
            "gridcolor": "white",
            "linecolor": "white",
            "ticks": ""
           },
           "bgcolor": "#E5ECF6",
           "radialaxis": {
            "gridcolor": "white",
            "linecolor": "white",
            "ticks": ""
           }
          },
          "scene": {
           "xaxis": {
            "backgroundcolor": "#E5ECF6",
            "gridcolor": "white",
            "gridwidth": 2,
            "linecolor": "white",
            "showbackground": true,
            "ticks": "",
            "zerolinecolor": "white"
           },
           "yaxis": {
            "backgroundcolor": "#E5ECF6",
            "gridcolor": "white",
            "gridwidth": 2,
            "linecolor": "white",
            "showbackground": true,
            "ticks": "",
            "zerolinecolor": "white"
           },
           "zaxis": {
            "backgroundcolor": "#E5ECF6",
            "gridcolor": "white",
            "gridwidth": 2,
            "linecolor": "white",
            "showbackground": true,
            "ticks": "",
            "zerolinecolor": "white"
           }
          },
          "shapedefaults": {
           "line": {
            "color": "#2a3f5f"
           }
          },
          "ternary": {
           "aaxis": {
            "gridcolor": "white",
            "linecolor": "white",
            "ticks": ""
           },
           "baxis": {
            "gridcolor": "white",
            "linecolor": "white",
            "ticks": ""
           },
           "bgcolor": "#E5ECF6",
           "caxis": {
            "gridcolor": "white",
            "linecolor": "white",
            "ticks": ""
           }
          },
          "title": {
           "x": 0.05
          },
          "xaxis": {
           "automargin": true,
           "gridcolor": "white",
           "linecolor": "white",
           "ticks": "",
           "title": {
            "standoff": 15
           },
           "zerolinecolor": "white",
           "zerolinewidth": 2
          },
          "yaxis": {
           "automargin": true,
           "gridcolor": "white",
           "linecolor": "white",
           "ticks": "",
           "title": {
            "standoff": 15
           },
           "zerolinecolor": "white",
           "zerolinewidth": 2
          }
         }
        },
        "title": {
         "text": "Sentiment per Topic per Section"
        },
        "width": 900,
        "xaxis": {
         "anchor": "y",
         "domain": [
          0,
          0.31999999999999995
         ],
         "title": {
          "text": "Sentiment Score"
         }
        },
        "xaxis2": {
         "anchor": "y2",
         "domain": [
          0.33999999999999997,
          0.6599999999999999
         ],
         "matches": "x",
         "title": {
          "text": "Sentiment Score"
         }
        },
        "xaxis3": {
         "anchor": "y3",
         "domain": [
          0.6799999999999999,
          0.9999999999999999
         ],
         "matches": "x",
         "title": {
          "text": "Sentiment Score"
         }
        },
        "xaxis4": {
         "anchor": "y4",
         "domain": [
          0,
          0.31999999999999995
         ],
         "matches": "x",
         "showticklabels": false
        },
        "xaxis5": {
         "anchor": "y5",
         "domain": [
          0.33999999999999997,
          0.6599999999999999
         ],
         "matches": "x",
         "showticklabels": false
        },
        "xaxis6": {
         "anchor": "y6",
         "domain": [
          0.6799999999999999,
          0.9999999999999999
         ],
         "matches": "x",
         "showticklabels": false
        },
        "yaxis": {
         "anchor": "x",
         "domain": [
          0,
          0.46499999999999997
         ],
         "title": {
          "text": "Topics"
         }
        },
        "yaxis2": {
         "anchor": "x2",
         "domain": [
          0,
          0.46499999999999997
         ],
         "matches": "y",
         "showticklabels": false
        },
        "yaxis3": {
         "anchor": "x3",
         "domain": [
          0,
          0.46499999999999997
         ],
         "matches": "y",
         "showticklabels": false
        },
        "yaxis4": {
         "anchor": "x4",
         "domain": [
          0.5349999999999999,
          0.9999999999999999
         ],
         "matches": "y",
         "title": {
          "text": "Topics"
         }
        },
        "yaxis5": {
         "anchor": "x5",
         "domain": [
          0.5349999999999999,
          0.9999999999999999
         ],
         "matches": "y",
         "showticklabels": false
        },
        "yaxis6": {
         "anchor": "x6",
         "domain": [
          0.5349999999999999,
          0.9999999999999999
         ],
         "matches": "y",
         "showticklabels": false
        }
       }
      }
     },
     "metadata": {},
     "output_type": "display_data"
    }
   ],
   "source": [
    "#Horizontal bar chart\n",
    "fig_sent_sec = px.bar(sentiments_section, y=\"Topics\", x=\"Sentiment Score\", facet_col=\"section_name\", facet_col_wrap=3,orientation='h',  title=\"Sentiment per Topic per Section\")\n",
    "\n",
    "# adjust the size of the plot\n",
    "\n",
    "for a in fig_sent_sec.layout.annotations:\n",
    "    a.text = a.text.split(\"=\")[1]\n",
    "\n",
    "fig_sent_sec.update_layout(height=600, width=900)\n",
    "\n",
    "fig_sent_sec.show()"
   ]
  },
  {
   "cell_type": "code",
   "execution_count": 58,
   "metadata": {},
   "outputs": [],
   "source": [
    "fig_sent_sec.write_image(\"../outputs/sentiment_section.png\")"
   ]
  }
 ],
 "metadata": {
  "kernelspec": {
   "display_name": "Python 3.10.5 64-bit ('3.10.5')",
   "language": "python",
   "name": "python3"
  },
  "language_info": {
   "codemirror_mode": {
    "name": "ipython",
    "version": 3
   },
   "file_extension": ".py",
   "mimetype": "text/x-python",
   "name": "python",
   "nbconvert_exporter": "python",
   "pygments_lexer": "ipython3",
   "version": "3.10.5"
  },
  "orig_nbformat": 4,
  "vscode": {
   "interpreter": {
    "hash": "1c4d33c217a9db466d5399b8d7c323266775bfaf39bf9dda210842eed7ff33d4"
   }
  }
 },
 "nbformat": 4,
 "nbformat_minor": 2
}
